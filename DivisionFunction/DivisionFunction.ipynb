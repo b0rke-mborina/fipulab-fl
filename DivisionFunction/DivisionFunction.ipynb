{
 "cells": [
  {
   "cell_type": "code",
   "execution_count": 1,
   "id": "957ed7ff",
   "metadata": {},
   "outputs": [],
   "source": [
    "import numpy as np\n",
    "import pandas as pd"
   ]
  },
  {
   "cell_type": "code",
   "execution_count": 2,
   "id": "2932922d",
   "metadata": {},
   "outputs": [],
   "source": [
    "def divideDataset(fileName, n):\n",
    "    text_file = open(\"data/\" + fileName + \".txt\", \"r\")\n",
    "    lines = text_file.read().split('\\n')\n",
    "    text_file.close()\n",
    "    splitArray=np.array_split(lines, n)\n",
    "    return splitArray\n",
    "    # i=1\n",
    "    # for part in splitArray:\n",
    "        # # print(part)\n",
    "        # file = open(fileName + \"-\" + str(i) + \".txt\", \"a\")\n",
    "        # for line in part:\n",
    "            # file.write(line + \"\\n\")\n",
    "        # file.close()\n",
    "        # i=i+1"
   ]
  },
  {
   "cell_type": "code",
   "execution_count": 3,
   "id": "640f3fd5",
   "metadata": {},
   "outputs": [],
   "source": [
    "arr=divideDataset(\"train\", 4);"
   ]
  },
  {
   "cell_type": "code",
   "execution_count": 4,
   "id": "c37fd230",
   "metadata": {},
   "outputs": [
    {
     "data": {
      "text/plain": [
       "[array(['-DOCSTART- -X- -X- O', '', 'EU NNP B-NP B-ORG', ...,\n",
       "        '7 CD B-NP O', '', '0 CD B-NP O'], dtype='<U69'),\n",
       " array(['Nick NNP I-NP B-PER', 'Faldo NNP I-NP I-PER', '( ( O O', ...,\n",
       "        'East NNP B-NP B-LOC', 'Jerusalem NNP I-NP I-LOC', 'and CC O O'],\n",
       "       dtype='<U69'),\n",
       " array(['the DT B-NP O', 'Dead NNP I-NP B-LOC', 'Sea NNP I-NP I-LOC', ...,\n",
       "        \"'s POS B-NP O\", 'singles JJ I-NP O', 'competition NN I-NP O'],\n",
       "       dtype='<U69'),\n",
       " array(['. . O O', '', 'Philippoussis NN B-NP B-PER', ..., '2 CD I-NP O',\n",
       "        '', ''], dtype='<U69')]"
      ]
     },
     "execution_count": 4,
     "metadata": {},
     "output_type": "execute_result"
    }
   ],
   "source": [
    "arr"
   ]
  },
  {
   "cell_type": "code",
   "execution_count": null,
   "id": "ec783120",
   "metadata": {},
   "outputs": [],
   "source": []
  }
 ],
 "metadata": {
  "kernelspec": {
   "display_name": "Python 3 (ipykernel)",
   "language": "python",
   "name": "python3"
  },
  "language_info": {
   "codemirror_mode": {
    "name": "ipython",
    "version": 3
   },
   "file_extension": ".py",
   "mimetype": "text/x-python",
   "name": "python",
   "nbconvert_exporter": "python",
   "pygments_lexer": "ipython3",
   "version": "3.8.10"
  }
 },
 "nbformat": 4,
 "nbformat_minor": 5
}
