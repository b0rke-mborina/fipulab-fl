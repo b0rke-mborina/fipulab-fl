{
 "cells": [
  {
   "cell_type": "code",
   "execution_count": 1,
   "id": "957c2e5f",
   "metadata": {},
   "outputs": [
    {
     "name": "stdout",
     "output_type": "stream",
     "text": [
      "Cloning into 'BERT-NER-TF2'...\n",
      "remote: Enumerating objects: 32, done.\u001b[K\n",
      "remote: Counting objects: 100% (32/32), done.\u001b[K\n",
      "remote: Compressing objects: 100% (24/24), done.\u001b[K\n",
      "remote: Total 32 (delta 10), reused 29 (delta 7), pack-reused 0\u001b[K\n",
      "Unpacking objects: 100% (32/32), 984.22 KiB | 5.66 MiB/s, done.\n"
     ]
    }
   ],
   "source": [
    "!git clone https://github.com/bhuvanakundumani/BERT-NER-TF2.git"
   ]
  }
 ],
 "metadata": {
  "kernelspec": {
   "display_name": "Python 3 (ipykernel)",
   "language": "python",
   "name": "python3"
  },
  "language_info": {
   "codemirror_mode": {
    "name": "ipython",
    "version": 3
   },
   "file_extension": ".py",
   "mimetype": "text/x-python",
   "name": "python",
   "nbconvert_exporter": "python",
   "pygments_lexer": "ipython3",
   "version": "3.8.10"
  }
 },
 "nbformat": 4,
 "nbformat_minor": 5
}
