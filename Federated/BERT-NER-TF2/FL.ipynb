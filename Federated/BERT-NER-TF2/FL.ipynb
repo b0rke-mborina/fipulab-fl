{
 "cells": [
  {
   "cell_type": "code",
   "execution_count": 1,
   "id": "9c051daf",
   "metadata": {},
   "outputs": [
    {
     "name": "stdout",
     "output_type": "stream",
     "text": [
      "Using only CPU\n"
     ]
    }
   ],
   "source": [
    "# DEVICES = \"CPU\" # Moguce vrijednosti: \"CPU\", \"GPU:0\", \"GPU:1\", \"GPUS\"\n",
    "import os\n",
    "import logging\n",
    "# os.environ['TF_CUDNN_DETERMINISTIC']='1'\n",
    "os.environ['TF_CPP_MIN_LOG_LEVEL'] = '3'\n",
    "\n",
    "print(\"Using only CPU\")\n",
    "os.environ[\"CUDA_VISIBLE_DEVICES\"] = '-1'\n",
    "\n",
    "logging.getLogger('tensorflow').setLevel(logging.FATAL)\n",
    "\n",
    "# if DEVICES == 'CPU':\n",
    "    # os.environ[\"CUDA_VISIBLE_DEVICES\"] = '-1'\n",
    "# elif DEVICES == 'GPU:0':\n",
    "    # os.environ[\"CUDA_VISIBLE_DEVICES\"] = '0'\n",
    "# elif DEVICES == 'GPU:1':\n",
    "    # os.environ[\"CUDA_VISIBLE_DEVICES\"] = '1'\n",
    "\n",
    "\n",
    "import tensorflow as tf\n",
    "\n",
    "from dataset.dataset_loader import NerProcessor, FewNERDProcessor, create_tf_dataset_for_client, split_to_tf_datasets, batch_features\n",
    "from utils.fl_utils import *\n",
    "from models.model import build_BertNer, MaskedSparseCategoricalCrossentropy\n",
    "from tokenization import FullTokenizer\n",
    "\n",
    "\n",
    "from tqdm.notebook import tqdm\n",
    "import json\n",
    "\n",
    "import numpy as np\n",
    "\n",
    "import nest_asyncio\n",
    "nest_asyncio.apply()\n",
    "\n",
    "import tensorflow_federated as tff\n",
    "\n",
    "# if DEVICES == 'CPU':\n",
    "    # cl_tf_devices = tf.config.list_logical_devices('CPU')\n",
    "# elif DEVICES == 'GPUS':\n",
    "    # cl_tf_devices = tf.config.list_logical_devices('GPU')\n",
    "# else:\n",
    "    # cl_tf_devices = tf.config.list_logical_devices('GPU')[:1]\n",
    "# tff.backends.native.set_local_execution_context(\n",
    "    # server_tf_device=tf.config.list_logical_devices('CPU')[0],\n",
    "    # client_tf_devices=cl_tf_devices)\n",
    "\n",
    "\n",
    "# Pretrained models\n",
    "TINY = 'uncased_L-2_H-128_A-2'\n",
    "TINY_12_128='uncased_L-12_H-128_A-2'\n",
    "TINY_8_128='uncased_L-8_H-128_A-2'\n",
    "TINY_6_128 ='uncased_L-6_H-128_A-2'\n",
    "TINY_4_128='uncased_L-4_H-128_A-2'\n",
    "TINY_2_512 ='uncased_L-2_H-512_A-8'\n",
    "TINY_2_256='uncased_L-2_H-256_A-4'\n",
    "MINI = 'uncased_L-4_H-256_A-4'\n",
    "SMALL = 'uncased_L-4_H-512_A-8'\n",
    "MEDIUM = 'uncased_L-8_H-512_A-8'\n",
    "BASE = 'uncased_L-12_H-768_A-12'\n",
    "\n",
    "\n",
    "MODEL = os.path.join(\"models\", TINY_2_256)\n",
    "SEQ_LEN = 128\n",
    "BATCH_SIZE = 32\n",
    "PRETRAINED = False\n",
    "\n",
    "\n",
    "# processor = NerProcessor('dataset/conll')\n",
    "# datas=\"conll\"\n",
    "processor = FewNERDProcessor('dataset/few_nerd')\n",
    "datas=\"few_nerd\"\n",
    "tokenizer = FullTokenizer(os.path.join(MODEL, \"vocab.txt\"), True)\n",
    "train_features = processor.get_train_as_features(SEQ_LEN, tokenizer)\n",
    "eval_features = processor.get_test_as_features(SEQ_LEN, tokenizer)\n",
    "\n",
    "# Name of file\n",
    "modelSize=\"\"\n",
    "pretr=\"\"\n",
    "# change dataset name in datas\n",
    "\n",
    "modelSize = {\n",
    "  'models/uncased_L-2_H-128_A-2': lambda: \"tiny\",\n",
    "  'models/uncased_L-12_H-128_A-2': lambda: \"tiny_12_128\",\n",
    "  'models/uncased_L-8_H-128_A-2': lambda: \"tiny_8_128\",\n",
    "  'models/uncased_L-6_H-128_A-2': lambda: \"tiny_6_128\",\n",
    "  'models/uncased_L-2_H-512_A-8': lambda: \"tiny_2_512\",\n",
    "  'models/uncased_L-4_H-128_A-2': lambda: \"tiny_4_128\",\n",
    "  'models/uncased_L-2_H-256_A-4': lambda: \"tiny_2_256\",\n",
    "  'models/uncased_L-4_H-256_A-4': lambda: \"mini\",\n",
    "  'models/uncased_L-4_H-512_A-8': lambda: \"small\",\n",
    "  'models/uncased_L-8_H-512_A-8': lambda: \"medium\",\n",
    "  'models/uncased_L-12_H-768_A-12': lambda: \"base\"\n",
    "}[MODEL]()\n",
    "\n",
    "if PRETRAINED == True:\n",
    "    pretr=\"pretrained\"\n",
    "elif PRETRAINED == False:\n",
    "    pretr=\"nontrained\"\n",
    "\n",
    "\n",
    "# Wrap a Keras model for use with TFF.\n",
    "def model_fn(m_name, num_labels, seq_len, input_spec):\n",
    "    model = build_BertNer(m_name, num_labels, seq_len)\n",
    "    return tff.learning.from_keras_model(\n",
    "        model,\n",
    "        input_spec=input_spec,\n",
    "        loss=MaskedSparseCategoricalCrossentropy()) # reduction=tf.keras.losses.Reduction.NONE))\n",
    "\n",
    "def eval_model(model, eval_data, do_print=True):\n",
    "    return evaluate(model, eval_data, \n",
    "                    processor.get_label_map(), \n",
    "                    processor.token_ind('O'), \n",
    "                    processor.token_ind('[SEP]'),\n",
    "                    processor.token_ind('[PAD]'), \n",
    "                    do_print=do_print)\n",
    "    \n",
    "# eval_features = eval_features[:5_000] # Samo prvih par tisuca za testiranje, maknuti za konačne ekperimente\n",
    "eval_data_batched = batch_features(eval_features, processor.get_labels(), SEQ_LEN, tokenizer, batch_size=64)\n"
   ]
  },
  {
   "cell_type": "code",
   "execution_count": null,
   "id": "2493962f",
   "metadata": {
    "scrolled": true
   },
   "outputs": [
    {
     "name": "stdout",
     "output_type": "stream",
     "text": [
      "Round 1 Loss: 11.005543 Examples: 13120\n",
      "Round 2 Loss: 3.5901573 Examples: 13120\n",
      "Round 3 Loss: 8.532608 Examples: 13120\n",
      "Round 4 Loss: 3.6534314 Examples: 13120\n",
      "Round 5 Loss: 4.2872014 Examples: 13120\n",
      "Round 6 Loss: 4.288045 Examples: 13120\n",
      "Round 7 Loss: 2.6922534 Examples: 13120\n",
      "Round 8 Loss: 2.046996 Examples: 13120\n",
      "Round 9 Loss: 1.6617575 Examples: 13120\n",
      "Round 10 Loss: 1.6115149 Examples: 13120\n"
     ]
    },
    {
     "data": {
      "application/vnd.jupyter.widget-view+json": {
       "model_id": "",
       "version_major": 2,
       "version_minor": 0
      },
      "text/plain": [
       "Evaluating:   0%|          | 0/589 [00:00<?, ?it/s]"
      ]
     },
     "metadata": {},
     "output_type": "display_data"
    },
    {
     "name": "stdout",
     "output_type": "stream",
     "text": [
      "              precision    recall  f1-score   support\n",
      "\n",
      "         ART     0.0000    0.0000    0.0000      4064\n",
      "         BUI     0.0000    0.0000    0.0000      5007\n",
      "         EVE     0.0000    0.0000    0.0000      4104\n",
      "         LOC     0.0000    0.0000    0.0000     27227\n",
      "        MISC     0.0000    0.0000    0.0000      9558\n",
      "         ORG     0.0000    0.0000    0.0000     19077\n",
      "         PER     0.0000    0.0000    0.0000     21527\n",
      "         PRO     0.0000    0.0000    0.0000      6230\n",
      "\n",
      "   micro avg     0.0000    0.0000    0.0000     96794\n",
      "   macro avg     0.0000    0.0000    0.0000     96794\n",
      "weighted avg     0.0000    0.0000    0.0000     96794\n",
      "\n",
      "Round 11 Loss: 1.5534637 Examples: 13120\n",
      "Round 12 Loss: 1.6543257 Examples: 13120\n",
      "Round 13 Loss: 1.3055265 Examples: 13120\n",
      "Round 14 Loss: 1.3306916 Examples: 13120\n",
      "Round 15 Loss: 1.4259505 Examples: 13120\n",
      "Round 16 Loss: 1.517979 Examples: 13120\n",
      "Round 17 Loss: 1.5002304 Examples: 13120\n",
      "Round 18 Loss: 1.3287886 Examples: 13120\n",
      "Round 19 Loss: 1.3534449 Examples: 13120\n",
      "Round 20 Loss: 1.3348956 Examples: 13120\n"
     ]
    },
    {
     "data": {
      "application/vnd.jupyter.widget-view+json": {
       "model_id": "",
       "version_major": 2,
       "version_minor": 0
      },
      "text/plain": [
       "Evaluating:   0%|          | 0/589 [00:00<?, ?it/s]"
      ]
     },
     "metadata": {},
     "output_type": "display_data"
    },
    {
     "name": "stdout",
     "output_type": "stream",
     "text": [
      "              precision    recall  f1-score   support\n",
      "\n",
      "         ART     0.0000    0.0000    0.0000      4064\n",
      "         BUI     0.0000    0.0000    0.0000      5007\n",
      "         EVE     0.0000    0.0000    0.0000      4104\n",
      "         LOC     0.0000    0.0000    0.0000     27227\n",
      "        MISC     0.0000    0.0000    0.0000      9558\n",
      "         ORG     0.0000    0.0000    0.0000     19077\n",
      "         PER     0.0000    0.0000    0.0000     21527\n",
      "         PRO     0.0000    0.0000    0.0000      6230\n",
      "\n",
      "   micro avg     0.0000    0.0000    0.0000     96794\n",
      "   macro avg     0.0000    0.0000    0.0000     96794\n",
      "weighted avg     0.0000    0.0000    0.0000     96794\n",
      "\n",
      "Round 21 Loss: 1.3306322 Examples: 13120\n",
      "Round 22 Loss: 1.3346608 Examples: 13120\n",
      "Round 23 Loss: 1.2921785 Examples: 13120\n",
      "Round 24 Loss: 1.2885451 Examples: 13120\n",
      "Round 25 Loss: 1.3013893 Examples: 13120\n",
      "Round 26 Loss: 1.2495424 Examples: 13120\n",
      "Round 27 Loss: 1.2443753 Examples: 13120\n",
      "Round 28 Loss: 1.2370862 Examples: 13120\n",
      "Round 29 Loss: 1.2331319 Examples: 13120\n",
      "Round 30 Loss: 1.2562251 Examples: 13120\n"
     ]
    },
    {
     "data": {
      "application/vnd.jupyter.widget-view+json": {
       "model_id": "",
       "version_major": 2,
       "version_minor": 0
      },
      "text/plain": [
       "Evaluating:   0%|          | 0/589 [00:00<?, ?it/s]"
      ]
     },
     "metadata": {},
     "output_type": "display_data"
    },
    {
     "name": "stdout",
     "output_type": "stream",
     "text": [
      "              precision    recall  f1-score   support\n",
      "\n",
      "         ART     0.0000    0.0000    0.0000      4064\n",
      "         BUI     0.0000    0.0000    0.0000      5007\n",
      "         EVE     0.0000    0.0000    0.0000      4104\n",
      "         LOC     0.0000    0.0000    0.0000     27227\n",
      "        MISC     0.0000    0.0000    0.0000      9558\n",
      "         ORG     0.0000    0.0000    0.0000     19077\n",
      "         PER     0.0000    0.0000    0.0000     21527\n",
      "         PRO     0.0000    0.0000    0.0000      6230\n",
      "\n",
      "   micro avg     0.0000    0.0000    0.0000     96794\n",
      "   macro avg     0.0000    0.0000    0.0000     96794\n",
      "weighted avg     0.0000    0.0000    0.0000     96794\n",
      "\n",
      "Round 31 Loss: 1.2611247 Examples: 13120\n",
      "Round 32 Loss: 1.2549887 Examples: 13120\n",
      "Round 33 Loss: 1.2329527 Examples: 13120\n",
      "Round 34 Loss: 1.2305228 Examples: 13120\n",
      "Round 35 Loss: 1.2246093 Examples: 13120\n",
      "Round 36 Loss: 1.221482 Examples: 13120\n",
      "Round 37 Loss: 1.2168652 Examples: 13120\n",
      "Round 38 Loss: 1.2225299 Examples: 13120\n",
      "Round 39 Loss: 1.2214994 Examples: 13120\n",
      "Round 40 Loss: 1.2063338 Examples: 13120\n"
     ]
    },
    {
     "data": {
      "application/vnd.jupyter.widget-view+json": {
       "model_id": "",
       "version_major": 2,
       "version_minor": 0
      },
      "text/plain": [
       "Evaluating:   0%|          | 0/589 [00:00<?, ?it/s]"
      ]
     },
     "metadata": {},
     "output_type": "display_data"
    },
    {
     "name": "stdout",
     "output_type": "stream",
     "text": [
      "              precision    recall  f1-score   support\n",
      "\n",
      "         ART     0.0000    0.0000    0.0000      4064\n",
      "         BUI     0.0000    0.0000    0.0000      5007\n",
      "         EVE     0.0000    0.0000    0.0000      4104\n",
      "         LOC     0.0000    0.0000    0.0000     27227\n",
      "        MISC     0.0000    0.0000    0.0000      9558\n",
      "         ORG     0.0000    0.0000    0.0000     19077\n",
      "         PER     0.0000    0.0000    0.0000     21527\n",
      "         PRO     0.0000    0.0000    0.0000      6230\n",
      "\n",
      "   micro avg     0.0000    0.0000    0.0000     96794\n",
      "   macro avg     0.0000    0.0000    0.0000     96794\n",
      "weighted avg     0.0000    0.0000    0.0000     96794\n",
      "\n",
      "Round 41 Loss: 1.2130344 Examples: 13120\n",
      "Round 42 Loss: 1.2189611 Examples: 13120\n",
      "Round 43 Loss: 1.2128942 Examples: 13120\n",
      "Round 44 Loss: 1.2090988 Examples: 13120\n"
     ]
    }
   ],
   "source": [
    "num_clients, num_train_clients = 100, 10\n",
    "assert num_clients >= num_train_clients\n",
    "\n",
    "dataset_list = split_to_tf_datasets(train_features, num_clients, batch_size=BATCH_SIZE)\n",
    "trainer = tff.learning.build_federated_averaging_process(\n",
    "    model_fn=lambda: model_fn(MODEL, processor.label_len(), SEQ_LEN, dataset_list[0].element_spec),\n",
    "    client_optimizer_fn=lambda: tf.keras.optimizers.Adam(5e-3),\n",
    "    server_optimizer_fn=lambda: tf.keras.optimizers.Adam(5e-3),\n",
    "    use_experimental_simulation_loop=True\n",
    ")\n",
    "\n",
    "state = trainer.initialize()\n",
    "if PRETRAINED:\n",
    "    state = state_from_checkpoint(state, build_BertNer(MODEL, processor.label_len(), SEQ_LEN), MODEL)\n",
    "\n",
    "res_list=[]\n",
    "examples = 0\n",
    "for rnd_ind in range(1, 501):\n",
    "    train_data = list(np.random.choice(dataset_list, num_train_clients, replace=False))\n",
    "    state, metrics = trainer.next(state, train_data)\n",
    "    print(\"Round\", rnd_ind, \"Loss:\", metrics['train']['loss'], \"Examples:\", metrics['stat']['num_examples'])\n",
    "    examples = metrics['stat']['num_examples']\n",
    "    \n",
    "    # Ne treba svaku rundu gledati tocnost, moze svakih 10 (jedna epoha kumulativno)\n",
    "    if rnd_ind % num_train_clients == 0:\n",
    "        state_model = state_to_model(state, build_BertNer(MODEL, processor.label_len(), SEQ_LEN))\n",
    "        res = eval_model(state_model, eval_data_batched, do_print=True)\n",
    "        res['Round'] = rnd_ind\n",
    "        res['Examples'] = examples\n",
    "        res_list.append(res)\n",
    "\n",
    "class NpEncoder(json.JSONEncoder):\n",
    "    def default(self, obj):\n",
    "        if isinstance(obj, np.integer):\n",
    "            return int(obj)\n",
    "        if isinstance(obj, np.floating):\n",
    "            return float(obj)\n",
    "        if isinstance(obj, np.ndarray):\n",
    "            return obj.tolist()\n",
    "        return super(NpEncoder, self).default(obj)\n",
    "\n",
    "with open(\"log/results-\"+modelSize+\"-\"+pretr+\"-\"+datas+\".json\", \"w\") as outfile:\n",
    "    json.dump({'results': res_list, 'model': MODEL, 'seq_len': SEQ_LEN, \n",
    "               'pretrained': PRETRAINED, 'batch_size': BATCH_SIZE}, outfile, indent=None, cls=NpEncoder)"
   ]
  },
  {
   "cell_type": "code",
   "execution_count": null,
   "id": "7a4d7519",
   "metadata": {},
   "outputs": [],
   "source": []
  }
 ],
 "metadata": {
  "kernelspec": {
   "display_name": "Python 3 (ipykernel)",
   "language": "python",
   "name": "python3"
  },
  "language_info": {
   "codemirror_mode": {
    "name": "ipython",
    "version": 3
   },
   "file_extension": ".py",
   "mimetype": "text/x-python",
   "name": "python",
   "nbconvert_exporter": "python",
   "pygments_lexer": "ipython3",
   "version": "3.8.10"
  }
 },
 "nbformat": 4,
 "nbformat_minor": 5
}
