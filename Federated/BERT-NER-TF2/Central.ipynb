{
 "cells": [
  {
   "cell_type": "code",
   "execution_count": 1,
   "id": "7a20fbd1",
   "metadata": {},
   "outputs": [
    {
     "name": "stdout",
     "output_type": "stream",
     "text": [
      "Using only CPU\n"
     ]
    }
   ],
   "source": [
    "import os\n",
    "import logging\n",
    "os.environ['TF_CPP_MIN_LOG_LEVEL'] = '3'\n",
    "\n",
    "print(\"Using only CPU\")\n",
    "os.environ[\"CUDA_VISIBLE_DEVICES\"] = '-1'\n",
    "\n",
    "logging.getLogger('tensorflow').setLevel(logging.FATAL)\n",
    "\n",
    "from dataset.dataset_loader import NerProcessor, FewNERDProcessor, create_tf_dataset_for_client, split_to_tf_datasets, batch_features\n",
    "from utils.fl_utils import *\n",
    "\n",
    "import tensorflow as tf\n",
    "from tqdm.notebook import tqdm\n",
    "\n",
    "import numpy as np\n",
    "\n",
    "from models.model import build_BertNer, MaskedSparseCategoricalCrossentropy\n",
    "from tokenization import FullTokenizer\n",
    "\n",
    "\n",
    "\n",
    "# Pretrained models\n",
    "TINY = 'uncased_L-2_H-128_A-2'\n",
    "TINY_1 = 'uncased_L-4_H-128_A-2'\n",
    "TINY_12 = 'uncased_L-12_H-128_A-2'\n",
    "MINI = 'uncased_L-4_H-256_A-4'\n",
    "SMALL = 'uncased_L-4_H-512_A-8'\n",
    "MEDIUM = 'uncased_L-8_H-512_A-8'\n",
    "BASE = 'uncased_L-12_H-768_A-12'\n",
    "\n",
    "TINY_8_128='uncased_L-8_H-128_A-2'\n",
    "\n",
    "MODEL = os.path.join(\"models\", TINY_12)\n",
    "SEQ_LEN = 128\n",
    "BATCH_SIZE = 32\n",
    "PRETRAINED = False\n",
    "\n",
    "processor = NerProcessor('dataset/conll')\n",
    "# processor = FewNERDProcessor('dataset/few_nerd')\n",
    "tokenizer = FullTokenizer(os.path.join(MODEL, \"vocab.txt\"), True)\n",
    "train_features = processor.get_train_as_features(SEQ_LEN, tokenizer)\n",
    "eval_features = processor.get_test_as_features(SEQ_LEN, tokenizer)\n",
    "\n",
    "\n",
    "def eval_model(model, eval_data, do_print=True):\n",
    "    return evaluate(model, eval_data, \n",
    "                    processor.get_label_map(), \n",
    "                    processor.token_ind('O'), \n",
    "                    processor.token_ind('[SEP]'),\n",
    "                    processor.token_ind('[PAD]'), \n",
    "                    do_print=do_print)\n",
    "    \n",
    "eval_data_batched = batch_features(eval_features, processor.get_labels(), SEQ_LEN, tokenizer, batch_size=64)\n"
   ]
  },
  {
   "cell_type": "code",
   "execution_count": 2,
   "id": "4aacffc6",
   "metadata": {},
   "outputs": [],
   "source": [
    "m = build_BertNer(MODEL, processor.label_len(), SEQ_LEN)"
   ]
  },
  {
   "cell_type": "code",
   "execution_count": 3,
   "id": "4f010cfc",
   "metadata": {},
   "outputs": [],
   "source": [
    "bm = m.layers[3]\n",
    "bm.embedding_postprocessor.output_layer_norm.trainable = False\n",
    "for l in bm.encoder.layers:\n",
    "    l.attention_layer_norm.trainable = False\n",
    "    l.output_layer_norm.trainable = False"
   ]
  },
  {
   "cell_type": "code",
   "execution_count": 4,
   "id": "5b8d51d9",
   "metadata": {},
   "outputs": [
    {
     "name": "stdout",
     "output_type": "stream",
     "text": [
      "bert_model/word_embeddings/embeddings:0\n",
      "bert_model/embedding_postprocessor/type_embeddings:0\n",
      "bert_model/embedding_postprocessor/position_embeddings:0\n",
      "bert_model/encoder/layer_0/self_attention/query/kernel:0\n",
      "bert_model/encoder/layer_0/self_attention/query/bias:0\n",
      "bert_model/encoder/layer_0/self_attention/key/kernel:0\n",
      "bert_model/encoder/layer_0/self_attention/key/bias:0\n",
      "bert_model/encoder/layer_0/self_attention/value/kernel:0\n",
      "bert_model/encoder/layer_0/self_attention/value/bias:0\n",
      "bert_model/encoder/layer_0/self_attention_output/kernel:0\n",
      "bert_model/encoder/layer_0/self_attention_output/bias:0\n",
      "bert_model/encoder/layer_0/intermediate/kernel:0\n",
      "bert_model/encoder/layer_0/intermediate/bias:0\n",
      "bert_model/encoder/layer_0/output/kernel:0\n",
      "bert_model/encoder/layer_0/output/bias:0\n",
      "bert_model/encoder/layer_1/self_attention/query/kernel:0\n",
      "bert_model/encoder/layer_1/self_attention/query/bias:0\n",
      "bert_model/encoder/layer_1/self_attention/key/kernel:0\n",
      "bert_model/encoder/layer_1/self_attention/key/bias:0\n",
      "bert_model/encoder/layer_1/self_attention/value/kernel:0\n",
      "bert_model/encoder/layer_1/self_attention/value/bias:0\n",
      "bert_model/encoder/layer_1/self_attention_output/kernel:0\n",
      "bert_model/encoder/layer_1/self_attention_output/bias:0\n",
      "bert_model/encoder/layer_1/intermediate/kernel:0\n",
      "bert_model/encoder/layer_1/intermediate/bias:0\n",
      "bert_model/encoder/layer_1/output/kernel:0\n",
      "bert_model/encoder/layer_1/output/bias:0\n",
      "bert_model/encoder/layer_2/self_attention/query/kernel:0\n",
      "bert_model/encoder/layer_2/self_attention/query/bias:0\n",
      "bert_model/encoder/layer_2/self_attention/key/kernel:0\n",
      "bert_model/encoder/layer_2/self_attention/key/bias:0\n",
      "bert_model/encoder/layer_2/self_attention/value/kernel:0\n",
      "bert_model/encoder/layer_2/self_attention/value/bias:0\n",
      "bert_model/encoder/layer_2/self_attention_output/kernel:0\n",
      "bert_model/encoder/layer_2/self_attention_output/bias:0\n",
      "bert_model/encoder/layer_2/intermediate/kernel:0\n",
      "bert_model/encoder/layer_2/intermediate/bias:0\n",
      "bert_model/encoder/layer_2/output/kernel:0\n",
      "bert_model/encoder/layer_2/output/bias:0\n",
      "bert_model/encoder/layer_3/self_attention/query/kernel:0\n",
      "bert_model/encoder/layer_3/self_attention/query/bias:0\n",
      "bert_model/encoder/layer_3/self_attention/key/kernel:0\n",
      "bert_model/encoder/layer_3/self_attention/key/bias:0\n",
      "bert_model/encoder/layer_3/self_attention/value/kernel:0\n",
      "bert_model/encoder/layer_3/self_attention/value/bias:0\n",
      "bert_model/encoder/layer_3/self_attention_output/kernel:0\n",
      "bert_model/encoder/layer_3/self_attention_output/bias:0\n",
      "bert_model/encoder/layer_3/intermediate/kernel:0\n",
      "bert_model/encoder/layer_3/intermediate/bias:0\n",
      "bert_model/encoder/layer_3/output/kernel:0\n",
      "bert_model/encoder/layer_3/output/bias:0\n",
      "bert_model/encoder/layer_4/self_attention/query/kernel:0\n",
      "bert_model/encoder/layer_4/self_attention/query/bias:0\n",
      "bert_model/encoder/layer_4/self_attention/key/kernel:0\n",
      "bert_model/encoder/layer_4/self_attention/key/bias:0\n",
      "bert_model/encoder/layer_4/self_attention/value/kernel:0\n",
      "bert_model/encoder/layer_4/self_attention/value/bias:0\n",
      "bert_model/encoder/layer_4/self_attention_output/kernel:0\n",
      "bert_model/encoder/layer_4/self_attention_output/bias:0\n",
      "bert_model/encoder/layer_4/intermediate/kernel:0\n",
      "bert_model/encoder/layer_4/intermediate/bias:0\n",
      "bert_model/encoder/layer_4/output/kernel:0\n",
      "bert_model/encoder/layer_4/output/bias:0\n",
      "bert_model/encoder/layer_5/self_attention/query/kernel:0\n",
      "bert_model/encoder/layer_5/self_attention/query/bias:0\n",
      "bert_model/encoder/layer_5/self_attention/key/kernel:0\n",
      "bert_model/encoder/layer_5/self_attention/key/bias:0\n",
      "bert_model/encoder/layer_5/self_attention/value/kernel:0\n",
      "bert_model/encoder/layer_5/self_attention/value/bias:0\n",
      "bert_model/encoder/layer_5/self_attention_output/kernel:0\n",
      "bert_model/encoder/layer_5/self_attention_output/bias:0\n",
      "bert_model/encoder/layer_5/intermediate/kernel:0\n",
      "bert_model/encoder/layer_5/intermediate/bias:0\n",
      "bert_model/encoder/layer_5/output/kernel:0\n",
      "bert_model/encoder/layer_5/output/bias:0\n",
      "bert_model/encoder/layer_6/self_attention/query/kernel:0\n",
      "bert_model/encoder/layer_6/self_attention/query/bias:0\n",
      "bert_model/encoder/layer_6/self_attention/key/kernel:0\n",
      "bert_model/encoder/layer_6/self_attention/key/bias:0\n",
      "bert_model/encoder/layer_6/self_attention/value/kernel:0\n",
      "bert_model/encoder/layer_6/self_attention/value/bias:0\n",
      "bert_model/encoder/layer_6/self_attention_output/kernel:0\n",
      "bert_model/encoder/layer_6/self_attention_output/bias:0\n",
      "bert_model/encoder/layer_6/intermediate/kernel:0\n",
      "bert_model/encoder/layer_6/intermediate/bias:0\n",
      "bert_model/encoder/layer_6/output/kernel:0\n",
      "bert_model/encoder/layer_6/output/bias:0\n",
      "bert_model/encoder/layer_7/self_attention/query/kernel:0\n",
      "bert_model/encoder/layer_7/self_attention/query/bias:0\n",
      "bert_model/encoder/layer_7/self_attention/key/kernel:0\n",
      "bert_model/encoder/layer_7/self_attention/key/bias:0\n",
      "bert_model/encoder/layer_7/self_attention/value/kernel:0\n",
      "bert_model/encoder/layer_7/self_attention/value/bias:0\n",
      "bert_model/encoder/layer_7/self_attention_output/kernel:0\n",
      "bert_model/encoder/layer_7/self_attention_output/bias:0\n",
      "bert_model/encoder/layer_7/intermediate/kernel:0\n",
      "bert_model/encoder/layer_7/intermediate/bias:0\n",
      "bert_model/encoder/layer_7/output/kernel:0\n",
      "bert_model/encoder/layer_7/output/bias:0\n",
      "bert_model/encoder/layer_8/self_attention/query/kernel:0\n",
      "bert_model/encoder/layer_8/self_attention/query/bias:0\n",
      "bert_model/encoder/layer_8/self_attention/key/kernel:0\n",
      "bert_model/encoder/layer_8/self_attention/key/bias:0\n",
      "bert_model/encoder/layer_8/self_attention/value/kernel:0\n",
      "bert_model/encoder/layer_8/self_attention/value/bias:0\n",
      "bert_model/encoder/layer_8/self_attention_output/kernel:0\n",
      "bert_model/encoder/layer_8/self_attention_output/bias:0\n",
      "bert_model/encoder/layer_8/intermediate/kernel:0\n",
      "bert_model/encoder/layer_8/intermediate/bias:0\n",
      "bert_model/encoder/layer_8/output/kernel:0\n",
      "bert_model/encoder/layer_8/output/bias:0\n",
      "bert_model/encoder/layer_9/self_attention/query/kernel:0\n",
      "bert_model/encoder/layer_9/self_attention/query/bias:0\n",
      "bert_model/encoder/layer_9/self_attention/key/kernel:0\n",
      "bert_model/encoder/layer_9/self_attention/key/bias:0\n",
      "bert_model/encoder/layer_9/self_attention/value/kernel:0\n",
      "bert_model/encoder/layer_9/self_attention/value/bias:0\n",
      "bert_model/encoder/layer_9/self_attention_output/kernel:0\n",
      "bert_model/encoder/layer_9/self_attention_output/bias:0\n",
      "bert_model/encoder/layer_9/intermediate/kernel:0\n",
      "bert_model/encoder/layer_9/intermediate/bias:0\n",
      "bert_model/encoder/layer_9/output/kernel:0\n",
      "bert_model/encoder/layer_9/output/bias:0\n",
      "bert_model/encoder/layer_10/self_attention/query/kernel:0\n",
      "bert_model/encoder/layer_10/self_attention/query/bias:0\n",
      "bert_model/encoder/layer_10/self_attention/key/kernel:0\n",
      "bert_model/encoder/layer_10/self_attention/key/bias:0\n",
      "bert_model/encoder/layer_10/self_attention/value/kernel:0\n",
      "bert_model/encoder/layer_10/self_attention/value/bias:0\n",
      "bert_model/encoder/layer_10/self_attention_output/kernel:0\n",
      "bert_model/encoder/layer_10/self_attention_output/bias:0\n",
      "bert_model/encoder/layer_10/intermediate/kernel:0\n",
      "bert_model/encoder/layer_10/intermediate/bias:0\n",
      "bert_model/encoder/layer_10/output/kernel:0\n",
      "bert_model/encoder/layer_10/output/bias:0\n",
      "bert_model/encoder/layer_11/self_attention/query/kernel:0\n",
      "bert_model/encoder/layer_11/self_attention/query/bias:0\n",
      "bert_model/encoder/layer_11/self_attention/key/kernel:0\n",
      "bert_model/encoder/layer_11/self_attention/key/bias:0\n",
      "bert_model/encoder/layer_11/self_attention/value/kernel:0\n",
      "bert_model/encoder/layer_11/self_attention/value/bias:0\n",
      "bert_model/encoder/layer_11/self_attention_output/kernel:0\n",
      "bert_model/encoder/layer_11/self_attention_output/bias:0\n",
      "bert_model/encoder/layer_11/intermediate/kernel:0\n",
      "bert_model/encoder/layer_11/intermediate/bias:0\n",
      "bert_model/encoder/layer_11/output/kernel:0\n",
      "bert_model/encoder/layer_11/output/bias:0\n",
      "bert_model/pooler_transform/kernel:0\n",
      "bert_model/pooler_transform/bias:0\n",
      "bert_model/embedding_postprocessor/layer_norm/gamma:0\n",
      "bert_model/embedding_postprocessor/layer_norm/beta:0\n",
      "bert_model/encoder/layer_0/self_attention_layer_norm/gamma:0\n",
      "bert_model/encoder/layer_0/self_attention_layer_norm/beta:0\n",
      "bert_model/encoder/layer_0/output_layer_norm/gamma:0\n",
      "bert_model/encoder/layer_0/output_layer_norm/beta:0\n",
      "bert_model/encoder/layer_1/self_attention_layer_norm/gamma:0\n",
      "bert_model/encoder/layer_1/self_attention_layer_norm/beta:0\n",
      "bert_model/encoder/layer_1/output_layer_norm/gamma:0\n",
      "bert_model/encoder/layer_1/output_layer_norm/beta:0\n",
      "bert_model/encoder/layer_2/self_attention_layer_norm/gamma:0\n",
      "bert_model/encoder/layer_2/self_attention_layer_norm/beta:0\n",
      "bert_model/encoder/layer_2/output_layer_norm/gamma:0\n",
      "bert_model/encoder/layer_2/output_layer_norm/beta:0\n",
      "bert_model/encoder/layer_3/self_attention_layer_norm/gamma:0\n",
      "bert_model/encoder/layer_3/self_attention_layer_norm/beta:0\n",
      "bert_model/encoder/layer_3/output_layer_norm/gamma:0\n",
      "bert_model/encoder/layer_3/output_layer_norm/beta:0\n",
      "bert_model/encoder/layer_4/self_attention_layer_norm/gamma:0\n",
      "bert_model/encoder/layer_4/self_attention_layer_norm/beta:0\n",
      "bert_model/encoder/layer_4/output_layer_norm/gamma:0\n",
      "bert_model/encoder/layer_4/output_layer_norm/beta:0\n",
      "bert_model/encoder/layer_5/self_attention_layer_norm/gamma:0\n",
      "bert_model/encoder/layer_5/self_attention_layer_norm/beta:0\n",
      "bert_model/encoder/layer_5/output_layer_norm/gamma:0\n",
      "bert_model/encoder/layer_5/output_layer_norm/beta:0\n",
      "bert_model/encoder/layer_6/self_attention_layer_norm/gamma:0\n",
      "bert_model/encoder/layer_6/self_attention_layer_norm/beta:0\n",
      "bert_model/encoder/layer_6/output_layer_norm/gamma:0\n",
      "bert_model/encoder/layer_6/output_layer_norm/beta:0\n",
      "bert_model/encoder/layer_7/self_attention_layer_norm/gamma:0\n",
      "bert_model/encoder/layer_7/self_attention_layer_norm/beta:0\n",
      "bert_model/encoder/layer_7/output_layer_norm/gamma:0\n",
      "bert_model/encoder/layer_7/output_layer_norm/beta:0\n",
      "bert_model/encoder/layer_8/self_attention_layer_norm/gamma:0\n",
      "bert_model/encoder/layer_8/self_attention_layer_norm/beta:0\n",
      "bert_model/encoder/layer_8/output_layer_norm/gamma:0\n",
      "bert_model/encoder/layer_8/output_layer_norm/beta:0\n",
      "bert_model/encoder/layer_9/self_attention_layer_norm/gamma:0\n",
      "bert_model/encoder/layer_9/self_attention_layer_norm/beta:0\n",
      "bert_model/encoder/layer_9/output_layer_norm/gamma:0\n",
      "bert_model/encoder/layer_9/output_layer_norm/beta:0\n",
      "bert_model/encoder/layer_10/self_attention_layer_norm/gamma:0\n",
      "bert_model/encoder/layer_10/self_attention_layer_norm/beta:0\n",
      "bert_model/encoder/layer_10/output_layer_norm/gamma:0\n",
      "bert_model/encoder/layer_10/output_layer_norm/beta:0\n",
      "bert_model/encoder/layer_11/self_attention_layer_norm/gamma:0\n",
      "bert_model/encoder/layer_11/self_attention_layer_norm/beta:0\n",
      "bert_model/encoder/layer_11/output_layer_norm/gamma:0\n",
      "bert_model/encoder/layer_11/output_layer_norm/beta:0\n"
     ]
    }
   ],
   "source": [
    "for i in range(len(m.layers[3].weights)):\n",
    "    print(m.layers[3].weights[i].name)"
   ]
  },
  {
   "cell_type": "markdown",
   "id": "c91ef7b6",
   "metadata": {},
   "source": [
    "# Train single"
   ]
  },
  {
   "cell_type": "code",
   "execution_count": 5,
   "id": "f2c15b14",
   "metadata": {},
   "outputs": [],
   "source": [
    "@tf.function\n",
    "def train_batch(model, x, y):\n",
    "    with tf.GradientTape() as tape:\n",
    "        logits = model(x, training=True)\n",
    "        loss = model.loss(y, logits)\n",
    "    grad = tape.gradient(loss, model.trainable_variables)\n",
    "    model.optimizer.apply_gradients(zip(grad, model.trainable_variables))\n",
    "\n",
    "def train_single(epochs=1, lr=5e-5, batch_size=32, pretrained=True):\n",
    "    model = build_BertNer(MODEL, processor.label_len(), SEQ_LEN)\n",
    "    model.compile(\n",
    "        optimizer=tf.keras.optimizers.Adam(lr),\n",
    "        loss=MaskedSparseCategoricalCrossentropy()) # reduction=tf.keras.losses.Reduction.NONE))\n",
    "    \"\"\"\n",
    "    bm = model.layers[3]\n",
    "    bm.embedding_postprocessor.output_layer_norm.trainable = False\n",
    "    for l in bm.encoder.layers:\n",
    "        l.attention_layer_norm.trainable = False\n",
    "        l.output_layer_norm.trainable = False\n",
    "    \"\"\"\n",
    "    \n",
    "    if pretrained:\n",
    "        restore_model_ckpt(model, MODEL)\n",
    "    \n",
    "    data = split_to_tf_datasets(train_features, 1, batch_size)[0]\n",
    "    for e in range(epochs):\n",
    "        for x, y in tqdm(data, position=0, leave=False, desc=\"Training\"):\n",
    "            train_batch(model, x, y)\n",
    "        eval_model(model, eval_data_batched)\n",
    "    return model"
   ]
  },
  {
   "cell_type": "code",
   "execution_count": null,
   "id": "c90352af",
   "metadata": {
    "scrolled": true
   },
   "outputs": [
    {
     "data": {
      "application/vnd.jupyter.widget-view+json": {
       "model_id": "e78f0c081c8b4ca7878e47a9ba4c9a0c",
       "version_major": 2,
       "version_minor": 0
      },
      "text/plain": [
       "Training:   0%|          | 0/438 [00:00<?, ?it/s]"
      ]
     },
     "metadata": {},
     "output_type": "display_data"
    }
   ],
   "source": [
    "train_single(50, pretrained=False) # tiny 12"
   ]
  },
  {
   "cell_type": "code",
   "execution_count": 3,
   "id": "9717fa7a",
   "metadata": {},
   "outputs": [
    {
     "data": {
      "application/vnd.jupyter.widget-view+json": {
       "model_id": "",
       "version_major": 2,
       "version_minor": 0
      },
      "text/plain": [
       "Training:   0%|          | 0/438 [00:00<?, ?it/s]"
      ]
     },
     "metadata": {},
     "output_type": "display_data"
    },
    {
     "data": {
      "application/vnd.jupyter.widget-view+json": {
       "model_id": "",
       "version_major": 2,
       "version_minor": 0
      },
      "text/plain": [
       "Evaluating:   0%|          | 0/54 [00:00<?, ?it/s]"
      ]
     },
     "metadata": {},
     "output_type": "display_data"
    },
    {
     "name": "stdout",
     "output_type": "stream",
     "text": [
      "              precision    recall  f1-score   support\n",
      "\n",
      "         LOC     0.2867    0.6025    0.3885      1668\n",
      "        MISC     0.0000    0.0000    0.0000       702\n",
      "         ORG     0.2045    0.0054    0.0106      1661\n",
      "         PER     0.0000    0.0000    0.0000      1617\n",
      "\n",
      "   micro avg     0.2856    0.1795    0.2205      5648\n",
      "   macro avg     0.1228    0.1520    0.0998      5648\n",
      "weighted avg     0.1448    0.1795    0.1178      5648\n",
      "\n"
     ]
    },
    {
     "data": {
      "application/vnd.jupyter.widget-view+json": {
       "model_id": "",
       "version_major": 2,
       "version_minor": 0
      },
      "text/plain": [
       "Training:   0%|          | 0/438 [00:00<?, ?it/s]"
      ]
     },
     "metadata": {},
     "output_type": "display_data"
    },
    {
     "data": {
      "application/vnd.jupyter.widget-view+json": {
       "model_id": "",
       "version_major": 2,
       "version_minor": 0
      },
      "text/plain": [
       "Evaluating:   0%|          | 0/54 [00:00<?, ?it/s]"
      ]
     },
     "metadata": {},
     "output_type": "display_data"
    },
    {
     "name": "stdout",
     "output_type": "stream",
     "text": [
      "              precision    recall  f1-score   support\n",
      "\n",
      "         LOC     0.6629    0.5965    0.6280      1668\n",
      "        MISC     0.0000    0.0000    0.0000       702\n",
      "         ORG     0.3028    0.0915    0.1405      1661\n",
      "         PER     0.0699    0.1076    0.0848      1617\n",
      "\n",
      "   micro avg     0.2941    0.2339    0.2606      5648\n",
      "   macro avg     0.2589    0.1989    0.2133      5648\n",
      "weighted avg     0.3048    0.2339    0.2511      5648\n",
      "\n"
     ]
    },
    {
     "data": {
      "application/vnd.jupyter.widget-view+json": {
       "model_id": "",
       "version_major": 2,
       "version_minor": 0
      },
      "text/plain": [
       "Training:   0%|          | 0/438 [00:00<?, ?it/s]"
      ]
     },
     "metadata": {},
     "output_type": "display_data"
    },
    {
     "data": {
      "application/vnd.jupyter.widget-view+json": {
       "model_id": "",
       "version_major": 2,
       "version_minor": 0
      },
      "text/plain": [
       "Evaluating:   0%|          | 0/54 [00:00<?, ?it/s]"
      ]
     },
     "metadata": {},
     "output_type": "display_data"
    },
    {
     "name": "stdout",
     "output_type": "stream",
     "text": [
      "              precision    recall  f1-score   support\n",
      "\n",
      "         LOC     0.5388    0.6415    0.5857      1668\n",
      "        MISC     0.2086    0.0556    0.0877       702\n",
      "         ORG     0.2905    0.1318    0.1814      1661\n",
      "         PER     0.0900    0.1645    0.1164      1617\n",
      "\n",
      "   micro avg     0.2710    0.2822    0.2765      5648\n",
      "   macro avg     0.2820    0.2483    0.2428      5648\n",
      "weighted avg     0.2962    0.2822    0.2705      5648\n",
      "\n"
     ]
    },
    {
     "data": {
      "application/vnd.jupyter.widget-view+json": {
       "model_id": "",
       "version_major": 2,
       "version_minor": 0
      },
      "text/plain": [
       "Training:   0%|          | 0/438 [00:00<?, ?it/s]"
      ]
     },
     "metadata": {},
     "output_type": "display_data"
    },
    {
     "data": {
      "application/vnd.jupyter.widget-view+json": {
       "model_id": "",
       "version_major": 2,
       "version_minor": 0
      },
      "text/plain": [
       "Evaluating:   0%|          | 0/54 [00:00<?, ?it/s]"
      ]
     },
     "metadata": {},
     "output_type": "display_data"
    },
    {
     "name": "stdout",
     "output_type": "stream",
     "text": [
      "              precision    recall  f1-score   support\n",
      "\n",
      "         LOC     0.6750    0.6313    0.6524      1668\n",
      "        MISC     0.4562    0.1410    0.2155       702\n",
      "         ORG     0.2934    0.2372    0.2623      1661\n",
      "         PER     0.0959    0.1744    0.1238      1617\n",
      "\n",
      "   micro avg     0.3017    0.3237    0.3123      5648\n",
      "   macro avg     0.3801    0.2960    0.3135      5648\n",
      "weighted avg     0.3698    0.3237    0.3320      5648\n",
      "\n"
     ]
    },
    {
     "data": {
      "application/vnd.jupyter.widget-view+json": {
       "model_id": "",
       "version_major": 2,
       "version_minor": 0
      },
      "text/plain": [
       "Training:   0%|          | 0/438 [00:00<?, ?it/s]"
      ]
     },
     "metadata": {},
     "output_type": "display_data"
    },
    {
     "data": {
      "application/vnd.jupyter.widget-view+json": {
       "model_id": "",
       "version_major": 2,
       "version_minor": 0
      },
      "text/plain": [
       "Evaluating:   0%|          | 0/54 [00:00<?, ?it/s]"
      ]
     },
     "metadata": {},
     "output_type": "display_data"
    },
    {
     "name": "stdout",
     "output_type": "stream",
     "text": [
      "              precision    recall  f1-score   support\n",
      "\n",
      "         LOC     0.7823    0.6031    0.6811      1668\n",
      "        MISC     0.4275    0.3405    0.3791       702\n",
      "         ORG     0.3403    0.2854    0.3104      1661\n",
      "         PER     0.1112    0.1744    0.1358      1617\n",
      "\n",
      "   micro avg     0.3466    0.3543    0.3504      5648\n",
      "   macro avg     0.4153    0.3508    0.3766      5648\n",
      "weighted avg     0.4161    0.3543    0.3784      5648\n",
      "\n"
     ]
    },
    {
     "data": {
      "application/vnd.jupyter.widget-view+json": {
       "model_id": "",
       "version_major": 2,
       "version_minor": 0
      },
      "text/plain": [
       "Training:   0%|          | 0/438 [00:00<?, ?it/s]"
      ]
     },
     "metadata": {},
     "output_type": "display_data"
    },
    {
     "data": {
      "application/vnd.jupyter.widget-view+json": {
       "model_id": "",
       "version_major": 2,
       "version_minor": 0
      },
      "text/plain": [
       "Evaluating:   0%|          | 0/54 [00:00<?, ?it/s]"
      ]
     },
     "metadata": {},
     "output_type": "display_data"
    },
    {
     "name": "stdout",
     "output_type": "stream",
     "text": [
      "              precision    recall  f1-score   support\n",
      "\n",
      "         LOC     0.7434    0.6253    0.6793      1668\n",
      "        MISC     0.5261    0.2293    0.3194       702\n",
      "         ORG     0.3220    0.3191    0.3205      1661\n",
      "         PER     0.1384    0.1985    0.1631      1617\n",
      "\n",
      "   micro avg     0.3621    0.3638    0.3630      5648\n",
      "   macro avg     0.4325    0.3431    0.3706      5648\n",
      "weighted avg     0.4192    0.3638    0.3813      5648\n",
      "\n"
     ]
    },
    {
     "data": {
      "application/vnd.jupyter.widget-view+json": {
       "model_id": "",
       "version_major": 2,
       "version_minor": 0
      },
      "text/plain": [
       "Training:   0%|          | 0/438 [00:00<?, ?it/s]"
      ]
     },
     "metadata": {},
     "output_type": "display_data"
    },
    {
     "data": {
      "application/vnd.jupyter.widget-view+json": {
       "model_id": "",
       "version_major": 2,
       "version_minor": 0
      },
      "text/plain": [
       "Evaluating:   0%|          | 0/54 [00:00<?, ?it/s]"
      ]
     },
     "metadata": {},
     "output_type": "display_data"
    },
    {
     "name": "stdout",
     "output_type": "stream",
     "text": [
      "              precision    recall  f1-score   support\n",
      "\n",
      "         LOC     0.7783    0.5977    0.6762      1668\n",
      "        MISC     0.4987    0.2806    0.3592       702\n",
      "         ORG     0.3278    0.3323    0.3300      1661\n",
      "         PER     0.1455    0.2245    0.1766      1617\n",
      "\n",
      "   micro avg     0.3602    0.3734    0.3667      5648\n",
      "   macro avg     0.4376    0.3588    0.3855      5648\n",
      "weighted avg     0.4299    0.3734    0.3919      5648\n",
      "\n"
     ]
    },
    {
     "data": {
      "application/vnd.jupyter.widget-view+json": {
       "model_id": "",
       "version_major": 2,
       "version_minor": 0
      },
      "text/plain": [
       "Training:   0%|          | 0/438 [00:00<?, ?it/s]"
      ]
     },
     "metadata": {},
     "output_type": "display_data"
    },
    {
     "data": {
      "application/vnd.jupyter.widget-view+json": {
       "model_id": "",
       "version_major": 2,
       "version_minor": 0
      },
      "text/plain": [
       "Evaluating:   0%|          | 0/54 [00:00<?, ?it/s]"
      ]
     },
     "metadata": {},
     "output_type": "display_data"
    },
    {
     "name": "stdout",
     "output_type": "stream",
     "text": [
      "              precision    recall  f1-score   support\n",
      "\n",
      "         LOC     0.7572    0.6301    0.6878      1668\n",
      "        MISC     0.4227    0.4245    0.4236       702\n",
      "         ORG     0.3258    0.2950    0.3096      1661\n",
      "         PER     0.1531    0.2146    0.1787      1617\n",
      "\n",
      "   micro avg     0.3728    0.3870    0.3798      5648\n",
      "   macro avg     0.4147    0.3910    0.3999      5648\n",
      "weighted avg     0.4158    0.3870    0.3980      5648\n",
      "\n"
     ]
    },
    {
     "data": {
      "application/vnd.jupyter.widget-view+json": {
       "model_id": "",
       "version_major": 2,
       "version_minor": 0
      },
      "text/plain": [
       "Training:   0%|          | 0/438 [00:00<?, ?it/s]"
      ]
     },
     "metadata": {},
     "output_type": "display_data"
    },
    {
     "data": {
      "application/vnd.jupyter.widget-view+json": {
       "model_id": "",
       "version_major": 2,
       "version_minor": 0
      },
      "text/plain": [
       "Evaluating:   0%|          | 0/54 [00:00<?, ?it/s]"
      ]
     },
     "metadata": {},
     "output_type": "display_data"
    },
    {
     "name": "stdout",
     "output_type": "stream",
     "text": [
      "              precision    recall  f1-score   support\n",
      "\n",
      "         LOC     0.7754    0.6127    0.6845      1668\n",
      "        MISC     0.4583    0.3832    0.4174       702\n",
      "         ORG     0.3422    0.3390    0.3406      1661\n",
      "         PER     0.1558    0.2548    0.1933      1617\n",
      "\n",
      "   micro avg     0.3658    0.4012    0.3827      5648\n",
      "   macro avg     0.4329    0.3974    0.4090      5648\n",
      "weighted avg     0.4312    0.4012    0.4096      5648\n",
      "\n"
     ]
    },
    {
     "data": {
      "application/vnd.jupyter.widget-view+json": {
       "model_id": "",
       "version_major": 2,
       "version_minor": 0
      },
      "text/plain": [
       "Training:   0%|          | 0/438 [00:00<?, ?it/s]"
      ]
     },
     "metadata": {},
     "output_type": "display_data"
    },
    {
     "data": {
      "application/vnd.jupyter.widget-view+json": {
       "model_id": "",
       "version_major": 2,
       "version_minor": 0
      },
      "text/plain": [
       "Evaluating:   0%|          | 0/54 [00:00<?, ?it/s]"
      ]
     },
     "metadata": {},
     "output_type": "display_data"
    },
    {
     "name": "stdout",
     "output_type": "stream",
     "text": [
      "              precision    recall  f1-score   support\n",
      "\n",
      "         LOC     0.7440    0.6343    0.6848      1668\n",
      "        MISC     0.4881    0.3803    0.4275       702\n",
      "         ORG     0.3246    0.3727    0.3470      1661\n",
      "         PER     0.1827    0.2857    0.2229      1617\n",
      "\n",
      "   micro avg     0.3756    0.4260    0.3992      5648\n",
      "   macro avg     0.4349    0.4183    0.4205      5648\n",
      "weighted avg     0.4282    0.4260    0.4212      5648\n",
      "\n"
     ]
    },
    {
     "data": {
      "application/vnd.jupyter.widget-view+json": {
       "model_id": "",
       "version_major": 2,
       "version_minor": 0
      },
      "text/plain": [
       "Training:   0%|          | 0/438 [00:00<?, ?it/s]"
      ]
     },
     "metadata": {},
     "output_type": "display_data"
    },
    {
     "data": {
      "application/vnd.jupyter.widget-view+json": {
       "model_id": "",
       "version_major": 2,
       "version_minor": 0
      },
      "text/plain": [
       "Evaluating:   0%|          | 0/54 [00:00<?, ?it/s]"
      ]
     },
     "metadata": {},
     "output_type": "display_data"
    },
    {
     "name": "stdout",
     "output_type": "stream",
     "text": [
      "              precision    recall  f1-score   support\n",
      "\n",
      "         LOC     0.7616    0.6319    0.6907      1668\n",
      "        MISC     0.5157    0.4202    0.4631       702\n",
      "         ORG     0.3620    0.3323    0.3465      1661\n",
      "         PER     0.2830    0.4125    0.3357      1617\n",
      "\n",
      "   micro avg     0.4399    0.4547    0.4472      5648\n",
      "   macro avg     0.4806    0.4492    0.4590      5648\n",
      "weighted avg     0.4765    0.4547    0.4596      5648\n",
      "\n"
     ]
    },
    {
     "data": {
      "application/vnd.jupyter.widget-view+json": {
       "model_id": "",
       "version_major": 2,
       "version_minor": 0
      },
      "text/plain": [
       "Training:   0%|          | 0/438 [00:00<?, ?it/s]"
      ]
     },
     "metadata": {},
     "output_type": "display_data"
    },
    {
     "data": {
      "application/vnd.jupyter.widget-view+json": {
       "model_id": "",
       "version_major": 2,
       "version_minor": 0
      },
      "text/plain": [
       "Evaluating:   0%|          | 0/54 [00:00<?, ?it/s]"
      ]
     },
     "metadata": {},
     "output_type": "display_data"
    },
    {
     "name": "stdout",
     "output_type": "stream",
     "text": [
      "              precision    recall  f1-score   support\n",
      "\n",
      "         LOC     0.7461    0.6361    0.6867      1668\n",
      "        MISC     0.5477    0.4416    0.4890       702\n",
      "         ORG     0.3446    0.3745    0.3589      1661\n",
      "         PER     0.3139    0.4168    0.3581      1617\n",
      "\n",
      "   micro avg     0.4490    0.4722    0.4603      5648\n",
      "   macro avg     0.4881    0.4672    0.4732      5648\n",
      "weighted avg     0.4796    0.4722    0.4717      5648\n",
      "\n"
     ]
    },
    {
     "data": {
      "application/vnd.jupyter.widget-view+json": {
       "model_id": "",
       "version_major": 2,
       "version_minor": 0
      },
      "text/plain": [
       "Training:   0%|          | 0/438 [00:00<?, ?it/s]"
      ]
     },
     "metadata": {},
     "output_type": "display_data"
    },
    {
     "data": {
      "application/vnd.jupyter.widget-view+json": {
       "model_id": "",
       "version_major": 2,
       "version_minor": 0
      },
      "text/plain": [
       "Evaluating:   0%|          | 0/54 [00:00<?, ?it/s]"
      ]
     },
     "metadata": {},
     "output_type": "display_data"
    },
    {
     "name": "stdout",
     "output_type": "stream",
     "text": [
      "              precision    recall  f1-score   support\n",
      "\n",
      "         LOC     0.7113    0.6691    0.6895      1668\n",
      "        MISC     0.4412    0.5128    0.4743       702\n",
      "         ORG     0.4240    0.3697    0.3950      1661\n",
      "         PER     0.3024    0.4094    0.3479      1617\n",
      "\n",
      "   micro avg     0.4570    0.4873    0.4716      5648\n",
      "   macro avg     0.4697    0.4902    0.4767      5648\n",
      "weighted avg     0.4762    0.4873    0.4783      5648\n",
      "\n"
     ]
    },
    {
     "data": {
      "application/vnd.jupyter.widget-view+json": {
       "model_id": "",
       "version_major": 2,
       "version_minor": 0
      },
      "text/plain": [
       "Training:   0%|          | 0/438 [00:00<?, ?it/s]"
      ]
     },
     "metadata": {},
     "output_type": "display_data"
    },
    {
     "data": {
      "application/vnd.jupyter.widget-view+json": {
       "model_id": "",
       "version_major": 2,
       "version_minor": 0
      },
      "text/plain": [
       "Evaluating:   0%|          | 0/54 [00:00<?, ?it/s]"
      ]
     },
     "metadata": {},
     "output_type": "display_data"
    },
    {
     "name": "stdout",
     "output_type": "stream",
     "text": [
      "              precision    recall  f1-score   support\n",
      "\n",
      "         LOC     0.7171    0.6673    0.6913      1668\n",
      "        MISC     0.5226    0.4943    0.5081       702\n",
      "         ORG     0.4190    0.4232    0.4211      1661\n",
      "         PER     0.3010    0.3933    0.3410      1617\n",
      "\n",
      "   micro avg     0.4660    0.4956    0.4803      5648\n",
      "   macro avg     0.4899    0.4945    0.4904      5648\n",
      "weighted avg     0.4861    0.4956    0.4888      5648\n",
      "\n"
     ]
    },
    {
     "data": {
      "application/vnd.jupyter.widget-view+json": {
       "model_id": "",
       "version_major": 2,
       "version_minor": 0
      },
      "text/plain": [
       "Training:   0%|          | 0/438 [00:00<?, ?it/s]"
      ]
     },
     "metadata": {},
     "output_type": "display_data"
    },
    {
     "data": {
      "application/vnd.jupyter.widget-view+json": {
       "model_id": "",
       "version_major": 2,
       "version_minor": 0
      },
      "text/plain": [
       "Evaluating:   0%|          | 0/54 [00:00<?, ?it/s]"
      ]
     },
     "metadata": {},
     "output_type": "display_data"
    },
    {
     "name": "stdout",
     "output_type": "stream",
     "text": [
      "              precision    recall  f1-score   support\n",
      "\n",
      "         LOC     0.6642    0.7008    0.6820      1668\n",
      "        MISC     0.4828    0.5385    0.5091       702\n",
      "         ORG     0.4339    0.4010    0.4168      1661\n",
      "         PER     0.3217    0.4106    0.3608      1617\n",
      "\n",
      "   micro avg     0.4684    0.5094    0.4880      5648\n",
      "   macro avg     0.4756    0.5127    0.4922      5648\n",
      "weighted avg     0.4759    0.5094    0.4906      5648\n",
      "\n"
     ]
    },
    {
     "data": {
      "application/vnd.jupyter.widget-view+json": {
       "model_id": "",
       "version_major": 2,
       "version_minor": 0
      },
      "text/plain": [
       "Training:   0%|          | 0/438 [00:00<?, ?it/s]"
      ]
     },
     "metadata": {},
     "output_type": "display_data"
    },
    {
     "data": {
      "application/vnd.jupyter.widget-view+json": {
       "model_id": "",
       "version_major": 2,
       "version_minor": 0
      },
      "text/plain": [
       "Evaluating:   0%|          | 0/54 [00:00<?, ?it/s]"
      ]
     },
     "metadata": {},
     "output_type": "display_data"
    },
    {
     "name": "stdout",
     "output_type": "stream",
     "text": [
      "              precision    recall  f1-score   support\n",
      "\n",
      "         LOC     0.7124    0.6847    0.6983      1668\n",
      "        MISC     0.5357    0.5242    0.5299       702\n",
      "         ORG     0.4583    0.4371    0.4475      1661\n",
      "         PER     0.3209    0.4632    0.3791      1617\n",
      "\n",
      "   micro avg     0.4808    0.5285    0.5035      5648\n",
      "   macro avg     0.5068    0.5273    0.5137      5648\n",
      "weighted avg     0.5036    0.5285    0.5122      5648\n",
      "\n"
     ]
    },
    {
     "data": {
      "application/vnd.jupyter.widget-view+json": {
       "model_id": "",
       "version_major": 2,
       "version_minor": 0
      },
      "text/plain": [
       "Training:   0%|          | 0/438 [00:00<?, ?it/s]"
      ]
     },
     "metadata": {},
     "output_type": "display_data"
    },
    {
     "data": {
      "application/vnd.jupyter.widget-view+json": {
       "model_id": "",
       "version_major": 2,
       "version_minor": 0
      },
      "text/plain": [
       "Evaluating:   0%|          | 0/54 [00:00<?, ?it/s]"
      ]
     },
     "metadata": {},
     "output_type": "display_data"
    },
    {
     "name": "stdout",
     "output_type": "stream",
     "text": [
      "              precision    recall  f1-score   support\n",
      "\n",
      "         LOC     0.7048    0.6972    0.7010      1668\n",
      "        MISC     0.5681    0.5171    0.5414       702\n",
      "         ORG     0.4359    0.4503    0.4430      1661\n",
      "         PER     0.3391    0.4267    0.3779      1617\n",
      "\n",
      "   micro avg     0.4907    0.5248    0.5072      5648\n",
      "   macro avg     0.5120    0.5228    0.5158      5648\n",
      "weighted avg     0.5040    0.5248    0.5128      5648\n",
      "\n"
     ]
    },
    {
     "data": {
      "application/vnd.jupyter.widget-view+json": {
       "model_id": "",
       "version_major": 2,
       "version_minor": 0
      },
      "text/plain": [
       "Training:   0%|          | 0/438 [00:00<?, ?it/s]"
      ]
     },
     "metadata": {},
     "output_type": "display_data"
    },
    {
     "data": {
      "application/vnd.jupyter.widget-view+json": {
       "model_id": "",
       "version_major": 2,
       "version_minor": 0
      },
      "text/plain": [
       "Evaluating:   0%|          | 0/54 [00:00<?, ?it/s]"
      ]
     },
     "metadata": {},
     "output_type": "display_data"
    },
    {
     "name": "stdout",
     "output_type": "stream",
     "text": [
      "              precision    recall  f1-score   support\n",
      "\n",
      "         LOC     0.7028    0.6960    0.6994      1668\n",
      "        MISC     0.5587    0.5556    0.5571       702\n",
      "         ORG     0.4669    0.4672    0.4670      1661\n",
      "         PER     0.3504    0.4187    0.3815      1617\n",
      "\n",
      "   micro avg     0.5054    0.5319    0.5183      5648\n",
      "   macro avg     0.5197    0.5344    0.5263      5648\n",
      "weighted avg     0.5146    0.5319    0.5224      5648\n",
      "\n"
     ]
    },
    {
     "data": {
      "application/vnd.jupyter.widget-view+json": {
       "model_id": "",
       "version_major": 2,
       "version_minor": 0
      },
      "text/plain": [
       "Training:   0%|          | 0/438 [00:00<?, ?it/s]"
      ]
     },
     "metadata": {},
     "output_type": "display_data"
    },
    {
     "data": {
      "application/vnd.jupyter.widget-view+json": {
       "model_id": "",
       "version_major": 2,
       "version_minor": 0
      },
      "text/plain": [
       "Evaluating:   0%|          | 0/54 [00:00<?, ?it/s]"
      ]
     },
     "metadata": {},
     "output_type": "display_data"
    },
    {
     "name": "stdout",
     "output_type": "stream",
     "text": [
      "              precision    recall  f1-score   support\n",
      "\n",
      "         LOC     0.6676    0.7068    0.6867      1668\n",
      "        MISC     0.5609    0.5442    0.5524       702\n",
      "         ORG     0.4247    0.4991    0.4589      1661\n",
      "         PER     0.3486    0.3902    0.3683      1617\n",
      "\n",
      "   micro avg     0.4866    0.5349    0.5096      5648\n",
      "   macro avg     0.5005    0.5351    0.5166      5648\n",
      "weighted avg     0.4916    0.5349    0.5118      5648\n",
      "\n"
     ]
    },
    {
     "data": {
      "application/vnd.jupyter.widget-view+json": {
       "model_id": "",
       "version_major": 2,
       "version_minor": 0
      },
      "text/plain": [
       "Training:   0%|          | 0/438 [00:00<?, ?it/s]"
      ]
     },
     "metadata": {},
     "output_type": "display_data"
    },
    {
     "data": {
      "application/vnd.jupyter.widget-view+json": {
       "model_id": "",
       "version_major": 2,
       "version_minor": 0
      },
      "text/plain": [
       "Evaluating:   0%|          | 0/54 [00:00<?, ?it/s]"
      ]
     },
     "metadata": {},
     "output_type": "display_data"
    },
    {
     "name": "stdout",
     "output_type": "stream",
     "text": [
      "              precision    recall  f1-score   support\n",
      "\n",
      "         LOC     0.6223    0.7212    0.6681      1668\n",
      "        MISC     0.5767    0.5142    0.5437       702\n",
      "         ORG     0.4199    0.5099    0.4606      1661\n",
      "         PER     0.3513    0.3902    0.3698      1617\n",
      "\n",
      "   micro avg     0.4774    0.5386    0.5062      5648\n",
      "   macro avg     0.4926    0.5339    0.5105      5648\n",
      "weighted avg     0.4796    0.5386    0.5062      5648\n",
      "\n"
     ]
    },
    {
     "data": {
      "application/vnd.jupyter.widget-view+json": {
       "model_id": "",
       "version_major": 2,
       "version_minor": 0
      },
      "text/plain": [
       "Training:   0%|          | 0/438 [00:00<?, ?it/s]"
      ]
     },
     "metadata": {},
     "output_type": "display_data"
    },
    {
     "data": {
      "application/vnd.jupyter.widget-view+json": {
       "model_id": "",
       "version_major": 2,
       "version_minor": 0
      },
      "text/plain": [
       "Evaluating:   0%|          | 0/54 [00:00<?, ?it/s]"
      ]
     },
     "metadata": {},
     "output_type": "display_data"
    },
    {
     "name": "stdout",
     "output_type": "stream",
     "text": [
      "              precision    recall  f1-score   support\n",
      "\n",
      "         LOC     0.6153    0.7404    0.6721      1668\n",
      "        MISC     0.5372    0.5755    0.5557       702\n",
      "         ORG     0.4883    0.4503    0.4685      1661\n",
      "         PER     0.3319    0.3828    0.3555      1617\n",
      "\n",
      "   micro avg     0.4883    0.5322    0.5093      5648\n",
      "   macro avg     0.4932    0.5373    0.5130      5648\n",
      "weighted avg     0.4871    0.5322    0.5071      5648\n",
      "\n"
     ]
    },
    {
     "data": {
      "application/vnd.jupyter.widget-view+json": {
       "model_id": "",
       "version_major": 2,
       "version_minor": 0
      },
      "text/plain": [
       "Training:   0%|          | 0/438 [00:00<?, ?it/s]"
      ]
     },
     "metadata": {},
     "output_type": "display_data"
    },
    {
     "data": {
      "application/vnd.jupyter.widget-view+json": {
       "model_id": "",
       "version_major": 2,
       "version_minor": 0
      },
      "text/plain": [
       "Evaluating:   0%|          | 0/54 [00:00<?, ?it/s]"
      ]
     },
     "metadata": {},
     "output_type": "display_data"
    },
    {
     "name": "stdout",
     "output_type": "stream",
     "text": [
      "              precision    recall  f1-score   support\n",
      "\n",
      "         LOC     0.6663    0.6882    0.6771      1668\n",
      "        MISC     0.6010    0.4957    0.5433       702\n",
      "         ORG     0.4163    0.5274    0.4653      1661\n",
      "         PER     0.3659    0.4119    0.3875      1617\n",
      "\n",
      "   micro avg     0.4880    0.5379    0.5117      5648\n",
      "   macro avg     0.5124    0.5308    0.5183      5648\n",
      "weighted avg     0.4987    0.5379    0.5153      5648\n",
      "\n"
     ]
    },
    {
     "data": {
      "application/vnd.jupyter.widget-view+json": {
       "model_id": "",
       "version_major": 2,
       "version_minor": 0
      },
      "text/plain": [
       "Training:   0%|          | 0/438 [00:00<?, ?it/s]"
      ]
     },
     "metadata": {},
     "output_type": "display_data"
    },
    {
     "data": {
      "application/vnd.jupyter.widget-view+json": {
       "model_id": "",
       "version_major": 2,
       "version_minor": 0
      },
      "text/plain": [
       "Evaluating:   0%|          | 0/54 [00:00<?, ?it/s]"
      ]
     },
     "metadata": {},
     "output_type": "display_data"
    },
    {
     "name": "stdout",
     "output_type": "stream",
     "text": [
      "              precision    recall  f1-score   support\n",
      "\n",
      "         LOC     0.6622    0.7170    0.6885      1668\n",
      "        MISC     0.5691    0.5456    0.5571       702\n",
      "         ORG     0.4574    0.4852    0.4709      1661\n",
      "         PER     0.3765    0.4564    0.4126      1617\n",
      "\n",
      "   micro avg     0.5036    0.5529    0.5271      5648\n",
      "   macro avg     0.5163    0.5511    0.5323      5648\n",
      "weighted avg     0.5086    0.5529    0.5292      5648\n",
      "\n"
     ]
    },
    {
     "data": {
      "application/vnd.jupyter.widget-view+json": {
       "model_id": "",
       "version_major": 2,
       "version_minor": 0
      },
      "text/plain": [
       "Training:   0%|          | 0/438 [00:00<?, ?it/s]"
      ]
     },
     "metadata": {},
     "output_type": "display_data"
    },
    {
     "data": {
      "application/vnd.jupyter.widget-view+json": {
       "model_id": "",
       "version_major": 2,
       "version_minor": 0
      },
      "text/plain": [
       "Evaluating:   0%|          | 0/54 [00:00<?, ?it/s]"
      ]
     },
     "metadata": {},
     "output_type": "display_data"
    },
    {
     "name": "stdout",
     "output_type": "stream",
     "text": [
      "              precision    recall  f1-score   support\n",
      "\n",
      "         LOC     0.6359    0.7392    0.6837      1668\n",
      "        MISC     0.6009    0.5470    0.5727       702\n",
      "         ORG     0.4558    0.4744    0.4649      1661\n",
      "         PER     0.3556    0.4212    0.3856      1617\n",
      "\n",
      "   micro avg     0.4960    0.5464    0.5200      5648\n",
      "   macro avg     0.5121    0.5454    0.5267      5648\n",
      "weighted avg     0.4983    0.5464    0.5202      5648\n",
      "\n"
     ]
    },
    {
     "data": {
      "application/vnd.jupyter.widget-view+json": {
       "model_id": "",
       "version_major": 2,
       "version_minor": 0
      },
      "text/plain": [
       "Training:   0%|          | 0/438 [00:00<?, ?it/s]"
      ]
     },
     "metadata": {},
     "output_type": "display_data"
    },
    {
     "data": {
      "application/vnd.jupyter.widget-view+json": {
       "model_id": "",
       "version_major": 2,
       "version_minor": 0
      },
      "text/plain": [
       "Evaluating:   0%|          | 0/54 [00:00<?, ?it/s]"
      ]
     },
     "metadata": {},
     "output_type": "display_data"
    },
    {
     "name": "stdout",
     "output_type": "stream",
     "text": [
      "              precision    recall  f1-score   support\n",
      "\n",
      "         LOC     0.6454    0.7080    0.6752      1668\n",
      "        MISC     0.5847    0.5755    0.5800       702\n",
      "         ORG     0.4460    0.4744    0.4597      1661\n",
      "         PER     0.3357    0.4150    0.3711      1617\n",
      "\n",
      "   micro avg     0.4842    0.5390    0.5101      5648\n",
      "   macro avg     0.5029    0.5432    0.5215      5648\n",
      "weighted avg     0.4905    0.5390    0.5130      5648\n",
      "\n"
     ]
    },
    {
     "data": {
      "application/vnd.jupyter.widget-view+json": {
       "model_id": "",
       "version_major": 2,
       "version_minor": 0
      },
      "text/plain": [
       "Training:   0%|          | 0/438 [00:00<?, ?it/s]"
      ]
     },
     "metadata": {},
     "output_type": "display_data"
    },
    {
     "data": {
      "application/vnd.jupyter.widget-view+json": {
       "model_id": "",
       "version_major": 2,
       "version_minor": 0
      },
      "text/plain": [
       "Evaluating:   0%|          | 0/54 [00:00<?, ?it/s]"
      ]
     },
     "metadata": {},
     "output_type": "display_data"
    },
    {
     "name": "stdout",
     "output_type": "stream",
     "text": [
      "              precision    recall  f1-score   support\n",
      "\n",
      "         LOC     0.6165    0.7266    0.6670      1668\n",
      "        MISC     0.5905    0.5484    0.5687       702\n",
      "         ORG     0.4634    0.4606    0.4620      1661\n",
      "         PER     0.3392    0.4391    0.3827      1617\n",
      "\n",
      "   micro avg     0.4829    0.5439    0.5116      5648\n",
      "   macro avg     0.5024    0.5437    0.5201      5648\n",
      "weighted avg     0.4888    0.5439    0.5131      5648\n",
      "\n"
     ]
    },
    {
     "data": {
      "application/vnd.jupyter.widget-view+json": {
       "model_id": "",
       "version_major": 2,
       "version_minor": 0
      },
      "text/plain": [
       "Training:   0%|          | 0/438 [00:00<?, ?it/s]"
      ]
     },
     "metadata": {},
     "output_type": "display_data"
    },
    {
     "data": {
      "application/vnd.jupyter.widget-view+json": {
       "model_id": "",
       "version_major": 2,
       "version_minor": 0
      },
      "text/plain": [
       "Evaluating:   0%|          | 0/54 [00:00<?, ?it/s]"
      ]
     },
     "metadata": {},
     "output_type": "display_data"
    },
    {
     "name": "stdout",
     "output_type": "stream",
     "text": [
      "              precision    recall  f1-score   support\n",
      "\n",
      "         LOC     0.6468    0.6894    0.6674      1668\n",
      "        MISC     0.5903    0.5356    0.5616       702\n",
      "         ORG     0.4093    0.5069    0.4529      1661\n",
      "         PER     0.3463    0.3952    0.3692      1617\n",
      "\n",
      "   micro avg     0.4760    0.5324    0.5026      5648\n",
      "   macro avg     0.4982    0.5318    0.5128      5648\n",
      "weighted avg     0.4839    0.5324    0.5058      5648\n",
      "\n"
     ]
    },
    {
     "data": {
      "application/vnd.jupyter.widget-view+json": {
       "model_id": "",
       "version_major": 2,
       "version_minor": 0
      },
      "text/plain": [
       "Training:   0%|          | 0/438 [00:00<?, ?it/s]"
      ]
     },
     "metadata": {},
     "output_type": "display_data"
    },
    {
     "data": {
      "application/vnd.jupyter.widget-view+json": {
       "model_id": "",
       "version_major": 2,
       "version_minor": 0
      },
      "text/plain": [
       "Evaluating:   0%|          | 0/54 [00:00<?, ?it/s]"
      ]
     },
     "metadata": {},
     "output_type": "display_data"
    },
    {
     "name": "stdout",
     "output_type": "stream",
     "text": [
      "              precision    recall  f1-score   support\n",
      "\n",
      "         LOC     0.6380    0.7152    0.6744      1668\n",
      "        MISC     0.5775    0.5627    0.5700       702\n",
      "         ORG     0.4319    0.4871    0.4578      1661\n",
      "         PER     0.3766    0.4286    0.4009      1617\n",
      "\n",
      "   micro avg     0.4931    0.5471    0.5187      5648\n",
      "   macro avg     0.5060    0.5484    0.5258      5648\n",
      "weighted avg     0.4950    0.5471    0.5194      5648\n",
      "\n"
     ]
    },
    {
     "data": {
      "application/vnd.jupyter.widget-view+json": {
       "model_id": "",
       "version_major": 2,
       "version_minor": 0
      },
      "text/plain": [
       "Training:   0%|          | 0/438 [00:00<?, ?it/s]"
      ]
     },
     "metadata": {},
     "output_type": "display_data"
    },
    {
     "data": {
      "application/vnd.jupyter.widget-view+json": {
       "model_id": "",
       "version_major": 2,
       "version_minor": 0
      },
      "text/plain": [
       "Evaluating:   0%|          | 0/54 [00:00<?, ?it/s]"
      ]
     },
     "metadata": {},
     "output_type": "display_data"
    },
    {
     "name": "stdout",
     "output_type": "stream",
     "text": [
      "              precision    recall  f1-score   support\n",
      "\n",
      "         LOC     0.6279    0.7182    0.6700      1668\n",
      "        MISC     0.5880    0.5570    0.5721       702\n",
      "         ORG     0.4623    0.4756    0.4688      1661\n",
      "         PER     0.3438    0.4261    0.3806      1617\n",
      "\n",
      "   micro avg     0.4881    0.5432    0.5142      5648\n",
      "   macro avg     0.5055    0.5442    0.5229      5648\n",
      "weighted avg     0.4929    0.5432    0.5158      5648\n",
      "\n"
     ]
    },
    {
     "data": {
      "application/vnd.jupyter.widget-view+json": {
       "model_id": "1b261657108f42b38252174e15d37732",
       "version_major": 2,
       "version_minor": 0
      },
      "text/plain": [
       "Training:   0%|          | 0/438 [00:00<?, ?it/s]"
      ]
     },
     "metadata": {},
     "output_type": "display_data"
    },
    {
     "ename": "KeyboardInterrupt",
     "evalue": "",
     "output_type": "error",
     "traceback": [
      "\u001b[0;31m---------------------------------------------------------------------------\u001b[0m",
      "\u001b[0;31mKeyboardInterrupt\u001b[0m                         Traceback (most recent call last)",
      "\u001b[0;32m/tmp/ipykernel_2445033/3224807348.py\u001b[0m in \u001b[0;36m<module>\u001b[0;34m\u001b[0m\n\u001b[0;32m----> 1\u001b[0;31m \u001b[0mtrain_single\u001b[0m\u001b[0;34m(\u001b[0m\u001b[0;36m50\u001b[0m\u001b[0;34m,\u001b[0m \u001b[0mpretrained\u001b[0m\u001b[0;34m=\u001b[0m\u001b[0;32mFalse\u001b[0m\u001b[0;34m)\u001b[0m\u001b[0;34m\u001b[0m\u001b[0;34m\u001b[0m\u001b[0m\n\u001b[0m",
      "\u001b[0;32m/tmp/ipykernel_2445033/167943225.py\u001b[0m in \u001b[0;36mtrain_single\u001b[0;34m(epochs, lr, batch_size, pretrained)\u001b[0m\n\u001b[1;32m     26\u001b[0m     \u001b[0;32mfor\u001b[0m \u001b[0me\u001b[0m \u001b[0;32min\u001b[0m \u001b[0mrange\u001b[0m\u001b[0;34m(\u001b[0m\u001b[0mepochs\u001b[0m\u001b[0;34m)\u001b[0m\u001b[0;34m:\u001b[0m\u001b[0;34m\u001b[0m\u001b[0;34m\u001b[0m\u001b[0m\n\u001b[1;32m     27\u001b[0m         \u001b[0;32mfor\u001b[0m \u001b[0mx\u001b[0m\u001b[0;34m,\u001b[0m \u001b[0my\u001b[0m \u001b[0;32min\u001b[0m \u001b[0mtqdm\u001b[0m\u001b[0;34m(\u001b[0m\u001b[0mdata\u001b[0m\u001b[0;34m,\u001b[0m \u001b[0mposition\u001b[0m\u001b[0;34m=\u001b[0m\u001b[0;36m0\u001b[0m\u001b[0;34m,\u001b[0m \u001b[0mleave\u001b[0m\u001b[0;34m=\u001b[0m\u001b[0;32mFalse\u001b[0m\u001b[0;34m,\u001b[0m \u001b[0mdesc\u001b[0m\u001b[0;34m=\u001b[0m\u001b[0;34m\"Training\"\u001b[0m\u001b[0;34m)\u001b[0m\u001b[0;34m:\u001b[0m\u001b[0;34m\u001b[0m\u001b[0;34m\u001b[0m\u001b[0m\n\u001b[0;32m---> 28\u001b[0;31m             \u001b[0mtrain_batch\u001b[0m\u001b[0;34m(\u001b[0m\u001b[0mmodel\u001b[0m\u001b[0;34m,\u001b[0m \u001b[0mx\u001b[0m\u001b[0;34m,\u001b[0m \u001b[0my\u001b[0m\u001b[0;34m)\u001b[0m\u001b[0;34m\u001b[0m\u001b[0;34m\u001b[0m\u001b[0m\n\u001b[0m\u001b[1;32m     29\u001b[0m         \u001b[0meval_model\u001b[0m\u001b[0;34m(\u001b[0m\u001b[0mmodel\u001b[0m\u001b[0;34m,\u001b[0m \u001b[0meval_data_batched\u001b[0m\u001b[0;34m)\u001b[0m\u001b[0;34m\u001b[0m\u001b[0;34m\u001b[0m\u001b[0m\n\u001b[1;32m     30\u001b[0m     \u001b[0;32mreturn\u001b[0m \u001b[0mmodel\u001b[0m\u001b[0;34m\u001b[0m\u001b[0;34m\u001b[0m\u001b[0m\n",
      "\u001b[0;32m~/.pyenv/versions/3.8.10/lib/python3.8/site-packages/tensorflow/python/eager/def_function.py\u001b[0m in \u001b[0;36m__call__\u001b[0;34m(self, *args, **kwds)\u001b[0m\n\u001b[1;32m    887\u001b[0m \u001b[0;34m\u001b[0m\u001b[0m\n\u001b[1;32m    888\u001b[0m       \u001b[0;32mwith\u001b[0m \u001b[0mOptionalXlaContext\u001b[0m\u001b[0;34m(\u001b[0m\u001b[0mself\u001b[0m\u001b[0;34m.\u001b[0m\u001b[0m_jit_compile\u001b[0m\u001b[0;34m)\u001b[0m\u001b[0;34m:\u001b[0m\u001b[0;34m\u001b[0m\u001b[0;34m\u001b[0m\u001b[0m\n\u001b[0;32m--> 889\u001b[0;31m         \u001b[0mresult\u001b[0m \u001b[0;34m=\u001b[0m \u001b[0mself\u001b[0m\u001b[0;34m.\u001b[0m\u001b[0m_call\u001b[0m\u001b[0;34m(\u001b[0m\u001b[0;34m*\u001b[0m\u001b[0margs\u001b[0m\u001b[0;34m,\u001b[0m \u001b[0;34m**\u001b[0m\u001b[0mkwds\u001b[0m\u001b[0;34m)\u001b[0m\u001b[0;34m\u001b[0m\u001b[0;34m\u001b[0m\u001b[0m\n\u001b[0m\u001b[1;32m    890\u001b[0m \u001b[0;34m\u001b[0m\u001b[0m\n\u001b[1;32m    891\u001b[0m       \u001b[0mnew_tracing_count\u001b[0m \u001b[0;34m=\u001b[0m \u001b[0mself\u001b[0m\u001b[0;34m.\u001b[0m\u001b[0mexperimental_get_tracing_count\u001b[0m\u001b[0;34m(\u001b[0m\u001b[0;34m)\u001b[0m\u001b[0;34m\u001b[0m\u001b[0;34m\u001b[0m\u001b[0m\n",
      "\u001b[0;32m~/.pyenv/versions/3.8.10/lib/python3.8/site-packages/tensorflow/python/eager/def_function.py\u001b[0m in \u001b[0;36m_call\u001b[0;34m(self, *args, **kwds)\u001b[0m\n\u001b[1;32m    915\u001b[0m       \u001b[0;31m# In this case we have created variables on the first call, so we run the\u001b[0m\u001b[0;34m\u001b[0m\u001b[0;34m\u001b[0m\u001b[0;34m\u001b[0m\u001b[0m\n\u001b[1;32m    916\u001b[0m       \u001b[0;31m# defunned version which is guaranteed to never create variables.\u001b[0m\u001b[0;34m\u001b[0m\u001b[0;34m\u001b[0m\u001b[0;34m\u001b[0m\u001b[0m\n\u001b[0;32m--> 917\u001b[0;31m       \u001b[0;32mreturn\u001b[0m \u001b[0mself\u001b[0m\u001b[0;34m.\u001b[0m\u001b[0m_stateless_fn\u001b[0m\u001b[0;34m(\u001b[0m\u001b[0;34m*\u001b[0m\u001b[0margs\u001b[0m\u001b[0;34m,\u001b[0m \u001b[0;34m**\u001b[0m\u001b[0mkwds\u001b[0m\u001b[0;34m)\u001b[0m  \u001b[0;31m# pylint: disable=not-callable\u001b[0m\u001b[0;34m\u001b[0m\u001b[0;34m\u001b[0m\u001b[0m\n\u001b[0m\u001b[1;32m    918\u001b[0m     \u001b[0;32melif\u001b[0m \u001b[0mself\u001b[0m\u001b[0;34m.\u001b[0m\u001b[0m_stateful_fn\u001b[0m \u001b[0;32mis\u001b[0m \u001b[0;32mnot\u001b[0m \u001b[0;32mNone\u001b[0m\u001b[0;34m:\u001b[0m\u001b[0;34m\u001b[0m\u001b[0;34m\u001b[0m\u001b[0m\n\u001b[1;32m    919\u001b[0m       \u001b[0;31m# Release the lock early so that multiple threads can perform the call\u001b[0m\u001b[0;34m\u001b[0m\u001b[0;34m\u001b[0m\u001b[0;34m\u001b[0m\u001b[0m\n",
      "\u001b[0;32m~/.pyenv/versions/3.8.10/lib/python3.8/site-packages/tensorflow/python/eager/function.py\u001b[0m in \u001b[0;36m__call__\u001b[0;34m(self, *args, **kwargs)\u001b[0m\n\u001b[1;32m   3021\u001b[0m       (graph_function,\n\u001b[1;32m   3022\u001b[0m        filtered_flat_args) = self._maybe_define_function(args, kwargs)\n\u001b[0;32m-> 3023\u001b[0;31m     return graph_function._call_flat(\n\u001b[0m\u001b[1;32m   3024\u001b[0m         filtered_flat_args, captured_inputs=graph_function.captured_inputs)  # pylint: disable=protected-access\n\u001b[1;32m   3025\u001b[0m \u001b[0;34m\u001b[0m\u001b[0m\n",
      "\u001b[0;32m~/.pyenv/versions/3.8.10/lib/python3.8/site-packages/tensorflow/python/eager/function.py\u001b[0m in \u001b[0;36m_call_flat\u001b[0;34m(self, args, captured_inputs, cancellation_manager)\u001b[0m\n\u001b[1;32m   1958\u001b[0m         and executing_eagerly):\n\u001b[1;32m   1959\u001b[0m       \u001b[0;31m# No tape is watching; skip to running the function.\u001b[0m\u001b[0;34m\u001b[0m\u001b[0;34m\u001b[0m\u001b[0;34m\u001b[0m\u001b[0m\n\u001b[0;32m-> 1960\u001b[0;31m       return self._build_call_outputs(self._inference_function.call(\n\u001b[0m\u001b[1;32m   1961\u001b[0m           ctx, args, cancellation_manager=cancellation_manager))\n\u001b[1;32m   1962\u001b[0m     forward_backward = self._select_forward_and_backward_functions(\n",
      "\u001b[0;32m~/.pyenv/versions/3.8.10/lib/python3.8/site-packages/tensorflow/python/eager/function.py\u001b[0m in \u001b[0;36mcall\u001b[0;34m(self, ctx, args, cancellation_manager)\u001b[0m\n\u001b[1;32m    589\u001b[0m       \u001b[0;32mwith\u001b[0m \u001b[0m_InterpolateFunctionError\u001b[0m\u001b[0;34m(\u001b[0m\u001b[0mself\u001b[0m\u001b[0;34m)\u001b[0m\u001b[0;34m:\u001b[0m\u001b[0;34m\u001b[0m\u001b[0;34m\u001b[0m\u001b[0m\n\u001b[1;32m    590\u001b[0m         \u001b[0;32mif\u001b[0m \u001b[0mcancellation_manager\u001b[0m \u001b[0;32mis\u001b[0m \u001b[0;32mNone\u001b[0m\u001b[0;34m:\u001b[0m\u001b[0;34m\u001b[0m\u001b[0;34m\u001b[0m\u001b[0m\n\u001b[0;32m--> 591\u001b[0;31m           outputs = execute.execute(\n\u001b[0m\u001b[1;32m    592\u001b[0m               \u001b[0mstr\u001b[0m\u001b[0;34m(\u001b[0m\u001b[0mself\u001b[0m\u001b[0;34m.\u001b[0m\u001b[0msignature\u001b[0m\u001b[0;34m.\u001b[0m\u001b[0mname\u001b[0m\u001b[0;34m)\u001b[0m\u001b[0;34m,\u001b[0m\u001b[0;34m\u001b[0m\u001b[0;34m\u001b[0m\u001b[0m\n\u001b[1;32m    593\u001b[0m               \u001b[0mnum_outputs\u001b[0m\u001b[0;34m=\u001b[0m\u001b[0mself\u001b[0m\u001b[0;34m.\u001b[0m\u001b[0m_num_outputs\u001b[0m\u001b[0;34m,\u001b[0m\u001b[0;34m\u001b[0m\u001b[0;34m\u001b[0m\u001b[0m\n",
      "\u001b[0;32m~/.pyenv/versions/3.8.10/lib/python3.8/site-packages/tensorflow/python/eager/execute.py\u001b[0m in \u001b[0;36mquick_execute\u001b[0;34m(op_name, num_outputs, inputs, attrs, ctx, name)\u001b[0m\n\u001b[1;32m     57\u001b[0m   \u001b[0;32mtry\u001b[0m\u001b[0;34m:\u001b[0m\u001b[0;34m\u001b[0m\u001b[0;34m\u001b[0m\u001b[0m\n\u001b[1;32m     58\u001b[0m     \u001b[0mctx\u001b[0m\u001b[0;34m.\u001b[0m\u001b[0mensure_initialized\u001b[0m\u001b[0;34m(\u001b[0m\u001b[0;34m)\u001b[0m\u001b[0;34m\u001b[0m\u001b[0;34m\u001b[0m\u001b[0m\n\u001b[0;32m---> 59\u001b[0;31m     tensors = pywrap_tfe.TFE_Py_Execute(ctx._handle, device_name, op_name,\n\u001b[0m\u001b[1;32m     60\u001b[0m                                         inputs, attrs, num_outputs)\n\u001b[1;32m     61\u001b[0m   \u001b[0;32mexcept\u001b[0m \u001b[0mcore\u001b[0m\u001b[0;34m.\u001b[0m\u001b[0m_NotOkStatusException\u001b[0m \u001b[0;32mas\u001b[0m \u001b[0me\u001b[0m\u001b[0;34m:\u001b[0m\u001b[0;34m\u001b[0m\u001b[0;34m\u001b[0m\u001b[0m\n",
      "\u001b[0;31mKeyboardInterrupt\u001b[0m: "
     ]
    }
   ],
   "source": [
    "train_single(50, pretrained=False) # tiny 12 no norm"
   ]
  },
  {
   "cell_type": "code",
   "execution_count": 3,
   "id": "3933779e",
   "metadata": {
    "scrolled": true
   },
   "outputs": [
    {
     "data": {
      "application/vnd.jupyter.widget-view+json": {
       "model_id": "",
       "version_major": 2,
       "version_minor": 0
      },
      "text/plain": [
       "Training:   0%|          | 0/438 [00:00<?, ?it/s]"
      ]
     },
     "metadata": {},
     "output_type": "display_data"
    },
    {
     "data": {
      "application/vnd.jupyter.widget-view+json": {
       "model_id": "",
       "version_major": 2,
       "version_minor": 0
      },
      "text/plain": [
       "Evaluating:   0%|          | 0/54 [00:00<?, ?it/s]"
      ]
     },
     "metadata": {},
     "output_type": "display_data"
    },
    {
     "name": "stdout",
     "output_type": "stream",
     "text": [
      "              precision    recall  f1-score   support\n",
      "\n",
      "         LOC     0.0000    0.0000    0.0000      1668\n",
      "        MISC     0.0000    0.0000    0.0000       702\n",
      "         ORG     0.0000    0.0000    0.0000      1661\n",
      "         PER     0.0000    0.0000    0.0000      1617\n",
      "\n",
      "   micro avg     0.0000    0.0000    0.0000      5648\n",
      "   macro avg     0.0000    0.0000    0.0000      5648\n",
      "weighted avg     0.0000    0.0000    0.0000      5648\n",
      "\n"
     ]
    },
    {
     "data": {
      "application/vnd.jupyter.widget-view+json": {
       "model_id": "",
       "version_major": 2,
       "version_minor": 0
      },
      "text/plain": [
       "Training:   0%|          | 0/438 [00:00<?, ?it/s]"
      ]
     },
     "metadata": {},
     "output_type": "display_data"
    },
    {
     "data": {
      "application/vnd.jupyter.widget-view+json": {
       "model_id": "",
       "version_major": 2,
       "version_minor": 0
      },
      "text/plain": [
       "Evaluating:   0%|          | 0/54 [00:00<?, ?it/s]"
      ]
     },
     "metadata": {},
     "output_type": "display_data"
    },
    {
     "name": "stdout",
     "output_type": "stream",
     "text": [
      "              precision    recall  f1-score   support\n",
      "\n",
      "         LOC     0.0000    0.0000    0.0000      1668\n",
      "        MISC     0.0000    0.0000    0.0000       702\n",
      "         ORG     0.0000    0.0000    0.0000      1661\n",
      "         PER     0.0000    0.0000    0.0000      1617\n",
      "\n",
      "   micro avg     0.0000    0.0000    0.0000      5648\n",
      "   macro avg     0.0000    0.0000    0.0000      5648\n",
      "weighted avg     0.0000    0.0000    0.0000      5648\n",
      "\n"
     ]
    },
    {
     "data": {
      "application/vnd.jupyter.widget-view+json": {
       "model_id": "",
       "version_major": 2,
       "version_minor": 0
      },
      "text/plain": [
       "Training:   0%|          | 0/438 [00:00<?, ?it/s]"
      ]
     },
     "metadata": {},
     "output_type": "display_data"
    },
    {
     "data": {
      "application/vnd.jupyter.widget-view+json": {
       "model_id": "",
       "version_major": 2,
       "version_minor": 0
      },
      "text/plain": [
       "Evaluating:   0%|          | 0/54 [00:00<?, ?it/s]"
      ]
     },
     "metadata": {},
     "output_type": "display_data"
    },
    {
     "name": "stdout",
     "output_type": "stream",
     "text": [
      "              precision    recall  f1-score   support\n",
      "\n",
      "         LOC     0.0476    0.0012    0.0023      1668\n",
      "        MISC     0.0000    0.0000    0.0000       702\n",
      "         ORG     0.0000    0.0000    0.0000      1661\n",
      "         PER     0.0000    0.0000    0.0000      1617\n",
      "\n",
      "   micro avg     0.0476    0.0004    0.0007      5648\n",
      "   macro avg     0.0119    0.0003    0.0006      5648\n",
      "weighted avg     0.0141    0.0004    0.0007      5648\n",
      "\n"
     ]
    },
    {
     "data": {
      "application/vnd.jupyter.widget-view+json": {
       "model_id": "",
       "version_major": 2,
       "version_minor": 0
      },
      "text/plain": [
       "Training:   0%|          | 0/438 [00:00<?, ?it/s]"
      ]
     },
     "metadata": {},
     "output_type": "display_data"
    },
    {
     "data": {
      "application/vnd.jupyter.widget-view+json": {
       "model_id": "",
       "version_major": 2,
       "version_minor": 0
      },
      "text/plain": [
       "Evaluating:   0%|          | 0/54 [00:00<?, ?it/s]"
      ]
     },
     "metadata": {},
     "output_type": "display_data"
    },
    {
     "name": "stdout",
     "output_type": "stream",
     "text": [
      "              precision    recall  f1-score   support\n",
      "\n",
      "         LOC     0.2638    0.7062    0.3841      1668\n",
      "        MISC     0.0000    0.0000    0.0000       702\n",
      "         ORG     0.0000    0.0000    0.0000      1661\n",
      "         PER     0.0000    0.0000    0.0000      1617\n",
      "\n",
      "   micro avg     0.2637    0.2086    0.2329      5648\n",
      "   macro avg     0.0659    0.1766    0.0960      5648\n",
      "weighted avg     0.0779    0.2086    0.1134      5648\n",
      "\n"
     ]
    },
    {
     "data": {
      "application/vnd.jupyter.widget-view+json": {
       "model_id": "",
       "version_major": 2,
       "version_minor": 0
      },
      "text/plain": [
       "Training:   0%|          | 0/438 [00:00<?, ?it/s]"
      ]
     },
     "metadata": {},
     "output_type": "display_data"
    },
    {
     "data": {
      "application/vnd.jupyter.widget-view+json": {
       "model_id": "",
       "version_major": 2,
       "version_minor": 0
      },
      "text/plain": [
       "Evaluating:   0%|          | 0/54 [00:00<?, ?it/s]"
      ]
     },
     "metadata": {},
     "output_type": "display_data"
    },
    {
     "name": "stdout",
     "output_type": "stream",
     "text": [
      "              precision    recall  f1-score   support\n",
      "\n",
      "         LOC     0.3941    0.6948    0.5029      1668\n",
      "        MISC     0.0000    0.0000    0.0000       702\n",
      "         ORG     0.2104    0.0656    0.1000      1661\n",
      "         PER     0.0847    0.0785    0.0815      1617\n",
      "\n",
      "   micro avg     0.2814    0.2470    0.2631      5648\n",
      "   macro avg     0.1723    0.2098    0.1711      5648\n",
      "weighted avg     0.2025    0.2470    0.2013      5648\n",
      "\n"
     ]
    },
    {
     "data": {
      "application/vnd.jupyter.widget-view+json": {
       "model_id": "",
       "version_major": 2,
       "version_minor": 0
      },
      "text/plain": [
       "Training:   0%|          | 0/438 [00:00<?, ?it/s]"
      ]
     },
     "metadata": {},
     "output_type": "display_data"
    },
    {
     "data": {
      "application/vnd.jupyter.widget-view+json": {
       "model_id": "",
       "version_major": 2,
       "version_minor": 0
      },
      "text/plain": [
       "Evaluating:   0%|          | 0/54 [00:00<?, ?it/s]"
      ]
     },
     "metadata": {},
     "output_type": "display_data"
    },
    {
     "name": "stdout",
     "output_type": "stream",
     "text": [
      "              precision    recall  f1-score   support\n",
      "\n",
      "         LOC     0.4544    0.7164    0.5561      1668\n",
      "        MISC     0.0000    0.0000    0.0000       702\n",
      "         ORG     0.1762    0.2095    0.1914      1661\n",
      "         PER     0.1104    0.0748    0.0892      1617\n",
      "\n",
      "   micro avg     0.2919    0.2946    0.2932      5648\n",
      "   macro avg     0.1852    0.2502    0.2092      5648\n",
      "weighted avg     0.2176    0.2946    0.2461      5648\n",
      "\n"
     ]
    },
    {
     "data": {
      "application/vnd.jupyter.widget-view+json": {
       "model_id": "",
       "version_major": 2,
       "version_minor": 0
      },
      "text/plain": [
       "Training:   0%|          | 0/438 [00:00<?, ?it/s]"
      ]
     },
     "metadata": {},
     "output_type": "display_data"
    },
    {
     "data": {
      "application/vnd.jupyter.widget-view+json": {
       "model_id": "",
       "version_major": 2,
       "version_minor": 0
      },
      "text/plain": [
       "Evaluating:   0%|          | 0/54 [00:00<?, ?it/s]"
      ]
     },
     "metadata": {},
     "output_type": "display_data"
    },
    {
     "name": "stdout",
     "output_type": "stream",
     "text": [
      "              precision    recall  f1-score   support\n",
      "\n",
      "         LOC     0.5023    0.7098    0.5883      1668\n",
      "        MISC     0.0000    0.0000    0.0000       702\n",
      "         ORG     0.2389    0.1975    0.2162      1661\n",
      "         PER     0.0955    0.1194    0.1061      1617\n",
      "\n",
      "   micro avg     0.2965    0.3019    0.2992      5648\n",
      "   macro avg     0.2092    0.2567    0.2277      5648\n",
      "weighted avg     0.2460    0.3019    0.2677      5648\n",
      "\n"
     ]
    },
    {
     "data": {
      "application/vnd.jupyter.widget-view+json": {
       "model_id": "",
       "version_major": 2,
       "version_minor": 0
      },
      "text/plain": [
       "Training:   0%|          | 0/438 [00:00<?, ?it/s]"
      ]
     },
     "metadata": {},
     "output_type": "display_data"
    },
    {
     "data": {
      "application/vnd.jupyter.widget-view+json": {
       "model_id": "",
       "version_major": 2,
       "version_minor": 0
      },
      "text/plain": [
       "Evaluating:   0%|          | 0/54 [00:00<?, ?it/s]"
      ]
     },
     "metadata": {},
     "output_type": "display_data"
    },
    {
     "name": "stdout",
     "output_type": "stream",
     "text": [
      "              precision    recall  f1-score   support\n",
      "\n",
      "         LOC     0.5405    0.6918    0.6069      1668\n",
      "        MISC     0.0000    0.0000    0.0000       702\n",
      "         ORG     0.2048    0.3209    0.2500      1661\n",
      "         PER     0.0983    0.0686    0.0808      1617\n",
      "\n",
      "   micro avg     0.3065    0.3183    0.3123      5648\n",
      "   macro avg     0.2109    0.2703    0.2344      5648\n",
      "weighted avg     0.2480    0.3183    0.2759      5648\n",
      "\n"
     ]
    },
    {
     "data": {
      "application/vnd.jupyter.widget-view+json": {
       "model_id": "",
       "version_major": 2,
       "version_minor": 0
      },
      "text/plain": [
       "Training:   0%|          | 0/438 [00:00<?, ?it/s]"
      ]
     },
     "metadata": {},
     "output_type": "display_data"
    },
    {
     "data": {
      "application/vnd.jupyter.widget-view+json": {
       "model_id": "",
       "version_major": 2,
       "version_minor": 0
      },
      "text/plain": [
       "Evaluating:   0%|          | 0/54 [00:00<?, ?it/s]"
      ]
     },
     "metadata": {},
     "output_type": "display_data"
    },
    {
     "name": "stdout",
     "output_type": "stream",
     "text": [
      "              precision    recall  f1-score   support\n",
      "\n",
      "         LOC     0.5108    0.7110    0.5945      1668\n",
      "        MISC     0.0000    0.0000    0.0000       702\n",
      "         ORG     0.2260    0.2938    0.2555      1661\n",
      "         PER     0.0926    0.1058    0.0988      1617\n",
      "\n",
      "   micro avg     0.2916    0.3267    0.3081      5648\n",
      "   macro avg     0.2074    0.2776    0.2372      5648\n",
      "weighted avg     0.2438    0.3267    0.2790      5648\n",
      "\n"
     ]
    },
    {
     "data": {
      "application/vnd.jupyter.widget-view+json": {
       "model_id": "",
       "version_major": 2,
       "version_minor": 0
      },
      "text/plain": [
       "Training:   0%|          | 0/438 [00:00<?, ?it/s]"
      ]
     },
     "metadata": {},
     "output_type": "display_data"
    },
    {
     "data": {
      "application/vnd.jupyter.widget-view+json": {
       "model_id": "",
       "version_major": 2,
       "version_minor": 0
      },
      "text/plain": [
       "Evaluating:   0%|          | 0/54 [00:00<?, ?it/s]"
      ]
     },
     "metadata": {},
     "output_type": "display_data"
    },
    {
     "name": "stdout",
     "output_type": "stream",
     "text": [
      "              precision    recall  f1-score   support\n",
      "\n",
      "         LOC     0.5253    0.7038    0.6016      1668\n",
      "        MISC     0.2667    0.0057    0.0112       702\n",
      "         ORG     0.2785    0.2872    0.2828      1661\n",
      "         PER     0.0866    0.1354    0.1057      1617\n",
      "\n",
      "   micro avg     0.2887    0.3318    0.3088      5648\n",
      "   macro avg     0.2893    0.2830    0.2503      5648\n",
      "weighted avg     0.2950    0.3318    0.2925      5648\n",
      "\n"
     ]
    },
    {
     "data": {
      "application/vnd.jupyter.widget-view+json": {
       "model_id": "",
       "version_major": 2,
       "version_minor": 0
      },
      "text/plain": [
       "Training:   0%|          | 0/438 [00:00<?, ?it/s]"
      ]
     },
     "metadata": {},
     "output_type": "display_data"
    },
    {
     "data": {
      "application/vnd.jupyter.widget-view+json": {
       "model_id": "",
       "version_major": 2,
       "version_minor": 0
      },
      "text/plain": [
       "Evaluating:   0%|          | 0/54 [00:00<?, ?it/s]"
      ]
     },
     "metadata": {},
     "output_type": "display_data"
    },
    {
     "name": "stdout",
     "output_type": "stream",
     "text": [
      "              precision    recall  f1-score   support\n",
      "\n",
      "         LOC     0.5821    0.6757    0.6254      1668\n",
      "        MISC     0.3088    0.0299    0.0545       702\n",
      "         ORG     0.3292    0.3022    0.3151      1661\n",
      "         PER     0.0942    0.1509    0.1160      1617\n",
      "\n",
      "   micro avg     0.3096    0.3353    0.3219      5648\n",
      "   macro avg     0.3286    0.2897    0.2778      5648\n",
      "weighted avg     0.3341    0.3353    0.3174      5648\n",
      "\n"
     ]
    },
    {
     "data": {
      "application/vnd.jupyter.widget-view+json": {
       "model_id": "",
       "version_major": 2,
       "version_minor": 0
      },
      "text/plain": [
       "Training:   0%|          | 0/438 [00:00<?, ?it/s]"
      ]
     },
     "metadata": {},
     "output_type": "display_data"
    },
    {
     "data": {
      "application/vnd.jupyter.widget-view+json": {
       "model_id": "",
       "version_major": 2,
       "version_minor": 0
      },
      "text/plain": [
       "Evaluating:   0%|          | 0/54 [00:00<?, ?it/s]"
      ]
     },
     "metadata": {},
     "output_type": "display_data"
    },
    {
     "name": "stdout",
     "output_type": "stream",
     "text": [
      "              precision    recall  f1-score   support\n",
      "\n",
      "         LOC     0.6109    0.6589    0.6340      1668\n",
      "        MISC     0.2837    0.1140    0.1626       702\n",
      "         ORG     0.3675    0.2932    0.3262      1661\n",
      "         PER     0.0950    0.1620    0.1198      1617\n",
      "\n",
      "   micro avg     0.3128    0.3414    0.3265      5648\n",
      "   macro avg     0.3393    0.3070    0.3106      5648\n",
      "weighted avg     0.3510    0.3414    0.3377      5648\n",
      "\n"
     ]
    },
    {
     "data": {
      "application/vnd.jupyter.widget-view+json": {
       "model_id": "",
       "version_major": 2,
       "version_minor": 0
      },
      "text/plain": [
       "Training:   0%|          | 0/438 [00:00<?, ?it/s]"
      ]
     },
     "metadata": {},
     "output_type": "display_data"
    },
    {
     "data": {
      "application/vnd.jupyter.widget-view+json": {
       "model_id": "",
       "version_major": 2,
       "version_minor": 0
      },
      "text/plain": [
       "Evaluating:   0%|          | 0/54 [00:00<?, ?it/s]"
      ]
     },
     "metadata": {},
     "output_type": "display_data"
    },
    {
     "name": "stdout",
     "output_type": "stream",
     "text": [
      "              precision    recall  f1-score   support\n",
      "\n",
      "         LOC     0.6214    0.6553    0.6379      1668\n",
      "        MISC     0.2949    0.1567    0.2047       702\n",
      "         ORG     0.4073    0.2896    0.3385      1661\n",
      "         PER     0.0949    0.1639    0.1202      1617\n",
      "\n",
      "   micro avg     0.3192    0.3451    0.3316      5648\n",
      "   macro avg     0.3546    0.3164    0.3253      5648\n",
      "weighted avg     0.3671    0.3451    0.3478      5648\n",
      "\n"
     ]
    },
    {
     "data": {
      "application/vnd.jupyter.widget-view+json": {
       "model_id": "",
       "version_major": 2,
       "version_minor": 0
      },
      "text/plain": [
       "Training:   0%|          | 0/438 [00:00<?, ?it/s]"
      ]
     },
     "metadata": {},
     "output_type": "display_data"
    },
    {
     "data": {
      "application/vnd.jupyter.widget-view+json": {
       "model_id": "",
       "version_major": 2,
       "version_minor": 0
      },
      "text/plain": [
       "Evaluating:   0%|          | 0/54 [00:00<?, ?it/s]"
      ]
     },
     "metadata": {},
     "output_type": "display_data"
    },
    {
     "name": "stdout",
     "output_type": "stream",
     "text": [
      "              precision    recall  f1-score   support\n",
      "\n",
      "         LOC     0.6433    0.6499    0.6466      1668\n",
      "        MISC     0.3015    0.2066    0.2451       702\n",
      "         ORG     0.4187    0.2992    0.3490      1661\n",
      "         PER     0.0925    0.1837    0.1230      1617\n",
      "\n",
      "   micro avg     0.3081    0.3582    0.3313      5648\n",
      "   macro avg     0.3640    0.3348    0.3409      5648\n",
      "weighted avg     0.3771    0.3582    0.3593      5648\n",
      "\n"
     ]
    },
    {
     "data": {
      "application/vnd.jupyter.widget-view+json": {
       "model_id": "",
       "version_major": 2,
       "version_minor": 0
      },
      "text/plain": [
       "Training:   0%|          | 0/438 [00:00<?, ?it/s]"
      ]
     },
     "metadata": {},
     "output_type": "display_data"
    },
    {
     "data": {
      "application/vnd.jupyter.widget-view+json": {
       "model_id": "",
       "version_major": 2,
       "version_minor": 0
      },
      "text/plain": [
       "Evaluating:   0%|          | 0/54 [00:00<?, ?it/s]"
      ]
     },
     "metadata": {},
     "output_type": "display_data"
    },
    {
     "name": "stdout",
     "output_type": "stream",
     "text": [
      "              precision    recall  f1-score   support\n",
      "\n",
      "         LOC     0.6963    0.6253    0.6589      1668\n",
      "        MISC     0.3362    0.2821    0.3067       702\n",
      "         ORG     0.4625    0.2824    0.3507      1661\n",
      "         PER     0.0969    0.1843    0.1270      1617\n",
      "\n",
      "   micro avg     0.3251    0.3555    0.3396      5648\n",
      "   macro avg     0.3980    0.3435    0.3608      5648\n",
      "weighted avg     0.4112    0.3555    0.3722      5648\n",
      "\n"
     ]
    },
    {
     "data": {
      "application/vnd.jupyter.widget-view+json": {
       "model_id": "",
       "version_major": 2,
       "version_minor": 0
      },
      "text/plain": [
       "Training:   0%|          | 0/438 [00:00<?, ?it/s]"
      ]
     },
     "metadata": {},
     "output_type": "display_data"
    },
    {
     "data": {
      "application/vnd.jupyter.widget-view+json": {
       "model_id": "",
       "version_major": 2,
       "version_minor": 0
      },
      "text/plain": [
       "Evaluating:   0%|          | 0/54 [00:00<?, ?it/s]"
      ]
     },
     "metadata": {},
     "output_type": "display_data"
    },
    {
     "name": "stdout",
     "output_type": "stream",
     "text": [
      "              precision    recall  f1-score   support\n",
      "\n",
      "         LOC     0.6970    0.6331    0.6635      1668\n",
      "        MISC     0.3249    0.3120    0.3183       702\n",
      "         ORG     0.4494    0.2914    0.3535      1661\n",
      "         PER     0.1104    0.2140    0.1456      1617\n",
      "\n",
      "   micro avg     0.3289    0.3727    0.3494      5648\n",
      "   macro avg     0.3954    0.3626    0.3703      5648\n",
      "weighted avg     0.4100    0.3727    0.3812      5648\n",
      "\n"
     ]
    },
    {
     "data": {
      "application/vnd.jupyter.widget-view+json": {
       "model_id": "",
       "version_major": 2,
       "version_minor": 0
      },
      "text/plain": [
       "Training:   0%|          | 0/438 [00:00<?, ?it/s]"
      ]
     },
     "metadata": {},
     "output_type": "display_data"
    },
    {
     "data": {
      "application/vnd.jupyter.widget-view+json": {
       "model_id": "",
       "version_major": 2,
       "version_minor": 0
      },
      "text/plain": [
       "Evaluating:   0%|          | 0/54 [00:00<?, ?it/s]"
      ]
     },
     "metadata": {},
     "output_type": "display_data"
    },
    {
     "name": "stdout",
     "output_type": "stream",
     "text": [
      "              precision    recall  f1-score   support\n",
      "\n",
      "         LOC     0.7223    0.6205    0.6675      1668\n",
      "        MISC     0.3633    0.3746    0.3689       702\n",
      "         ORG     0.4384    0.3022    0.3578      1661\n",
      "         PER     0.1405    0.2672    0.1842      1617\n",
      "\n",
      "   micro avg     0.3501    0.3952    0.3713      5648\n",
      "   macro avg     0.4161    0.3911    0.3946      5648\n",
      "weighted avg     0.4276    0.3952    0.4009      5648\n",
      "\n"
     ]
    },
    {
     "data": {
      "application/vnd.jupyter.widget-view+json": {
       "model_id": "",
       "version_major": 2,
       "version_minor": 0
      },
      "text/plain": [
       "Training:   0%|          | 0/438 [00:00<?, ?it/s]"
      ]
     },
     "metadata": {},
     "output_type": "display_data"
    },
    {
     "data": {
      "application/vnd.jupyter.widget-view+json": {
       "model_id": "",
       "version_major": 2,
       "version_minor": 0
      },
      "text/plain": [
       "Evaluating:   0%|          | 0/54 [00:00<?, ?it/s]"
      ]
     },
     "metadata": {},
     "output_type": "display_data"
    },
    {
     "name": "stdout",
     "output_type": "stream",
     "text": [
      "              precision    recall  f1-score   support\n",
      "\n",
      "         LOC     0.7519    0.6085    0.6726      1668\n",
      "        MISC     0.3827    0.4786    0.4253       702\n",
      "         ORG     0.4406    0.3058    0.3611      1661\n",
      "         PER     0.1625    0.2814    0.2060      1617\n",
      "\n",
      "   micro avg     0.3744    0.4097    0.3912      5648\n",
      "   macro avg     0.4344    0.4186    0.4163      5648\n",
      "weighted avg     0.4457    0.4097    0.4167      5648\n",
      "\n"
     ]
    },
    {
     "data": {
      "application/vnd.jupyter.widget-view+json": {
       "model_id": "",
       "version_major": 2,
       "version_minor": 0
      },
      "text/plain": [
       "Training:   0%|          | 0/438 [00:00<?, ?it/s]"
      ]
     },
     "metadata": {},
     "output_type": "display_data"
    },
    {
     "data": {
      "application/vnd.jupyter.widget-view+json": {
       "model_id": "",
       "version_major": 2,
       "version_minor": 0
      },
      "text/plain": [
       "Evaluating:   0%|          | 0/54 [00:00<?, ?it/s]"
      ]
     },
     "metadata": {},
     "output_type": "display_data"
    },
    {
     "name": "stdout",
     "output_type": "stream",
     "text": [
      "              precision    recall  f1-score   support\n",
      "\n",
      "         LOC     0.7434    0.6235    0.6782      1668\n",
      "        MISC     0.4136    0.5185    0.4602       702\n",
      "         ORG     0.4417    0.3010    0.3580      1661\n",
      "         PER     0.1984    0.3166    0.2439      1617\n",
      "\n",
      "   micro avg     0.4032    0.4278    0.4151      5648\n",
      "   macro avg     0.4493    0.4399    0.4351      5648\n",
      "weighted avg     0.4576    0.4278    0.4326      5648\n",
      "\n"
     ]
    },
    {
     "data": {
      "application/vnd.jupyter.widget-view+json": {
       "model_id": "",
       "version_major": 2,
       "version_minor": 0
      },
      "text/plain": [
       "Training:   0%|          | 0/438 [00:00<?, ?it/s]"
      ]
     },
     "metadata": {},
     "output_type": "display_data"
    },
    {
     "data": {
      "application/vnd.jupyter.widget-view+json": {
       "model_id": "",
       "version_major": 2,
       "version_minor": 0
      },
      "text/plain": [
       "Evaluating:   0%|          | 0/54 [00:00<?, ?it/s]"
      ]
     },
     "metadata": {},
     "output_type": "display_data"
    },
    {
     "name": "stdout",
     "output_type": "stream",
     "text": [
      "              precision    recall  f1-score   support\n",
      "\n",
      "         LOC     0.7643    0.6163    0.6824      1668\n",
      "        MISC     0.4294    0.5456    0.4806       702\n",
      "         ORG     0.4373    0.3046    0.3591      1661\n",
      "         PER     0.2266    0.3327    0.2696      1617\n",
      "\n",
      "   micro avg     0.4256    0.4347    0.4301      5648\n",
      "   macro avg     0.4644    0.4498    0.4479      5648\n",
      "weighted avg     0.4726    0.4347    0.4441      5648\n",
      "\n"
     ]
    },
    {
     "data": {
      "application/vnd.jupyter.widget-view+json": {
       "model_id": "",
       "version_major": 2,
       "version_minor": 0
      },
      "text/plain": [
       "Training:   0%|          | 0/438 [00:00<?, ?it/s]"
      ]
     },
     "metadata": {},
     "output_type": "display_data"
    },
    {
     "data": {
      "application/vnd.jupyter.widget-view+json": {
       "model_id": "",
       "version_major": 2,
       "version_minor": 0
      },
      "text/plain": [
       "Evaluating:   0%|          | 0/54 [00:00<?, ?it/s]"
      ]
     },
     "metadata": {},
     "output_type": "display_data"
    },
    {
     "name": "stdout",
     "output_type": "stream",
     "text": [
      "              precision    recall  f1-score   support\n",
      "\n",
      "         LOC     0.7489    0.6295    0.6840      1668\n",
      "        MISC     0.4694    0.5470    0.5053       702\n",
      "         ORG     0.4062    0.3414    0.3710      1661\n",
      "         PER     0.2331    0.3500    0.2799      1617\n",
      "\n",
      "   micro avg     0.4247    0.4545    0.4391      5648\n",
      "   macro avg     0.4644    0.4670    0.4600      5648\n",
      "weighted avg     0.4657    0.4545    0.4540      5648\n",
      "\n"
     ]
    },
    {
     "data": {
      "application/vnd.jupyter.widget-view+json": {
       "model_id": "",
       "version_major": 2,
       "version_minor": 0
      },
      "text/plain": [
       "Training:   0%|          | 0/438 [00:00<?, ?it/s]"
      ]
     },
     "metadata": {},
     "output_type": "display_data"
    },
    {
     "data": {
      "application/vnd.jupyter.widget-view+json": {
       "model_id": "",
       "version_major": 2,
       "version_minor": 0
      },
      "text/plain": [
       "Evaluating:   0%|          | 0/54 [00:00<?, ?it/s]"
      ]
     },
     "metadata": {},
     "output_type": "display_data"
    },
    {
     "name": "stdout",
     "output_type": "stream",
     "text": [
      "              precision    recall  f1-score   support\n",
      "\n",
      "         LOC     0.7185    0.6427    0.6785      1668\n",
      "        MISC     0.4826    0.5342    0.5071       702\n",
      "         ORG     0.4007    0.3438    0.3701      1661\n",
      "         PER     0.2385    0.3779    0.2924      1617\n",
      "\n",
      "   micro avg     0.4202    0.4655    0.4417      5648\n",
      "   macro avg     0.4601    0.4746    0.4620      5648\n",
      "weighted avg     0.4583    0.4655    0.4559      5648\n",
      "\n"
     ]
    },
    {
     "data": {
      "application/vnd.jupyter.widget-view+json": {
       "model_id": "",
       "version_major": 2,
       "version_minor": 0
      },
      "text/plain": [
       "Training:   0%|          | 0/438 [00:00<?, ?it/s]"
      ]
     },
     "metadata": {},
     "output_type": "display_data"
    },
    {
     "data": {
      "application/vnd.jupyter.widget-view+json": {
       "model_id": "",
       "version_major": 2,
       "version_minor": 0
      },
      "text/plain": [
       "Evaluating:   0%|          | 0/54 [00:00<?, ?it/s]"
      ]
     },
     "metadata": {},
     "output_type": "display_data"
    },
    {
     "name": "stdout",
     "output_type": "stream",
     "text": [
      "              precision    recall  f1-score   support\n",
      "\n",
      "         LOC     0.7209    0.6379    0.6768      1668\n",
      "        MISC     0.5092    0.5499    0.5288       702\n",
      "         ORG     0.4005    0.3540    0.3758      1661\n",
      "         PER     0.2451    0.3636    0.2928      1617\n",
      "\n",
      "   micro avg     0.4304    0.4649    0.4470      5648\n",
      "   macro avg     0.4689    0.4763    0.4686      5648\n",
      "weighted avg     0.4642    0.4649    0.4600      5648\n",
      "\n"
     ]
    },
    {
     "data": {
      "application/vnd.jupyter.widget-view+json": {
       "model_id": "",
       "version_major": 2,
       "version_minor": 0
      },
      "text/plain": [
       "Training:   0%|          | 0/438 [00:00<?, ?it/s]"
      ]
     },
     "metadata": {},
     "output_type": "display_data"
    },
    {
     "data": {
      "application/vnd.jupyter.widget-view+json": {
       "model_id": "",
       "version_major": 2,
       "version_minor": 0
      },
      "text/plain": [
       "Evaluating:   0%|          | 0/54 [00:00<?, ?it/s]"
      ]
     },
     "metadata": {},
     "output_type": "display_data"
    },
    {
     "name": "stdout",
     "output_type": "stream",
     "text": [
      "              precision    recall  f1-score   support\n",
      "\n",
      "         LOC     0.7122    0.6409    0.6747      1668\n",
      "        MISC     0.5206    0.5399    0.5301       702\n",
      "         ORG     0.3948    0.3624    0.3779      1661\n",
      "         PER     0.2584    0.3865    0.3097      1617\n",
      "\n",
      "   micro avg     0.4333    0.4736    0.4526      5648\n",
      "   macro avg     0.4715    0.4824    0.4731      5648\n",
      "weighted avg     0.4651    0.4736    0.4649      5648\n",
      "\n"
     ]
    },
    {
     "data": {
      "application/vnd.jupyter.widget-view+json": {
       "model_id": "",
       "version_major": 2,
       "version_minor": 0
      },
      "text/plain": [
       "Training:   0%|          | 0/438 [00:00<?, ?it/s]"
      ]
     },
     "metadata": {},
     "output_type": "display_data"
    },
    {
     "data": {
      "application/vnd.jupyter.widget-view+json": {
       "model_id": "",
       "version_major": 2,
       "version_minor": 0
      },
      "text/plain": [
       "Evaluating:   0%|          | 0/54 [00:00<?, ?it/s]"
      ]
     },
     "metadata": {},
     "output_type": "display_data"
    },
    {
     "name": "stdout",
     "output_type": "stream",
     "text": [
      "              precision    recall  f1-score   support\n",
      "\n",
      "         LOC     0.7200    0.6445    0.6802      1668\n",
      "        MISC     0.5496    0.5442    0.5469       702\n",
      "         ORG     0.3827    0.3624    0.3723      1661\n",
      "         PER     0.2611    0.3803    0.3097      1617\n",
      "\n",
      "   micro avg     0.4372    0.4734    0.4546      5648\n",
      "   macro avg     0.4784    0.4829    0.4773      5648\n",
      "weighted avg     0.4683    0.4734    0.4670      5648\n",
      "\n"
     ]
    },
    {
     "data": {
      "application/vnd.jupyter.widget-view+json": {
       "model_id": "",
       "version_major": 2,
       "version_minor": 0
      },
      "text/plain": [
       "Training:   0%|          | 0/438 [00:00<?, ?it/s]"
      ]
     },
     "metadata": {},
     "output_type": "display_data"
    },
    {
     "data": {
      "application/vnd.jupyter.widget-view+json": {
       "model_id": "",
       "version_major": 2,
       "version_minor": 0
      },
      "text/plain": [
       "Evaluating:   0%|          | 0/54 [00:00<?, ?it/s]"
      ]
     },
     "metadata": {},
     "output_type": "display_data"
    },
    {
     "name": "stdout",
     "output_type": "stream",
     "text": [
      "              precision    recall  f1-score   support\n",
      "\n",
      "         LOC     0.6932    0.6571    0.6747      1668\n",
      "        MISC     0.5526    0.5313    0.5418       702\n",
      "         ORG     0.3717    0.3847    0.3781      1661\n",
      "         PER     0.2974    0.4063    0.3434      1617\n",
      "\n",
      "   micro avg     0.4471    0.4896    0.4674      5648\n",
      "   macro avg     0.4787    0.4949    0.4845      5648\n",
      "weighted avg     0.4679    0.4896    0.4761      5648\n",
      "\n"
     ]
    },
    {
     "data": {
      "application/vnd.jupyter.widget-view+json": {
       "model_id": "",
       "version_major": 2,
       "version_minor": 0
      },
      "text/plain": [
       "Training:   0%|          | 0/438 [00:00<?, ?it/s]"
      ]
     },
     "metadata": {},
     "output_type": "display_data"
    },
    {
     "data": {
      "application/vnd.jupyter.widget-view+json": {
       "model_id": "",
       "version_major": 2,
       "version_minor": 0
      },
      "text/plain": [
       "Evaluating:   0%|          | 0/54 [00:00<?, ?it/s]"
      ]
     },
     "metadata": {},
     "output_type": "display_data"
    },
    {
     "name": "stdout",
     "output_type": "stream",
     "text": [
      "              precision    recall  f1-score   support\n",
      "\n",
      "         LOC     0.7023    0.6930    0.6976      1668\n",
      "        MISC     0.5448    0.5541    0.5494       702\n",
      "         ORG     0.3806    0.3829    0.3818      1661\n",
      "         PER     0.3308    0.3976    0.3611      1617\n",
      "\n",
      "   micro avg     0.4726    0.5000    0.4859      5648\n",
      "   macro avg     0.4896    0.5069    0.4975      5648\n",
      "weighted avg     0.4818    0.5000    0.4900      5648\n",
      "\n"
     ]
    },
    {
     "data": {
      "application/vnd.jupyter.widget-view+json": {
       "model_id": "",
       "version_major": 2,
       "version_minor": 0
      },
      "text/plain": [
       "Training:   0%|          | 0/438 [00:00<?, ?it/s]"
      ]
     },
     "metadata": {},
     "output_type": "display_data"
    },
    {
     "data": {
      "application/vnd.jupyter.widget-view+json": {
       "model_id": "",
       "version_major": 2,
       "version_minor": 0
      },
      "text/plain": [
       "Evaluating:   0%|          | 0/54 [00:00<?, ?it/s]"
      ]
     },
     "metadata": {},
     "output_type": "display_data"
    },
    {
     "name": "stdout",
     "output_type": "stream",
     "text": [
      "              precision    recall  f1-score   support\n",
      "\n",
      "         LOC     0.6935    0.6930    0.6933      1668\n",
      "        MISC     0.5356    0.5570    0.5461       702\n",
      "         ORG     0.3854    0.3847    0.3851      1661\n",
      "         PER     0.3302    0.3927    0.3588      1617\n",
      "\n",
      "   micro avg     0.4719    0.4995    0.4853      5648\n",
      "   macro avg     0.4862    0.5069    0.4958      5648\n",
      "weighted avg     0.4793    0.4995    0.4886      5648\n",
      "\n"
     ]
    },
    {
     "data": {
      "application/vnd.jupyter.widget-view+json": {
       "model_id": "",
       "version_major": 2,
       "version_minor": 0
      },
      "text/plain": [
       "Training:   0%|          | 0/438 [00:00<?, ?it/s]"
      ]
     },
     "metadata": {},
     "output_type": "display_data"
    },
    {
     "data": {
      "application/vnd.jupyter.widget-view+json": {
       "model_id": "",
       "version_major": 2,
       "version_minor": 0
      },
      "text/plain": [
       "Evaluating:   0%|          | 0/54 [00:00<?, ?it/s]"
      ]
     },
     "metadata": {},
     "output_type": "display_data"
    },
    {
     "name": "stdout",
     "output_type": "stream",
     "text": [
      "              precision    recall  f1-score   support\n",
      "\n",
      "         LOC     0.6805    0.7098    0.6948      1668\n",
      "        MISC     0.5430    0.5484    0.5457       702\n",
      "         ORG     0.3789    0.4088    0.3933      1661\n",
      "         PER     0.3349    0.4069    0.3674      1617\n",
      "\n",
      "   micro avg     0.4683    0.5145    0.4903      5648\n",
      "   macro avg     0.4843    0.5185    0.5003      5648\n",
      "weighted avg     0.4758    0.5145    0.4939      5648\n",
      "\n"
     ]
    },
    {
     "data": {
      "application/vnd.jupyter.widget-view+json": {
       "model_id": "",
       "version_major": 2,
       "version_minor": 0
      },
      "text/plain": [
       "Training:   0%|          | 0/438 [00:00<?, ?it/s]"
      ]
     },
     "metadata": {},
     "output_type": "display_data"
    },
    {
     "data": {
      "application/vnd.jupyter.widget-view+json": {
       "model_id": "",
       "version_major": 2,
       "version_minor": 0
      },
      "text/plain": [
       "Evaluating:   0%|          | 0/54 [00:00<?, ?it/s]"
      ]
     },
     "metadata": {},
     "output_type": "display_data"
    },
    {
     "name": "stdout",
     "output_type": "stream",
     "text": [
      "              precision    recall  f1-score   support\n",
      "\n",
      "         LOC     0.7168    0.6829    0.6994      1668\n",
      "        MISC     0.5622    0.5342    0.5478       702\n",
      "         ORG     0.3888    0.4052    0.3968      1661\n",
      "         PER     0.3432    0.4249    0.3797      1617\n",
      "\n",
      "   micro avg     0.4799    0.5089    0.4939      5648\n",
      "   macro avg     0.5027    0.5118    0.5059      5648\n",
      "weighted avg     0.4942    0.5089    0.5000      5648\n",
      "\n"
     ]
    },
    {
     "data": {
      "application/vnd.jupyter.widget-view+json": {
       "model_id": "",
       "version_major": 2,
       "version_minor": 0
      },
      "text/plain": [
       "Training:   0%|          | 0/438 [00:00<?, ?it/s]"
      ]
     },
     "metadata": {},
     "output_type": "display_data"
    },
    {
     "data": {
      "application/vnd.jupyter.widget-view+json": {
       "model_id": "",
       "version_major": 2,
       "version_minor": 0
      },
      "text/plain": [
       "Evaluating:   0%|          | 0/54 [00:00<?, ?it/s]"
      ]
     },
     "metadata": {},
     "output_type": "display_data"
    },
    {
     "name": "stdout",
     "output_type": "stream",
     "text": [
      "              precision    recall  f1-score   support\n",
      "\n",
      "         LOC     0.7266    0.6565    0.6898      1668\n",
      "        MISC     0.5783    0.5157    0.5452       702\n",
      "         ORG     0.3852    0.3992    0.3921      1661\n",
      "         PER     0.3174    0.4558    0.3742      1617\n",
      "\n",
      "   micro avg     0.4626    0.5058    0.4833      5648\n",
      "   macro avg     0.5019    0.5068    0.5003      5648\n",
      "weighted avg     0.4906    0.5058    0.4939      5648\n",
      "\n"
     ]
    },
    {
     "data": {
      "application/vnd.jupyter.widget-view+json": {
       "model_id": "",
       "version_major": 2,
       "version_minor": 0
      },
      "text/plain": [
       "Training:   0%|          | 0/438 [00:00<?, ?it/s]"
      ]
     },
     "metadata": {},
     "output_type": "display_data"
    },
    {
     "data": {
      "application/vnd.jupyter.widget-view+json": {
       "model_id": "",
       "version_major": 2,
       "version_minor": 0
      },
      "text/plain": [
       "Evaluating:   0%|          | 0/54 [00:00<?, ?it/s]"
      ]
     },
     "metadata": {},
     "output_type": "display_data"
    },
    {
     "name": "stdout",
     "output_type": "stream",
     "text": [
      "              precision    recall  f1-score   support\n",
      "\n",
      "         LOC     0.7088    0.6829    0.6956      1668\n",
      "        MISC     0.5549    0.5470    0.5509       702\n",
      "         ORG     0.3707    0.4341    0.3999      1661\n",
      "         PER     0.3381    0.4088    0.3701      1617\n",
      "\n",
      "   micro avg     0.4686    0.5143    0.4904      5648\n",
      "   macro avg     0.4931    0.5182    0.5041      5648\n",
      "weighted avg     0.4841    0.5143    0.4975      5648\n",
      "\n"
     ]
    },
    {
     "data": {
      "application/vnd.jupyter.widget-view+json": {
       "model_id": "",
       "version_major": 2,
       "version_minor": 0
      },
      "text/plain": [
       "Training:   0%|          | 0/438 [00:00<?, ?it/s]"
      ]
     },
     "metadata": {},
     "output_type": "display_data"
    },
    {
     "data": {
      "application/vnd.jupyter.widget-view+json": {
       "model_id": "",
       "version_major": 2,
       "version_minor": 0
      },
      "text/plain": [
       "Evaluating:   0%|          | 0/54 [00:00<?, ?it/s]"
      ]
     },
     "metadata": {},
     "output_type": "display_data"
    },
    {
     "name": "stdout",
     "output_type": "stream",
     "text": [
      "              precision    recall  f1-score   support\n",
      "\n",
      "         LOC     0.7069    0.7170    0.7119      1668\n",
      "        MISC     0.5416    0.5655    0.5533       702\n",
      "         ORG     0.3901    0.4094    0.3995      1661\n",
      "         PER     0.3565    0.4218    0.3864      1617\n",
      "\n",
      "   micro avg     0.4859    0.5232    0.5039      5648\n",
      "   macro avg     0.4988    0.5284    0.5128      5648\n",
      "weighted avg     0.4929    0.5232    0.5071      5648\n",
      "\n"
     ]
    },
    {
     "data": {
      "application/vnd.jupyter.widget-view+json": {
       "model_id": "",
       "version_major": 2,
       "version_minor": 0
      },
      "text/plain": [
       "Training:   0%|          | 0/438 [00:00<?, ?it/s]"
      ]
     },
     "metadata": {},
     "output_type": "display_data"
    },
    {
     "data": {
      "application/vnd.jupyter.widget-view+json": {
       "model_id": "",
       "version_major": 2,
       "version_minor": 0
      },
      "text/plain": [
       "Evaluating:   0%|          | 0/54 [00:00<?, ?it/s]"
      ]
     },
     "metadata": {},
     "output_type": "display_data"
    },
    {
     "name": "stdout",
     "output_type": "stream",
     "text": [
      "              precision    recall  f1-score   support\n",
      "\n",
      "         LOC     0.6989    0.6888    0.6938      1668\n",
      "        MISC     0.5801    0.5313    0.5546       702\n",
      "         ORG     0.3894    0.4208    0.4045      1661\n",
      "         PER     0.3484    0.4205    0.3811      1617\n",
      "\n",
      "   micro avg     0.4808    0.5136    0.4967      5648\n",
      "   macro avg     0.5042    0.5154    0.5085      5648\n",
      "weighted avg     0.4928    0.5136    0.5019      5648\n",
      "\n"
     ]
    },
    {
     "data": {
      "application/vnd.jupyter.widget-view+json": {
       "model_id": "",
       "version_major": 2,
       "version_minor": 0
      },
      "text/plain": [
       "Training:   0%|          | 0/438 [00:00<?, ?it/s]"
      ]
     },
     "metadata": {},
     "output_type": "display_data"
    },
    {
     "data": {
      "application/vnd.jupyter.widget-view+json": {
       "model_id": "",
       "version_major": 2,
       "version_minor": 0
      },
      "text/plain": [
       "Evaluating:   0%|          | 0/54 [00:00<?, ?it/s]"
      ]
     },
     "metadata": {},
     "output_type": "display_data"
    },
    {
     "name": "stdout",
     "output_type": "stream",
     "text": [
      "              precision    recall  f1-score   support\n",
      "\n",
      "         LOC     0.6926    0.6984    0.6955      1668\n",
      "        MISC     0.5663    0.5356    0.5505       702\n",
      "         ORG     0.3762    0.4401    0.4057      1661\n",
      "         PER     0.3362    0.4162    0.3719      1617\n",
      "\n",
      "   micro avg     0.4681    0.5214    0.4933      5648\n",
      "   macro avg     0.4928    0.5226    0.5059      5648\n",
      "weighted avg     0.4818    0.5214    0.4996      5648\n",
      "\n"
     ]
    },
    {
     "data": {
      "application/vnd.jupyter.widget-view+json": {
       "model_id": "",
       "version_major": 2,
       "version_minor": 0
      },
      "text/plain": [
       "Training:   0%|          | 0/438 [00:00<?, ?it/s]"
      ]
     },
     "metadata": {},
     "output_type": "display_data"
    },
    {
     "data": {
      "application/vnd.jupyter.widget-view+json": {
       "model_id": "",
       "version_major": 2,
       "version_minor": 0
      },
      "text/plain": [
       "Evaluating:   0%|          | 0/54 [00:00<?, ?it/s]"
      ]
     },
     "metadata": {},
     "output_type": "display_data"
    },
    {
     "name": "stdout",
     "output_type": "stream",
     "text": [
      "              precision    recall  f1-score   support\n",
      "\n",
      "         LOC     0.6944    0.7110    0.7026      1668\n",
      "        MISC     0.5500    0.5484    0.5492       702\n",
      "         ORG     0.3687    0.4521    0.4062      1661\n",
      "         PER     0.3437    0.4026    0.3708      1617\n",
      "\n",
      "   micro avg     0.4690    0.5264    0.4960      5648\n",
      "   macro avg     0.4892    0.5285    0.5072      5648\n",
      "weighted avg     0.4803    0.5264    0.5014      5648\n",
      "\n"
     ]
    },
    {
     "data": {
      "application/vnd.jupyter.widget-view+json": {
       "model_id": "",
       "version_major": 2,
       "version_minor": 0
      },
      "text/plain": [
       "Training:   0%|          | 0/438 [00:00<?, ?it/s]"
      ]
     },
     "metadata": {},
     "output_type": "display_data"
    },
    {
     "data": {
      "application/vnd.jupyter.widget-view+json": {
       "model_id": "",
       "version_major": 2,
       "version_minor": 0
      },
      "text/plain": [
       "Evaluating:   0%|          | 0/54 [00:00<?, ?it/s]"
      ]
     },
     "metadata": {},
     "output_type": "display_data"
    },
    {
     "name": "stdout",
     "output_type": "stream",
     "text": [
      "              precision    recall  f1-score   support\n",
      "\n",
      "         LOC     0.7041    0.6990    0.7016      1668\n",
      "        MISC     0.5631    0.5342    0.5482       702\n",
      "         ORG     0.3849    0.4521    0.4158      1661\n",
      "         PER     0.3448    0.4150    0.3766      1617\n",
      "\n",
      "   micro avg     0.4764    0.5246    0.4994      5648\n",
      "   macro avg     0.4992    0.5251    0.5106      5648\n",
      "weighted avg     0.4898    0.5246    0.5055      5648\n",
      "\n"
     ]
    },
    {
     "data": {
      "application/vnd.jupyter.widget-view+json": {
       "model_id": "",
       "version_major": 2,
       "version_minor": 0
      },
      "text/plain": [
       "Training:   0%|          | 0/438 [00:00<?, ?it/s]"
      ]
     },
     "metadata": {},
     "output_type": "display_data"
    },
    {
     "data": {
      "application/vnd.jupyter.widget-view+json": {
       "model_id": "",
       "version_major": 2,
       "version_minor": 0
      },
      "text/plain": [
       "Evaluating:   0%|          | 0/54 [00:00<?, ?it/s]"
      ]
     },
     "metadata": {},
     "output_type": "display_data"
    },
    {
     "name": "stdout",
     "output_type": "stream",
     "text": [
      "              precision    recall  f1-score   support\n",
      "\n",
      "         LOC     0.7001    0.6900    0.6950      1668\n",
      "        MISC     0.5763    0.5271    0.5506       702\n",
      "         ORG     0.3806    0.4425    0.4092      1661\n",
      "         PER     0.3224    0.4137    0.3624      1617\n",
      "\n",
      "   micro avg     0.4649    0.5179    0.4899      5648\n",
      "   macro avg     0.4949    0.5183    0.5043      5648\n",
      "weighted avg     0.4826    0.5179    0.4978      5648\n",
      "\n"
     ]
    },
    {
     "data": {
      "application/vnd.jupyter.widget-view+json": {
       "model_id": "",
       "version_major": 2,
       "version_minor": 0
      },
      "text/plain": [
       "Training:   0%|          | 0/438 [00:00<?, ?it/s]"
      ]
     },
     "metadata": {},
     "output_type": "display_data"
    },
    {
     "data": {
      "application/vnd.jupyter.widget-view+json": {
       "model_id": "",
       "version_major": 2,
       "version_minor": 0
      },
      "text/plain": [
       "Evaluating:   0%|          | 0/54 [00:00<?, ?it/s]"
      ]
     },
     "metadata": {},
     "output_type": "display_data"
    },
    {
     "name": "stdout",
     "output_type": "stream",
     "text": [
      "              precision    recall  f1-score   support\n",
      "\n",
      "         LOC     0.7066    0.7002    0.7034      1668\n",
      "        MISC     0.5296    0.5613    0.5450       702\n",
      "         ORG     0.3958    0.4425    0.4179      1661\n",
      "         PER     0.3214    0.3902    0.3525      1617\n",
      "\n",
      "   micro avg     0.4710    0.5184    0.4936      5648\n",
      "   macro avg     0.4884    0.5236    0.5047      5648\n",
      "weighted avg     0.4829    0.5184    0.4993      5648\n",
      "\n"
     ]
    },
    {
     "data": {
      "application/vnd.jupyter.widget-view+json": {
       "model_id": "",
       "version_major": 2,
       "version_minor": 0
      },
      "text/plain": [
       "Training:   0%|          | 0/438 [00:00<?, ?it/s]"
      ]
     },
     "metadata": {},
     "output_type": "display_data"
    },
    {
     "data": {
      "application/vnd.jupyter.widget-view+json": {
       "model_id": "",
       "version_major": 2,
       "version_minor": 0
      },
      "text/plain": [
       "Evaluating:   0%|          | 0/54 [00:00<?, ?it/s]"
      ]
     },
     "metadata": {},
     "output_type": "display_data"
    },
    {
     "name": "stdout",
     "output_type": "stream",
     "text": [
      "              precision    recall  f1-score   support\n",
      "\n",
      "         LOC     0.6997    0.7068    0.7033      1668\n",
      "        MISC     0.5889    0.5285    0.5571       702\n",
      "         ORG     0.3858    0.4365    0.4096      1661\n",
      "         PER     0.3457    0.4484    0.3904      1617\n",
      "\n",
      "   micro avg     0.4769    0.5312    0.5026      5648\n",
      "   macro avg     0.5050    0.5300    0.5151      5648\n",
      "weighted avg     0.4923    0.5312    0.5092      5648\n",
      "\n"
     ]
    },
    {
     "data": {
      "application/vnd.jupyter.widget-view+json": {
       "model_id": "",
       "version_major": 2,
       "version_minor": 0
      },
      "text/plain": [
       "Training:   0%|          | 0/438 [00:00<?, ?it/s]"
      ]
     },
     "metadata": {},
     "output_type": "display_data"
    },
    {
     "data": {
      "application/vnd.jupyter.widget-view+json": {
       "model_id": "",
       "version_major": 2,
       "version_minor": 0
      },
      "text/plain": [
       "Evaluating:   0%|          | 0/54 [00:00<?, ?it/s]"
      ]
     },
     "metadata": {},
     "output_type": "display_data"
    },
    {
     "name": "stdout",
     "output_type": "stream",
     "text": [
      "              precision    recall  f1-score   support\n",
      "\n",
      "         LOC     0.7034    0.7122    0.7078      1668\n",
      "        MISC     0.5626    0.5442    0.5532       702\n",
      "         ORG     0.4069    0.4515    0.4281      1661\n",
      "         PER     0.3571    0.4422    0.3951      1617\n",
      "\n",
      "   micro avg     0.4885    0.5374    0.5118      5648\n",
      "   macro avg     0.5075    0.5375    0.5211      5648\n",
      "weighted avg     0.4996    0.5374    0.5168      5648\n",
      "\n"
     ]
    },
    {
     "data": {
      "application/vnd.jupyter.widget-view+json": {
       "model_id": "",
       "version_major": 2,
       "version_minor": 0
      },
      "text/plain": [
       "Training:   0%|          | 0/438 [00:00<?, ?it/s]"
      ]
     },
     "metadata": {},
     "output_type": "display_data"
    },
    {
     "data": {
      "application/vnd.jupyter.widget-view+json": {
       "model_id": "",
       "version_major": 2,
       "version_minor": 0
      },
      "text/plain": [
       "Evaluating:   0%|          | 0/54 [00:00<?, ?it/s]"
      ]
     },
     "metadata": {},
     "output_type": "display_data"
    },
    {
     "name": "stdout",
     "output_type": "stream",
     "text": [
      "              precision    recall  f1-score   support\n",
      "\n",
      "         LOC     0.7219    0.6739    0.6971      1668\n",
      "        MISC     0.5655    0.5413    0.5531       702\n",
      "         ORG     0.3964    0.4503    0.4216      1661\n",
      "         PER     0.3337    0.4280    0.3750      1617\n",
      "\n",
      "   micro avg     0.4756    0.5212    0.4974      5648\n",
      "   macro avg     0.5044    0.5234    0.5117      5648\n",
      "weighted avg     0.4956    0.5212    0.5060      5648\n",
      "\n"
     ]
    },
    {
     "data": {
      "application/vnd.jupyter.widget-view+json": {
       "model_id": "",
       "version_major": 2,
       "version_minor": 0
      },
      "text/plain": [
       "Training:   0%|          | 0/438 [00:00<?, ?it/s]"
      ]
     },
     "metadata": {},
     "output_type": "display_data"
    },
    {
     "data": {
      "application/vnd.jupyter.widget-view+json": {
       "model_id": "",
       "version_major": 2,
       "version_minor": 0
      },
      "text/plain": [
       "Evaluating:   0%|          | 0/54 [00:00<?, ?it/s]"
      ]
     },
     "metadata": {},
     "output_type": "display_data"
    },
    {
     "name": "stdout",
     "output_type": "stream",
     "text": [
      "              precision    recall  f1-score   support\n",
      "\n",
      "         LOC     0.7006    0.7128    0.7067      1668\n",
      "        MISC     0.5108    0.5741    0.5406       702\n",
      "         ORG     0.3920    0.4612    0.4238      1661\n",
      "         PER     0.3245    0.3704    0.3459      1617\n",
      "\n",
      "   micro avg     0.4704    0.5235    0.4956      5648\n",
      "   macro avg     0.4820    0.5296    0.5042      5648\n",
      "weighted avg     0.4786    0.5235    0.4996      5648\n",
      "\n"
     ]
    },
    {
     "data": {
      "application/vnd.jupyter.widget-view+json": {
       "model_id": "18c77e13c4ba4ec4915d3e8a3384cf18",
       "version_major": 2,
       "version_minor": 0
      },
      "text/plain": [
       "Training:   0%|          | 0/438 [00:00<?, ?it/s]"
      ]
     },
     "metadata": {},
     "output_type": "display_data"
    },
    {
     "ename": "KeyboardInterrupt",
     "evalue": "",
     "output_type": "error",
     "traceback": [
      "\u001b[0;31m---------------------------------------------------------------------------\u001b[0m",
      "\u001b[0;31mKeyboardInterrupt\u001b[0m                         Traceback (most recent call last)",
      "\u001b[0;32m/tmp/ipykernel_2444774/3224807348.py\u001b[0m in \u001b[0;36m<module>\u001b[0;34m\u001b[0m\n\u001b[0;32m----> 1\u001b[0;31m \u001b[0mtrain_single\u001b[0m\u001b[0;34m(\u001b[0m\u001b[0;36m50\u001b[0m\u001b[0;34m,\u001b[0m \u001b[0mpretrained\u001b[0m\u001b[0;34m=\u001b[0m\u001b[0;32mFalse\u001b[0m\u001b[0;34m)\u001b[0m\u001b[0;34m\u001b[0m\u001b[0;34m\u001b[0m\u001b[0m\n\u001b[0m",
      "\u001b[0;32m/tmp/ipykernel_2444774/167943225.py\u001b[0m in \u001b[0;36mtrain_single\u001b[0;34m(epochs, lr, batch_size, pretrained)\u001b[0m\n\u001b[1;32m     26\u001b[0m     \u001b[0;32mfor\u001b[0m \u001b[0me\u001b[0m \u001b[0;32min\u001b[0m \u001b[0mrange\u001b[0m\u001b[0;34m(\u001b[0m\u001b[0mepochs\u001b[0m\u001b[0;34m)\u001b[0m\u001b[0;34m:\u001b[0m\u001b[0;34m\u001b[0m\u001b[0;34m\u001b[0m\u001b[0m\n\u001b[1;32m     27\u001b[0m         \u001b[0;32mfor\u001b[0m \u001b[0mx\u001b[0m\u001b[0;34m,\u001b[0m \u001b[0my\u001b[0m \u001b[0;32min\u001b[0m \u001b[0mtqdm\u001b[0m\u001b[0;34m(\u001b[0m\u001b[0mdata\u001b[0m\u001b[0;34m,\u001b[0m \u001b[0mposition\u001b[0m\u001b[0;34m=\u001b[0m\u001b[0;36m0\u001b[0m\u001b[0;34m,\u001b[0m \u001b[0mleave\u001b[0m\u001b[0;34m=\u001b[0m\u001b[0;32mFalse\u001b[0m\u001b[0;34m,\u001b[0m \u001b[0mdesc\u001b[0m\u001b[0;34m=\u001b[0m\u001b[0;34m\"Training\"\u001b[0m\u001b[0;34m)\u001b[0m\u001b[0;34m:\u001b[0m\u001b[0;34m\u001b[0m\u001b[0;34m\u001b[0m\u001b[0m\n\u001b[0;32m---> 28\u001b[0;31m             \u001b[0mtrain_batch\u001b[0m\u001b[0;34m(\u001b[0m\u001b[0mmodel\u001b[0m\u001b[0;34m,\u001b[0m \u001b[0mx\u001b[0m\u001b[0;34m,\u001b[0m \u001b[0my\u001b[0m\u001b[0;34m)\u001b[0m\u001b[0;34m\u001b[0m\u001b[0;34m\u001b[0m\u001b[0m\n\u001b[0m\u001b[1;32m     29\u001b[0m         \u001b[0meval_model\u001b[0m\u001b[0;34m(\u001b[0m\u001b[0mmodel\u001b[0m\u001b[0;34m,\u001b[0m \u001b[0meval_data_batched\u001b[0m\u001b[0;34m)\u001b[0m\u001b[0;34m\u001b[0m\u001b[0;34m\u001b[0m\u001b[0m\n\u001b[1;32m     30\u001b[0m     \u001b[0;32mreturn\u001b[0m \u001b[0mmodel\u001b[0m\u001b[0;34m\u001b[0m\u001b[0;34m\u001b[0m\u001b[0m\n",
      "\u001b[0;32m~/.pyenv/versions/3.8.10/lib/python3.8/site-packages/tensorflow/python/eager/def_function.py\u001b[0m in \u001b[0;36m__call__\u001b[0;34m(self, *args, **kwds)\u001b[0m\n\u001b[1;32m    887\u001b[0m \u001b[0;34m\u001b[0m\u001b[0m\n\u001b[1;32m    888\u001b[0m       \u001b[0;32mwith\u001b[0m \u001b[0mOptionalXlaContext\u001b[0m\u001b[0;34m(\u001b[0m\u001b[0mself\u001b[0m\u001b[0;34m.\u001b[0m\u001b[0m_jit_compile\u001b[0m\u001b[0;34m)\u001b[0m\u001b[0;34m:\u001b[0m\u001b[0;34m\u001b[0m\u001b[0;34m\u001b[0m\u001b[0m\n\u001b[0;32m--> 889\u001b[0;31m         \u001b[0mresult\u001b[0m \u001b[0;34m=\u001b[0m \u001b[0mself\u001b[0m\u001b[0;34m.\u001b[0m\u001b[0m_call\u001b[0m\u001b[0;34m(\u001b[0m\u001b[0;34m*\u001b[0m\u001b[0margs\u001b[0m\u001b[0;34m,\u001b[0m \u001b[0;34m**\u001b[0m\u001b[0mkwds\u001b[0m\u001b[0;34m)\u001b[0m\u001b[0;34m\u001b[0m\u001b[0;34m\u001b[0m\u001b[0m\n\u001b[0m\u001b[1;32m    890\u001b[0m \u001b[0;34m\u001b[0m\u001b[0m\n\u001b[1;32m    891\u001b[0m       \u001b[0mnew_tracing_count\u001b[0m \u001b[0;34m=\u001b[0m \u001b[0mself\u001b[0m\u001b[0;34m.\u001b[0m\u001b[0mexperimental_get_tracing_count\u001b[0m\u001b[0;34m(\u001b[0m\u001b[0;34m)\u001b[0m\u001b[0;34m\u001b[0m\u001b[0;34m\u001b[0m\u001b[0m\n",
      "\u001b[0;32m~/.pyenv/versions/3.8.10/lib/python3.8/site-packages/tensorflow/python/eager/def_function.py\u001b[0m in \u001b[0;36m_call\u001b[0;34m(self, *args, **kwds)\u001b[0m\n\u001b[1;32m    915\u001b[0m       \u001b[0;31m# In this case we have created variables on the first call, so we run the\u001b[0m\u001b[0;34m\u001b[0m\u001b[0;34m\u001b[0m\u001b[0;34m\u001b[0m\u001b[0m\n\u001b[1;32m    916\u001b[0m       \u001b[0;31m# defunned version which is guaranteed to never create variables.\u001b[0m\u001b[0;34m\u001b[0m\u001b[0;34m\u001b[0m\u001b[0;34m\u001b[0m\u001b[0m\n\u001b[0;32m--> 917\u001b[0;31m       \u001b[0;32mreturn\u001b[0m \u001b[0mself\u001b[0m\u001b[0;34m.\u001b[0m\u001b[0m_stateless_fn\u001b[0m\u001b[0;34m(\u001b[0m\u001b[0;34m*\u001b[0m\u001b[0margs\u001b[0m\u001b[0;34m,\u001b[0m \u001b[0;34m**\u001b[0m\u001b[0mkwds\u001b[0m\u001b[0;34m)\u001b[0m  \u001b[0;31m# pylint: disable=not-callable\u001b[0m\u001b[0;34m\u001b[0m\u001b[0;34m\u001b[0m\u001b[0m\n\u001b[0m\u001b[1;32m    918\u001b[0m     \u001b[0;32melif\u001b[0m \u001b[0mself\u001b[0m\u001b[0;34m.\u001b[0m\u001b[0m_stateful_fn\u001b[0m \u001b[0;32mis\u001b[0m \u001b[0;32mnot\u001b[0m \u001b[0;32mNone\u001b[0m\u001b[0;34m:\u001b[0m\u001b[0;34m\u001b[0m\u001b[0;34m\u001b[0m\u001b[0m\n\u001b[1;32m    919\u001b[0m       \u001b[0;31m# Release the lock early so that multiple threads can perform the call\u001b[0m\u001b[0;34m\u001b[0m\u001b[0;34m\u001b[0m\u001b[0;34m\u001b[0m\u001b[0m\n",
      "\u001b[0;32m~/.pyenv/versions/3.8.10/lib/python3.8/site-packages/tensorflow/python/eager/function.py\u001b[0m in \u001b[0;36m__call__\u001b[0;34m(self, *args, **kwargs)\u001b[0m\n\u001b[1;32m   3021\u001b[0m       (graph_function,\n\u001b[1;32m   3022\u001b[0m        filtered_flat_args) = self._maybe_define_function(args, kwargs)\n\u001b[0;32m-> 3023\u001b[0;31m     return graph_function._call_flat(\n\u001b[0m\u001b[1;32m   3024\u001b[0m         filtered_flat_args, captured_inputs=graph_function.captured_inputs)  # pylint: disable=protected-access\n\u001b[1;32m   3025\u001b[0m \u001b[0;34m\u001b[0m\u001b[0m\n",
      "\u001b[0;32m~/.pyenv/versions/3.8.10/lib/python3.8/site-packages/tensorflow/python/eager/function.py\u001b[0m in \u001b[0;36m_call_flat\u001b[0;34m(self, args, captured_inputs, cancellation_manager)\u001b[0m\n\u001b[1;32m   1958\u001b[0m         and executing_eagerly):\n\u001b[1;32m   1959\u001b[0m       \u001b[0;31m# No tape is watching; skip to running the function.\u001b[0m\u001b[0;34m\u001b[0m\u001b[0;34m\u001b[0m\u001b[0;34m\u001b[0m\u001b[0m\n\u001b[0;32m-> 1960\u001b[0;31m       return self._build_call_outputs(self._inference_function.call(\n\u001b[0m\u001b[1;32m   1961\u001b[0m           ctx, args, cancellation_manager=cancellation_manager))\n\u001b[1;32m   1962\u001b[0m     forward_backward = self._select_forward_and_backward_functions(\n",
      "\u001b[0;32m~/.pyenv/versions/3.8.10/lib/python3.8/site-packages/tensorflow/python/eager/function.py\u001b[0m in \u001b[0;36mcall\u001b[0;34m(self, ctx, args, cancellation_manager)\u001b[0m\n\u001b[1;32m    589\u001b[0m       \u001b[0;32mwith\u001b[0m \u001b[0m_InterpolateFunctionError\u001b[0m\u001b[0;34m(\u001b[0m\u001b[0mself\u001b[0m\u001b[0;34m)\u001b[0m\u001b[0;34m:\u001b[0m\u001b[0;34m\u001b[0m\u001b[0;34m\u001b[0m\u001b[0m\n\u001b[1;32m    590\u001b[0m         \u001b[0;32mif\u001b[0m \u001b[0mcancellation_manager\u001b[0m \u001b[0;32mis\u001b[0m \u001b[0;32mNone\u001b[0m\u001b[0;34m:\u001b[0m\u001b[0;34m\u001b[0m\u001b[0;34m\u001b[0m\u001b[0m\n\u001b[0;32m--> 591\u001b[0;31m           outputs = execute.execute(\n\u001b[0m\u001b[1;32m    592\u001b[0m               \u001b[0mstr\u001b[0m\u001b[0;34m(\u001b[0m\u001b[0mself\u001b[0m\u001b[0;34m.\u001b[0m\u001b[0msignature\u001b[0m\u001b[0;34m.\u001b[0m\u001b[0mname\u001b[0m\u001b[0;34m)\u001b[0m\u001b[0;34m,\u001b[0m\u001b[0;34m\u001b[0m\u001b[0;34m\u001b[0m\u001b[0m\n\u001b[1;32m    593\u001b[0m               \u001b[0mnum_outputs\u001b[0m\u001b[0;34m=\u001b[0m\u001b[0mself\u001b[0m\u001b[0;34m.\u001b[0m\u001b[0m_num_outputs\u001b[0m\u001b[0;34m,\u001b[0m\u001b[0;34m\u001b[0m\u001b[0;34m\u001b[0m\u001b[0m\n",
      "\u001b[0;32m~/.pyenv/versions/3.8.10/lib/python3.8/site-packages/tensorflow/python/eager/execute.py\u001b[0m in \u001b[0;36mquick_execute\u001b[0;34m(op_name, num_outputs, inputs, attrs, ctx, name)\u001b[0m\n\u001b[1;32m     57\u001b[0m   \u001b[0;32mtry\u001b[0m\u001b[0;34m:\u001b[0m\u001b[0;34m\u001b[0m\u001b[0;34m\u001b[0m\u001b[0m\n\u001b[1;32m     58\u001b[0m     \u001b[0mctx\u001b[0m\u001b[0;34m.\u001b[0m\u001b[0mensure_initialized\u001b[0m\u001b[0;34m(\u001b[0m\u001b[0;34m)\u001b[0m\u001b[0;34m\u001b[0m\u001b[0;34m\u001b[0m\u001b[0m\n\u001b[0;32m---> 59\u001b[0;31m     tensors = pywrap_tfe.TFE_Py_Execute(ctx._handle, device_name, op_name,\n\u001b[0m\u001b[1;32m     60\u001b[0m                                         inputs, attrs, num_outputs)\n\u001b[1;32m     61\u001b[0m   \u001b[0;32mexcept\u001b[0m \u001b[0mcore\u001b[0m\u001b[0;34m.\u001b[0m\u001b[0m_NotOkStatusException\u001b[0m \u001b[0;32mas\u001b[0m \u001b[0me\u001b[0m\u001b[0;34m:\u001b[0m\u001b[0;34m\u001b[0m\u001b[0;34m\u001b[0m\u001b[0m\n",
      "\u001b[0;31mKeyboardInterrupt\u001b[0m: "
     ]
    }
   ],
   "source": [
    "train_single(50, pretrained=False) tiny"
   ]
  },
  {
   "cell_type": "code",
   "execution_count": 3,
   "id": "9101e2ae",
   "metadata": {
    "scrolled": true
   },
   "outputs": [
    {
     "data": {
      "application/vnd.jupyter.widget-view+json": {
       "model_id": "",
       "version_major": 2,
       "version_minor": 0
      },
      "text/plain": [
       "Training:   0%|          | 0/438 [00:00<?, ?it/s]"
      ]
     },
     "metadata": {},
     "output_type": "display_data"
    },
    {
     "data": {
      "application/vnd.jupyter.widget-view+json": {
       "model_id": "",
       "version_major": 2,
       "version_minor": 0
      },
      "text/plain": [
       "Evaluating:   0%|          | 0/54 [00:00<?, ?it/s]"
      ]
     },
     "metadata": {},
     "output_type": "display_data"
    },
    {
     "name": "stdout",
     "output_type": "stream",
     "text": [
      "              precision    recall  f1-score   support\n",
      "\n",
      "         LOC     0.3440    0.5162    0.4129      1668\n",
      "        MISC     0.0000    0.0000    0.0000       702\n",
      "         ORG     0.3672    0.0674    0.1139      1661\n",
      "         PER     0.0750    0.0019    0.0036      1617\n",
      "\n",
      "   micro avg     0.3427    0.1728    0.2298      5648\n",
      "   macro avg     0.1966    0.1464    0.1326      5648\n",
      "weighted avg     0.2311    0.1728    0.1565      5648\n",
      "\n"
     ]
    },
    {
     "data": {
      "application/vnd.jupyter.widget-view+json": {
       "model_id": "",
       "version_major": 2,
       "version_minor": 0
      },
      "text/plain": [
       "Training:   0%|          | 0/438 [00:00<?, ?it/s]"
      ]
     },
     "metadata": {},
     "output_type": "display_data"
    },
    {
     "data": {
      "application/vnd.jupyter.widget-view+json": {
       "model_id": "",
       "version_major": 2,
       "version_minor": 0
      },
      "text/plain": [
       "Evaluating:   0%|          | 0/54 [00:00<?, ?it/s]"
      ]
     },
     "metadata": {},
     "output_type": "display_data"
    },
    {
     "name": "stdout",
     "output_type": "stream",
     "text": [
      "              precision    recall  f1-score   support\n",
      "\n",
      "         LOC     0.4034    0.6733    0.5045      1668\n",
      "        MISC     0.7308    0.1624    0.2657       702\n",
      "         ORG     0.3842    0.1848    0.2496      1661\n",
      "         PER     0.0977    0.0686    0.0806      1617\n",
      "\n",
      "   micro avg     0.3395    0.2930    0.3145      5648\n",
      "   macro avg     0.4040    0.2723    0.2751      5648\n",
      "weighted avg     0.3509    0.2930    0.2785      5648\n",
      "\n"
     ]
    },
    {
     "data": {
      "application/vnd.jupyter.widget-view+json": {
       "model_id": "",
       "version_major": 2,
       "version_minor": 0
      },
      "text/plain": [
       "Training:   0%|          | 0/438 [00:00<?, ?it/s]"
      ]
     },
     "metadata": {},
     "output_type": "display_data"
    },
    {
     "data": {
      "application/vnd.jupyter.widget-view+json": {
       "model_id": "",
       "version_major": 2,
       "version_minor": 0
      },
      "text/plain": [
       "Evaluating:   0%|          | 0/54 [00:00<?, ?it/s]"
      ]
     },
     "metadata": {},
     "output_type": "display_data"
    },
    {
     "name": "stdout",
     "output_type": "stream",
     "text": [
      "              precision    recall  f1-score   support\n",
      "\n",
      "         LOC     0.6198    0.7134    0.6633      1668\n",
      "        MISC     0.5386    0.4074    0.4639       702\n",
      "         ORG     0.3710    0.3082    0.3367      1661\n",
      "         PER     0.1493    0.2115    0.1751      1617\n",
      "\n",
      "   micro avg     0.3807    0.4125    0.3960      5648\n",
      "   macro avg     0.4197    0.4101    0.4098      5648\n",
      "weighted avg     0.4019    0.4125    0.4027      5648\n",
      "\n"
     ]
    },
    {
     "data": {
      "application/vnd.jupyter.widget-view+json": {
       "model_id": "",
       "version_major": 2,
       "version_minor": 0
      },
      "text/plain": [
       "Training:   0%|          | 0/438 [00:00<?, ?it/s]"
      ]
     },
     "metadata": {},
     "output_type": "display_data"
    },
    {
     "data": {
      "application/vnd.jupyter.widget-view+json": {
       "model_id": "",
       "version_major": 2,
       "version_minor": 0
      },
      "text/plain": [
       "Evaluating:   0%|          | 0/54 [00:00<?, ?it/s]"
      ]
     },
     "metadata": {},
     "output_type": "display_data"
    },
    {
     "name": "stdout",
     "output_type": "stream",
     "text": [
      "              precision    recall  f1-score   support\n",
      "\n",
      "         LOC     0.6447    0.7344    0.6867      1668\n",
      "        MISC     0.5892    0.4801    0.5290       702\n",
      "         ORG     0.3670    0.3606    0.3638      1661\n",
      "         PER     0.1955    0.2239    0.2087      1617\n",
      "\n",
      "   micro avg     0.4236    0.4467    0.4349      5648\n",
      "   macro avg     0.4491    0.4497    0.4471      5648\n",
      "weighted avg     0.4275    0.4467    0.4353      5648\n",
      "\n"
     ]
    },
    {
     "data": {
      "application/vnd.jupyter.widget-view+json": {
       "model_id": "",
       "version_major": 2,
       "version_minor": 0
      },
      "text/plain": [
       "Training:   0%|          | 0/438 [00:00<?, ?it/s]"
      ]
     },
     "metadata": {},
     "output_type": "display_data"
    },
    {
     "data": {
      "application/vnd.jupyter.widget-view+json": {
       "model_id": "",
       "version_major": 2,
       "version_minor": 0
      },
      "text/plain": [
       "Evaluating:   0%|          | 0/54 [00:00<?, ?it/s]"
      ]
     },
     "metadata": {},
     "output_type": "display_data"
    },
    {
     "name": "stdout",
     "output_type": "stream",
     "text": [
      "              precision    recall  f1-score   support\n",
      "\n",
      "         LOC     0.6371    0.7452    0.6869      1668\n",
      "        MISC     0.5778    0.5185    0.5465       702\n",
      "         ORG     0.3635    0.3751    0.3692      1661\n",
      "         PER     0.2454    0.3024    0.2709      1617\n",
      "\n",
      "   micro avg     0.4324    0.4814    0.4556      5648\n",
      "   macro avg     0.4559    0.4853    0.4684      5648\n",
      "weighted avg     0.4371    0.4814    0.4569      5648\n",
      "\n"
     ]
    },
    {
     "data": {
      "application/vnd.jupyter.widget-view+json": {
       "model_id": "",
       "version_major": 2,
       "version_minor": 0
      },
      "text/plain": [
       "Training:   0%|          | 0/438 [00:00<?, ?it/s]"
      ]
     },
     "metadata": {},
     "output_type": "display_data"
    },
    {
     "data": {
      "application/vnd.jupyter.widget-view+json": {
       "model_id": "",
       "version_major": 2,
       "version_minor": 0
      },
      "text/plain": [
       "Evaluating:   0%|          | 0/54 [00:00<?, ?it/s]"
      ]
     },
     "metadata": {},
     "output_type": "display_data"
    },
    {
     "name": "stdout",
     "output_type": "stream",
     "text": [
      "              precision    recall  f1-score   support\n",
      "\n",
      "         LOC     0.6616    0.7302    0.6942      1668\n",
      "        MISC     0.5776    0.5356    0.5558       702\n",
      "         ORG     0.3825    0.3841    0.3833      1661\n",
      "         PER     0.2880    0.3630    0.3212      1617\n",
      "\n",
      "   micro avg     0.4548    0.4991    0.4759      5648\n",
      "   macro avg     0.4774    0.5032    0.4886      5648\n",
      "weighted avg     0.4621    0.4991    0.4788      5648\n",
      "\n"
     ]
    },
    {
     "data": {
      "application/vnd.jupyter.widget-view+json": {
       "model_id": "",
       "version_major": 2,
       "version_minor": 0
      },
      "text/plain": [
       "Training:   0%|          | 0/438 [00:00<?, ?it/s]"
      ]
     },
     "metadata": {},
     "output_type": "display_data"
    },
    {
     "data": {
      "application/vnd.jupyter.widget-view+json": {
       "model_id": "",
       "version_major": 2,
       "version_minor": 0
      },
      "text/plain": [
       "Evaluating:   0%|          | 0/54 [00:00<?, ?it/s]"
      ]
     },
     "metadata": {},
     "output_type": "display_data"
    },
    {
     "name": "stdout",
     "output_type": "stream",
     "text": [
      "              precision    recall  f1-score   support\n",
      "\n",
      "         LOC     0.6431    0.7464    0.6909      1668\n",
      "        MISC     0.5804    0.5556    0.5677       702\n",
      "         ORG     0.3743    0.3961    0.3849      1661\n",
      "         PER     0.3332    0.3989    0.3631      1617\n",
      "\n",
      "   micro avg     0.4662    0.5202    0.4917      5648\n",
      "   macro avg     0.4827    0.5242    0.5016      5648\n",
      "weighted avg     0.4675    0.5202    0.4917      5648\n",
      "\n"
     ]
    },
    {
     "data": {
      "application/vnd.jupyter.widget-view+json": {
       "model_id": "",
       "version_major": 2,
       "version_minor": 0
      },
      "text/plain": [
       "Training:   0%|          | 0/438 [00:00<?, ?it/s]"
      ]
     },
     "metadata": {},
     "output_type": "display_data"
    },
    {
     "data": {
      "application/vnd.jupyter.widget-view+json": {
       "model_id": "",
       "version_major": 2,
       "version_minor": 0
      },
      "text/plain": [
       "Evaluating:   0%|          | 0/54 [00:00<?, ?it/s]"
      ]
     },
     "metadata": {},
     "output_type": "display_data"
    },
    {
     "name": "stdout",
     "output_type": "stream",
     "text": [
      "              precision    recall  f1-score   support\n",
      "\n",
      "         LOC     0.6187    0.7578    0.6812      1668\n",
      "        MISC     0.5822    0.5598    0.5708       702\n",
      "         ORG     0.3918    0.3805    0.3861      1661\n",
      "         PER     0.3295    0.4212    0.3697      1617\n",
      "\n",
      "   micro avg     0.4642    0.5258    0.4931      5648\n",
      "   macro avg     0.4805    0.5298    0.5020      5648\n",
      "weighted avg     0.4646    0.5258    0.4915      5648\n",
      "\n"
     ]
    },
    {
     "data": {
      "application/vnd.jupyter.widget-view+json": {
       "model_id": "",
       "version_major": 2,
       "version_minor": 0
      },
      "text/plain": [
       "Training:   0%|          | 0/438 [00:00<?, ?it/s]"
      ]
     },
     "metadata": {},
     "output_type": "display_data"
    },
    {
     "data": {
      "application/vnd.jupyter.widget-view+json": {
       "model_id": "",
       "version_major": 2,
       "version_minor": 0
      },
      "text/plain": [
       "Evaluating:   0%|          | 0/54 [00:00<?, ?it/s]"
      ]
     },
     "metadata": {},
     "output_type": "display_data"
    },
    {
     "name": "stdout",
     "output_type": "stream",
     "text": [
      "              precision    recall  f1-score   support\n",
      "\n",
      "         LOC     0.6404    0.7698    0.6992      1668\n",
      "        MISC     0.5787    0.5869    0.5827       702\n",
      "         ORG     0.3959    0.4040    0.3999      1661\n",
      "         PER     0.3609    0.4700    0.4083      1617\n",
      "\n",
      "   micro avg     0.4797    0.5536    0.5141      5648\n",
      "   macro avg     0.4939    0.5577    0.5225      5648\n",
      "weighted avg     0.4808    0.5536    0.5134      5648\n",
      "\n"
     ]
    },
    {
     "data": {
      "application/vnd.jupyter.widget-view+json": {
       "model_id": "93a195c2a9604c53ac9e71eb4513a12f",
       "version_major": 2,
       "version_minor": 0
      },
      "text/plain": [
       "Training:   0%|          | 0/438 [00:00<?, ?it/s]"
      ]
     },
     "metadata": {},
     "output_type": "display_data"
    },
    {
     "ename": "KeyboardInterrupt",
     "evalue": "",
     "output_type": "error",
     "traceback": [
      "\u001b[0;31m---------------------------------------------------------------------------\u001b[0m",
      "\u001b[0;31mKeyboardInterrupt\u001b[0m                         Traceback (most recent call last)",
      "\u001b[0;32m/tmp/ipykernel_2242158/3153613410.py\u001b[0m in \u001b[0;36m<module>\u001b[0;34m\u001b[0m\n\u001b[0;32m----> 1\u001b[0;31m \u001b[0mtrain_single\u001b[0m\u001b[0;34m(\u001b[0m\u001b[0;36m10\u001b[0m\u001b[0;34m,\u001b[0m \u001b[0mpretrained\u001b[0m\u001b[0;34m=\u001b[0m\u001b[0;32mFalse\u001b[0m\u001b[0;34m)\u001b[0m\u001b[0;34m\u001b[0m\u001b[0;34m\u001b[0m\u001b[0m\n\u001b[0m",
      "\u001b[0;32m/tmp/ipykernel_2242158/1931702456.py\u001b[0m in \u001b[0;36mtrain_single\u001b[0;34m(epochs, lr, batch_size, pretrained)\u001b[0m\n\u001b[1;32m     19\u001b[0m     \u001b[0;32mfor\u001b[0m \u001b[0me\u001b[0m \u001b[0;32min\u001b[0m \u001b[0mrange\u001b[0m\u001b[0;34m(\u001b[0m\u001b[0mepochs\u001b[0m\u001b[0;34m)\u001b[0m\u001b[0;34m:\u001b[0m\u001b[0;34m\u001b[0m\u001b[0;34m\u001b[0m\u001b[0m\n\u001b[1;32m     20\u001b[0m         \u001b[0;32mfor\u001b[0m \u001b[0mx\u001b[0m\u001b[0;34m,\u001b[0m \u001b[0my\u001b[0m \u001b[0;32min\u001b[0m \u001b[0mtqdm\u001b[0m\u001b[0;34m(\u001b[0m\u001b[0mdata\u001b[0m\u001b[0;34m,\u001b[0m \u001b[0mposition\u001b[0m\u001b[0;34m=\u001b[0m\u001b[0;36m0\u001b[0m\u001b[0;34m,\u001b[0m \u001b[0mleave\u001b[0m\u001b[0;34m=\u001b[0m\u001b[0;32mFalse\u001b[0m\u001b[0;34m,\u001b[0m \u001b[0mdesc\u001b[0m\u001b[0;34m=\u001b[0m\u001b[0;34m\"Training\"\u001b[0m\u001b[0;34m)\u001b[0m\u001b[0;34m:\u001b[0m\u001b[0;34m\u001b[0m\u001b[0;34m\u001b[0m\u001b[0m\n\u001b[0;32m---> 21\u001b[0;31m             \u001b[0mtrain_batch\u001b[0m\u001b[0;34m(\u001b[0m\u001b[0mmodel\u001b[0m\u001b[0;34m,\u001b[0m \u001b[0mx\u001b[0m\u001b[0;34m,\u001b[0m \u001b[0my\u001b[0m\u001b[0;34m)\u001b[0m\u001b[0;34m\u001b[0m\u001b[0;34m\u001b[0m\u001b[0m\n\u001b[0m\u001b[1;32m     22\u001b[0m         \u001b[0meval_model\u001b[0m\u001b[0;34m(\u001b[0m\u001b[0mmodel\u001b[0m\u001b[0;34m,\u001b[0m \u001b[0meval_data_batched\u001b[0m\u001b[0;34m)\u001b[0m\u001b[0;34m\u001b[0m\u001b[0;34m\u001b[0m\u001b[0m\n\u001b[1;32m     23\u001b[0m     \u001b[0;32mreturn\u001b[0m \u001b[0mmodel\u001b[0m\u001b[0;34m\u001b[0m\u001b[0;34m\u001b[0m\u001b[0m\n",
      "\u001b[0;32m~/.pyenv/versions/3.8.10/lib/python3.8/site-packages/tensorflow/python/eager/def_function.py\u001b[0m in \u001b[0;36m__call__\u001b[0;34m(self, *args, **kwds)\u001b[0m\n\u001b[1;32m    887\u001b[0m \u001b[0;34m\u001b[0m\u001b[0m\n\u001b[1;32m    888\u001b[0m       \u001b[0;32mwith\u001b[0m \u001b[0mOptionalXlaContext\u001b[0m\u001b[0;34m(\u001b[0m\u001b[0mself\u001b[0m\u001b[0;34m.\u001b[0m\u001b[0m_jit_compile\u001b[0m\u001b[0;34m)\u001b[0m\u001b[0;34m:\u001b[0m\u001b[0;34m\u001b[0m\u001b[0;34m\u001b[0m\u001b[0m\n\u001b[0;32m--> 889\u001b[0;31m         \u001b[0mresult\u001b[0m \u001b[0;34m=\u001b[0m \u001b[0mself\u001b[0m\u001b[0;34m.\u001b[0m\u001b[0m_call\u001b[0m\u001b[0;34m(\u001b[0m\u001b[0;34m*\u001b[0m\u001b[0margs\u001b[0m\u001b[0;34m,\u001b[0m \u001b[0;34m**\u001b[0m\u001b[0mkwds\u001b[0m\u001b[0;34m)\u001b[0m\u001b[0;34m\u001b[0m\u001b[0;34m\u001b[0m\u001b[0m\n\u001b[0m\u001b[1;32m    890\u001b[0m \u001b[0;34m\u001b[0m\u001b[0m\n\u001b[1;32m    891\u001b[0m       \u001b[0mnew_tracing_count\u001b[0m \u001b[0;34m=\u001b[0m \u001b[0mself\u001b[0m\u001b[0;34m.\u001b[0m\u001b[0mexperimental_get_tracing_count\u001b[0m\u001b[0;34m(\u001b[0m\u001b[0;34m)\u001b[0m\u001b[0;34m\u001b[0m\u001b[0;34m\u001b[0m\u001b[0m\n",
      "\u001b[0;32m~/.pyenv/versions/3.8.10/lib/python3.8/site-packages/tensorflow/python/eager/def_function.py\u001b[0m in \u001b[0;36m_call\u001b[0;34m(self, *args, **kwds)\u001b[0m\n\u001b[1;32m    915\u001b[0m       \u001b[0;31m# In this case we have created variables on the first call, so we run the\u001b[0m\u001b[0;34m\u001b[0m\u001b[0;34m\u001b[0m\u001b[0;34m\u001b[0m\u001b[0m\n\u001b[1;32m    916\u001b[0m       \u001b[0;31m# defunned version which is guaranteed to never create variables.\u001b[0m\u001b[0;34m\u001b[0m\u001b[0;34m\u001b[0m\u001b[0;34m\u001b[0m\u001b[0m\n\u001b[0;32m--> 917\u001b[0;31m       \u001b[0;32mreturn\u001b[0m \u001b[0mself\u001b[0m\u001b[0;34m.\u001b[0m\u001b[0m_stateless_fn\u001b[0m\u001b[0;34m(\u001b[0m\u001b[0;34m*\u001b[0m\u001b[0margs\u001b[0m\u001b[0;34m,\u001b[0m \u001b[0;34m**\u001b[0m\u001b[0mkwds\u001b[0m\u001b[0;34m)\u001b[0m  \u001b[0;31m# pylint: disable=not-callable\u001b[0m\u001b[0;34m\u001b[0m\u001b[0;34m\u001b[0m\u001b[0m\n\u001b[0m\u001b[1;32m    918\u001b[0m     \u001b[0;32melif\u001b[0m \u001b[0mself\u001b[0m\u001b[0;34m.\u001b[0m\u001b[0m_stateful_fn\u001b[0m \u001b[0;32mis\u001b[0m \u001b[0;32mnot\u001b[0m \u001b[0;32mNone\u001b[0m\u001b[0;34m:\u001b[0m\u001b[0;34m\u001b[0m\u001b[0;34m\u001b[0m\u001b[0m\n\u001b[1;32m    919\u001b[0m       \u001b[0;31m# Release the lock early so that multiple threads can perform the call\u001b[0m\u001b[0;34m\u001b[0m\u001b[0;34m\u001b[0m\u001b[0;34m\u001b[0m\u001b[0m\n",
      "\u001b[0;32m~/.pyenv/versions/3.8.10/lib/python3.8/site-packages/tensorflow/python/eager/function.py\u001b[0m in \u001b[0;36m__call__\u001b[0;34m(self, *args, **kwargs)\u001b[0m\n\u001b[1;32m   3021\u001b[0m       (graph_function,\n\u001b[1;32m   3022\u001b[0m        filtered_flat_args) = self._maybe_define_function(args, kwargs)\n\u001b[0;32m-> 3023\u001b[0;31m     return graph_function._call_flat(\n\u001b[0m\u001b[1;32m   3024\u001b[0m         filtered_flat_args, captured_inputs=graph_function.captured_inputs)  # pylint: disable=protected-access\n\u001b[1;32m   3025\u001b[0m \u001b[0;34m\u001b[0m\u001b[0m\n",
      "\u001b[0;32m~/.pyenv/versions/3.8.10/lib/python3.8/site-packages/tensorflow/python/eager/function.py\u001b[0m in \u001b[0;36m_call_flat\u001b[0;34m(self, args, captured_inputs, cancellation_manager)\u001b[0m\n\u001b[1;32m   1958\u001b[0m         and executing_eagerly):\n\u001b[1;32m   1959\u001b[0m       \u001b[0;31m# No tape is watching; skip to running the function.\u001b[0m\u001b[0;34m\u001b[0m\u001b[0;34m\u001b[0m\u001b[0;34m\u001b[0m\u001b[0m\n\u001b[0;32m-> 1960\u001b[0;31m       return self._build_call_outputs(self._inference_function.call(\n\u001b[0m\u001b[1;32m   1961\u001b[0m           ctx, args, cancellation_manager=cancellation_manager))\n\u001b[1;32m   1962\u001b[0m     forward_backward = self._select_forward_and_backward_functions(\n",
      "\u001b[0;32m~/.pyenv/versions/3.8.10/lib/python3.8/site-packages/tensorflow/python/eager/function.py\u001b[0m in \u001b[0;36mcall\u001b[0;34m(self, ctx, args, cancellation_manager)\u001b[0m\n\u001b[1;32m    589\u001b[0m       \u001b[0;32mwith\u001b[0m \u001b[0m_InterpolateFunctionError\u001b[0m\u001b[0;34m(\u001b[0m\u001b[0mself\u001b[0m\u001b[0;34m)\u001b[0m\u001b[0;34m:\u001b[0m\u001b[0;34m\u001b[0m\u001b[0;34m\u001b[0m\u001b[0m\n\u001b[1;32m    590\u001b[0m         \u001b[0;32mif\u001b[0m \u001b[0mcancellation_manager\u001b[0m \u001b[0;32mis\u001b[0m \u001b[0;32mNone\u001b[0m\u001b[0;34m:\u001b[0m\u001b[0;34m\u001b[0m\u001b[0;34m\u001b[0m\u001b[0m\n\u001b[0;32m--> 591\u001b[0;31m           outputs = execute.execute(\n\u001b[0m\u001b[1;32m    592\u001b[0m               \u001b[0mstr\u001b[0m\u001b[0;34m(\u001b[0m\u001b[0mself\u001b[0m\u001b[0;34m.\u001b[0m\u001b[0msignature\u001b[0m\u001b[0;34m.\u001b[0m\u001b[0mname\u001b[0m\u001b[0;34m)\u001b[0m\u001b[0;34m,\u001b[0m\u001b[0;34m\u001b[0m\u001b[0;34m\u001b[0m\u001b[0m\n\u001b[1;32m    593\u001b[0m               \u001b[0mnum_outputs\u001b[0m\u001b[0;34m=\u001b[0m\u001b[0mself\u001b[0m\u001b[0;34m.\u001b[0m\u001b[0m_num_outputs\u001b[0m\u001b[0;34m,\u001b[0m\u001b[0;34m\u001b[0m\u001b[0;34m\u001b[0m\u001b[0m\n",
      "\u001b[0;32m~/.pyenv/versions/3.8.10/lib/python3.8/site-packages/tensorflow/python/eager/execute.py\u001b[0m in \u001b[0;36mquick_execute\u001b[0;34m(op_name, num_outputs, inputs, attrs, ctx, name)\u001b[0m\n\u001b[1;32m     57\u001b[0m   \u001b[0;32mtry\u001b[0m\u001b[0;34m:\u001b[0m\u001b[0;34m\u001b[0m\u001b[0;34m\u001b[0m\u001b[0m\n\u001b[1;32m     58\u001b[0m     \u001b[0mctx\u001b[0m\u001b[0;34m.\u001b[0m\u001b[0mensure_initialized\u001b[0m\u001b[0;34m(\u001b[0m\u001b[0;34m)\u001b[0m\u001b[0;34m\u001b[0m\u001b[0;34m\u001b[0m\u001b[0m\n\u001b[0;32m---> 59\u001b[0;31m     tensors = pywrap_tfe.TFE_Py_Execute(ctx._handle, device_name, op_name,\n\u001b[0m\u001b[1;32m     60\u001b[0m                                         inputs, attrs, num_outputs)\n\u001b[1;32m     61\u001b[0m   \u001b[0;32mexcept\u001b[0m \u001b[0mcore\u001b[0m\u001b[0;34m.\u001b[0m\u001b[0m_NotOkStatusException\u001b[0m \u001b[0;32mas\u001b[0m \u001b[0me\u001b[0m\u001b[0;34m:\u001b[0m\u001b[0;34m\u001b[0m\u001b[0;34m\u001b[0m\u001b[0m\n",
      "\u001b[0;31mKeyboardInterrupt\u001b[0m: "
     ]
    }
   ],
   "source": [
    "train_single(10, pretrained=False)"
   ]
  },
  {
   "cell_type": "code",
   "execution_count": 3,
   "id": "65da9218",
   "metadata": {
    "scrolled": true
   },
   "outputs": [
    {
     "data": {
      "application/vnd.jupyter.widget-view+json": {
       "model_id": "",
       "version_major": 2,
       "version_minor": 0
      },
      "text/plain": [
       "Training:   0%|          | 0/438 [00:00<?, ?it/s]"
      ]
     },
     "metadata": {},
     "output_type": "display_data"
    },
    {
     "data": {
      "application/vnd.jupyter.widget-view+json": {
       "model_id": "",
       "version_major": 2,
       "version_minor": 0
      },
      "text/plain": [
       "Evaluating:   0%|          | 0/54 [00:00<?, ?it/s]"
      ]
     },
     "metadata": {},
     "output_type": "display_data"
    },
    {
     "name": "stdout",
     "output_type": "stream",
     "text": [
      "              precision    recall  f1-score   support\n",
      "\n",
      "         LOC     0.3871    0.7500    0.5106      1668\n",
      "        MISC     0.0000    0.0000    0.0000       702\n",
      "         ORG     0.2898    0.0494    0.0844      1661\n",
      "         PER     0.1206    0.2468    0.1620      1617\n",
      "\n",
      "   micro avg     0.2538    0.3067    0.2778      5648\n",
      "   macro avg     0.1994    0.2615    0.1893      5648\n",
      "weighted avg     0.2341    0.3067    0.2220      5648\n",
      "\n"
     ]
    },
    {
     "data": {
      "application/vnd.jupyter.widget-view+json": {
       "model_id": "",
       "version_major": 2,
       "version_minor": 0
      },
      "text/plain": [
       "Training:   0%|          | 0/438 [00:00<?, ?it/s]"
      ]
     },
     "metadata": {},
     "output_type": "display_data"
    },
    {
     "data": {
      "application/vnd.jupyter.widget-view+json": {
       "model_id": "",
       "version_major": 2,
       "version_minor": 0
      },
      "text/plain": [
       "Evaluating:   0%|          | 0/54 [00:00<?, ?it/s]"
      ]
     },
     "metadata": {},
     "output_type": "display_data"
    },
    {
     "name": "stdout",
     "output_type": "stream",
     "text": [
      "              precision    recall  f1-score   support\n",
      "\n",
      "         LOC     0.6077    0.7170    0.6579      1668\n",
      "        MISC     0.5391    0.4915    0.5142       702\n",
      "         ORG     0.3878    0.3817    0.3847      1661\n",
      "         PER     0.5506    0.7130    0.6214      1617\n",
      "\n",
      "   micro avg     0.5252    0.5892    0.5554      5648\n",
      "   macro avg     0.5213    0.5758    0.5445      5648\n",
      "weighted avg     0.5182    0.5892    0.5492      5648\n",
      "\n"
     ]
    },
    {
     "data": {
      "application/vnd.jupyter.widget-view+json": {
       "model_id": "",
       "version_major": 2,
       "version_minor": 0
      },
      "text/plain": [
       "Training:   0%|          | 0/438 [00:00<?, ?it/s]"
      ]
     },
     "metadata": {},
     "output_type": "display_data"
    },
    {
     "data": {
      "application/vnd.jupyter.widget-view+json": {
       "model_id": "",
       "version_major": 2,
       "version_minor": 0
      },
      "text/plain": [
       "Evaluating:   0%|          | 0/54 [00:00<?, ?it/s]"
      ]
     },
     "metadata": {},
     "output_type": "display_data"
    },
    {
     "name": "stdout",
     "output_type": "stream",
     "text": [
      "              precision    recall  f1-score   support\n",
      "\n",
      "         LOC     0.7109    0.7992    0.7525      1668\n",
      "        MISC     0.5060    0.5385    0.5217       702\n",
      "         ORG     0.5243    0.5394    0.5318      1661\n",
      "         PER     0.7376    0.8293    0.7808      1617\n",
      "\n",
      "   micro avg     0.6421    0.6990    0.6693      5648\n",
      "   macro avg     0.6197    0.6766    0.6467      5648\n",
      "weighted avg     0.6382    0.6990    0.6670      5648\n",
      "\n"
     ]
    },
    {
     "data": {
      "application/vnd.jupyter.widget-view+json": {
       "model_id": "",
       "version_major": 2,
       "version_minor": 0
      },
      "text/plain": [
       "Training:   0%|          | 0/438 [00:00<?, ?it/s]"
      ]
     },
     "metadata": {},
     "output_type": "display_data"
    },
    {
     "data": {
      "application/vnd.jupyter.widget-view+json": {
       "model_id": "",
       "version_major": 2,
       "version_minor": 0
      },
      "text/plain": [
       "Evaluating:   0%|          | 0/54 [00:00<?, ?it/s]"
      ]
     },
     "metadata": {},
     "output_type": "display_data"
    },
    {
     "name": "stdout",
     "output_type": "stream",
     "text": [
      "              precision    recall  f1-score   support\n",
      "\n",
      "         LOC     0.7953    0.8267    0.8107      1668\n",
      "        MISC     0.6373    0.6182    0.6276       702\n",
      "         ORG     0.6019    0.6135    0.6076      1661\n",
      "         PER     0.7657    0.8590    0.8097      1617\n",
      "\n",
      "   micro avg     0.7128    0.7473    0.7296      5648\n",
      "   macro avg     0.7000    0.7294    0.7139      5648\n",
      "weighted avg     0.7103    0.7473    0.7279      5648\n",
      "\n"
     ]
    },
    {
     "data": {
      "application/vnd.jupyter.widget-view+json": {
       "model_id": "",
       "version_major": 2,
       "version_minor": 0
      },
      "text/plain": [
       "Training:   0%|          | 0/438 [00:00<?, ?it/s]"
      ]
     },
     "metadata": {},
     "output_type": "display_data"
    },
    {
     "data": {
      "application/vnd.jupyter.widget-view+json": {
       "model_id": "",
       "version_major": 2,
       "version_minor": 0
      },
      "text/plain": [
       "Evaluating:   0%|          | 0/54 [00:00<?, ?it/s]"
      ]
     },
     "metadata": {},
     "output_type": "display_data"
    },
    {
     "name": "stdout",
     "output_type": "stream",
     "text": [
      "              precision    recall  f1-score   support\n",
      "\n",
      "         LOC     0.8129    0.8465    0.8294      1668\n",
      "        MISC     0.6410    0.6638    0.6522       702\n",
      "         ORG     0.6367    0.6478    0.6422      1661\n",
      "         PER     0.8108    0.8559    0.8327      1617\n",
      "\n",
      "   micro avg     0.7401    0.7681    0.7538      5648\n",
      "   macro avg     0.7253    0.7535    0.7391      5648\n",
      "weighted avg     0.7391    0.7681    0.7533      5648\n",
      "\n"
     ]
    },
    {
     "data": {
      "application/vnd.jupyter.widget-view+json": {
       "model_id": "",
       "version_major": 2,
       "version_minor": 0
      },
      "text/plain": [
       "Training:   0%|          | 0/438 [00:00<?, ?it/s]"
      ]
     },
     "metadata": {},
     "output_type": "display_data"
    },
    {
     "data": {
      "application/vnd.jupyter.widget-view+json": {
       "model_id": "",
       "version_major": 2,
       "version_minor": 0
      },
      "text/plain": [
       "Evaluating:   0%|          | 0/54 [00:00<?, ?it/s]"
      ]
     },
     "metadata": {},
     "output_type": "display_data"
    },
    {
     "name": "stdout",
     "output_type": "stream",
     "text": [
      "              precision    recall  f1-score   support\n",
      "\n",
      "         LOC     0.8126    0.8501    0.8309      1668\n",
      "        MISC     0.6633    0.6624    0.6629       702\n",
      "         ORG     0.6564    0.6556    0.6560      1661\n",
      "         PER     0.7968    0.8825    0.8374      1617\n",
      "\n",
      "   micro avg     0.7461    0.7789    0.7621      5648\n",
      "   macro avg     0.7323    0.7627    0.7468      5648\n",
      "weighted avg     0.7436    0.7789    0.7605      5648\n",
      "\n"
     ]
    },
    {
     "data": {
      "application/vnd.jupyter.widget-view+json": {
       "model_id": "",
       "version_major": 2,
       "version_minor": 0
      },
      "text/plain": [
       "Training:   0%|          | 0/438 [00:00<?, ?it/s]"
      ]
     },
     "metadata": {},
     "output_type": "display_data"
    },
    {
     "data": {
      "application/vnd.jupyter.widget-view+json": {
       "model_id": "",
       "version_major": 2,
       "version_minor": 0
      },
      "text/plain": [
       "Evaluating:   0%|          | 0/54 [00:00<?, ?it/s]"
      ]
     },
     "metadata": {},
     "output_type": "display_data"
    },
    {
     "name": "stdout",
     "output_type": "stream",
     "text": [
      "              precision    recall  f1-score   support\n",
      "\n",
      "         LOC     0.8060    0.8669    0.8354      1668\n",
      "        MISC     0.6331    0.6809    0.6561       702\n",
      "         ORG     0.6762    0.6713    0.6737      1661\n",
      "         PER     0.8211    0.8714    0.8455      1617\n",
      "\n",
      "   micro avg     0.7521    0.7875    0.7694      5648\n",
      "   macro avg     0.7341    0.7726    0.7527      5648\n",
      "weighted avg     0.7507    0.7875    0.7684      5648\n",
      "\n"
     ]
    },
    {
     "data": {
      "application/vnd.jupyter.widget-view+json": {
       "model_id": "",
       "version_major": 2,
       "version_minor": 0
      },
      "text/plain": [
       "Training:   0%|          | 0/438 [00:00<?, ?it/s]"
      ]
     },
     "metadata": {},
     "output_type": "display_data"
    },
    {
     "data": {
      "application/vnd.jupyter.widget-view+json": {
       "model_id": "",
       "version_major": 2,
       "version_minor": 0
      },
      "text/plain": [
       "Evaluating:   0%|          | 0/54 [00:00<?, ?it/s]"
      ]
     },
     "metadata": {},
     "output_type": "display_data"
    },
    {
     "name": "stdout",
     "output_type": "stream",
     "text": [
      "              precision    recall  f1-score   support\n",
      "\n",
      "         LOC     0.8296    0.8699    0.8493      1668\n",
      "        MISC     0.6685    0.6866    0.6774       702\n",
      "         ORG     0.6949    0.6827    0.6887      1661\n",
      "         PER     0.8251    0.8813    0.8523      1617\n",
      "\n",
      "   micro avg     0.7706    0.7953    0.7828      5648\n",
      "   macro avg     0.7545    0.7801    0.7669      5648\n",
      "weighted avg     0.7687    0.7953    0.7816      5648\n",
      "\n"
     ]
    },
    {
     "data": {
      "application/vnd.jupyter.widget-view+json": {
       "model_id": "",
       "version_major": 2,
       "version_minor": 0
      },
      "text/plain": [
       "Training:   0%|          | 0/438 [00:00<?, ?it/s]"
      ]
     },
     "metadata": {},
     "output_type": "display_data"
    },
    {
     "data": {
      "application/vnd.jupyter.widget-view+json": {
       "model_id": "",
       "version_major": 2,
       "version_minor": 0
      },
      "text/plain": [
       "Evaluating:   0%|          | 0/54 [00:00<?, ?it/s]"
      ]
     },
     "metadata": {},
     "output_type": "display_data"
    },
    {
     "name": "stdout",
     "output_type": "stream",
     "text": [
      "              precision    recall  f1-score   support\n",
      "\n",
      "         LOC     0.8195    0.8711    0.8445      1668\n",
      "        MISC     0.6534    0.6795    0.6662       702\n",
      "         ORG     0.6863    0.6954    0.6908      1661\n",
      "         PER     0.8432    0.8479    0.8455      1617\n",
      "\n",
      "   micro avg     0.7667    0.7890    0.7777      5648\n",
      "   macro avg     0.7506    0.7735    0.7618      5648\n",
      "weighted avg     0.7665    0.7890    0.7774      5648\n",
      "\n"
     ]
    },
    {
     "data": {
      "application/vnd.jupyter.widget-view+json": {
       "model_id": "",
       "version_major": 2,
       "version_minor": 0
      },
      "text/plain": [
       "Training:   0%|          | 0/438 [00:00<?, ?it/s]"
      ]
     },
     "metadata": {},
     "output_type": "display_data"
    },
    {
     "data": {
      "application/vnd.jupyter.widget-view+json": {
       "model_id": "",
       "version_major": 2,
       "version_minor": 0
      },
      "text/plain": [
       "Evaluating:   0%|          | 0/54 [00:00<?, ?it/s]"
      ]
     },
     "metadata": {},
     "output_type": "display_data"
    },
    {
     "name": "stdout",
     "output_type": "stream",
     "text": [
      "              precision    recall  f1-score   support\n",
      "\n",
      "         LOC     0.8201    0.8747    0.8465      1668\n",
      "        MISC     0.6499    0.6795    0.6643       702\n",
      "         ORG     0.6908    0.6899    0.6904      1661\n",
      "         PER     0.8256    0.8609    0.8429      1617\n",
      "\n",
      "   micro avg     0.7637    0.7921    0.7777      5648\n",
      "   macro avg     0.7466    0.7762    0.7610      5648\n",
      "weighted avg     0.7625    0.7921    0.7769      5648\n",
      "\n"
     ]
    },
    {
     "data": {
      "text/plain": [
       "<tensorflow.python.keras.engine.functional.Functional at 0x7f37c41e8ac0>"
      ]
     },
     "execution_count": 3,
     "metadata": {},
     "output_type": "execute_result"
    }
   ],
   "source": [
    "train_single(10)"
   ]
  }
 ],
 "metadata": {
  "kernelspec": {
   "display_name": "Python 3 (ipykernel)",
   "language": "python",
   "name": "python3"
  },
  "language_info": {
   "codemirror_mode": {
    "name": "ipython",
    "version": 3
   },
   "file_extension": ".py",
   "mimetype": "text/x-python",
   "name": "python",
   "nbconvert_exporter": "python",
   "pygments_lexer": "ipython3",
   "version": "3.8.10"
  }
 },
 "nbformat": 4,
 "nbformat_minor": 5
}
