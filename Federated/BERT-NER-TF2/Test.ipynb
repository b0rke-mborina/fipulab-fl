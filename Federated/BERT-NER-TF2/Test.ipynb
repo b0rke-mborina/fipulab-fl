{
 "cells": [
  {
   "cell_type": "code",
   "execution_count": 1,
   "id": "f34ce2e5",
   "metadata": {},
   "outputs": [],
   "source": [
    "DEVICES = \"CPU\" # Moguce vrijednosti: \"CPU\", \"GPU:0\", \"GPU:1\", \"GPUS\"\n",
    "import os\n",
    "import logging\n",
    "\n",
    "os.environ['TF_CPP_MIN_LOG_LEVEL'] = '3'\n",
    "logging.getLogger('tensorflow').setLevel(logging.FATAL)\n",
    "\n",
    "if DEVICES == 'CPU':\n",
    "    os.environ[\"CUDA_VISIBLE_DEVICES\"] = '-1'\n",
    "elif DEVICES == 'GPU:0':\n",
    "    os.environ[\"CUDA_VISIBLE_DEVICES\"] = '0'\n",
    "elif DEVICES == 'GPU:1':\n",
    "    os.environ[\"CUDA_VISIBLE_DEVICES\"] = '1'\n",
    "\n",
    "\n",
    "import tensorflow as tf\n",
    "\n",
    "from dataset.dataset_loader import NerProcessor, FewNERDProcessor, create_tf_dataset_for_client, split_to_tf_datasets, batch_features\n",
    "from utils.fl_utils import *\n",
    "from models.model import build_BertNer, MaskedSparseCategoricalCrossentropy\n",
    "from tokenization import FullTokenizer\n",
    "\n",
    "\n",
    "from tqdm.notebook import tqdm\n",
    "import json\n",
    "\n",
    "import numpy as np\n",
    "\n",
    "import nest_asyncio\n",
    "nest_asyncio.apply()\n",
    "\n",
    "import tensorflow_federated as tff\n",
    "\n",
    "if DEVICES == 'CPU':\n",
    "    cl_tf_devices = tf.config.list_logical_devices('CPU')\n",
    "elif DEVICES == 'GPUS':\n",
    "    cl_tf_devices = tf.config.list_logical_devices('GPU')\n",
    "else:\n",
    "    cl_tf_devices = tf.config.list_logical_devices('GPU')[:1]\n",
    "tff.backends.native.set_local_execution_context(\n",
    "    server_tf_device=tf.config.list_logical_devices('CPU')[0],\n",
    "    client_tf_devices=cl_tf_devices)\n",
    "\n",
    "\n",
    "# Pretrained models\n",
    "TINY = 'uncased_L-2_H-128_A-2'\n",
    "TINY_1 = 'uncased_L-4_H-128_A-2'\n",
    "TINY_2 = 'uncased_L-6_H-128_A-2'\n",
    "TINY_12_128='uncased_L-12_H-128_A-2'\n",
    "TINY_8_128='uncased_L-8_H-128_A-2'\n",
    "MINI = 'uncased_L-4_H-256_A-4'\n",
    "SMALL = 'uncased_L-4_H-512_A-8'\n",
    "MEDIUM = 'uncased_L-8_H-512_A-8'\n",
    "BASE = 'uncased_L-12_H-768_A-12'\n",
    "\n",
    "\n",
    "MODEL = os.path.join(\"models\", TINY_12_128)\n",
    "SEQ_LEN = 128\n",
    "BATCH_SIZE = 32\n",
    "PRETRAINED = False\n",
    "\n",
    "\n",
    "processor = NerProcessor('dataset/conll')\n",
    "datas=\"conll\"\n",
    "# processor = FewNERDProcessor('dataset/few_nerd')\n",
    "# datas=\"few_nerd\"\n",
    "tokenizer = FullTokenizer(os.path.join(MODEL, \"vocab.txt\"), True)\n",
    "train_features = processor.get_train_as_features(SEQ_LEN, tokenizer)\n",
    "eval_features = processor.get_test_as_features(SEQ_LEN, tokenizer)\n",
    "\n",
    "# Name of file\n",
    "modelSize=\"\"\n",
    "pretr=\"\"\n",
    "# change dataset name in datas\n",
    "\n",
    "modelSize = {\n",
    "  'models/uncased_L-2_H-128_A-2': lambda: \"tiny\",\n",
    "  'models/uncased_L-12_H-128_A-2': lambda: \"tiny_12_128\",\n",
    "  'models/uncased_L-8_H-128_A-2': lambda: \"tiny_8_128\",\n",
    "    'models/uncased_L-4_H-128_A-2': lambda: 'tiny_1',\n",
    "    'models/uncased_L-6_H-128_A-2': lambda: 'tiny_2',\n",
    "  'models/uncased_L-4_H-256_A-4': lambda: \"mini\",\n",
    "  'models/uncased_L-4_H-512_A-8': lambda: \"small\",\n",
    "  'models/uncased_L-8_H-512_A-8': lambda: \"medium\",\n",
    "  'models/uncased_L-12_H-768_A-12': lambda: \"base\"\n",
    "}[MODEL]()\n",
    "\n",
    "if PRETRAINED == True:\n",
    "    pretr=\"pretrained\"\n",
    "elif PRETRAINED == False:\n",
    "    pretr=\"nontrained\"\n",
    "\n",
    "\n",
    "# Wrap a Keras model for use with TFF.\n",
    "def model_fn(m_name, num_labels, seq_len, input_spec):\n",
    "    model = build_BertNer(m_name, num_labels, seq_len)\n",
    "    return tff.learning.from_keras_model(\n",
    "        model,\n",
    "        input_spec=input_spec,\n",
    "        loss=MaskedSparseCategoricalCrossentropy()) # reduction=tf.keras.losses.Reduction.NONE))\n",
    "\n",
    "def eval_model(model, eval_data, do_print=True):\n",
    "    return evaluate(model, eval_data, \n",
    "                    processor.get_label_map(), \n",
    "                    processor.token_ind('O'), \n",
    "                    processor.token_ind('[SEP]'),\n",
    "                    processor.token_ind('[PAD]'), \n",
    "                    do_print=do_print)\n",
    "    \n",
    "eval_data_batched = batch_features(eval_features, processor.get_labels(), SEQ_LEN, tokenizer, batch_size=64)\n"
   ]
  },
  {
   "cell_type": "code",
   "execution_count": null,
   "id": "c1048028",
   "metadata": {
    "scrolled": true
   },
   "outputs": [
    {
     "name": "stdout",
     "output_type": "stream",
     "text": [
      "Round 1 Loss: 1.7330163 Examples: 1280\n",
      "Round 2 Loss: 2.5136364 Examples: 1280\n",
      "Round 3 Loss: 1.8139219 Examples: 1280\n",
      "Round 4 Loss: 2.393733 Examples: 1280\n",
      "Round 5 Loss: 1.4863982 Examples: 1280\n",
      "Round 6 Loss: 1.3764458 Examples: 1280\n",
      "Round 7 Loss: 1.2955384 Examples: 1280\n",
      "Round 8 Loss: 1.2382039 Examples: 1280\n",
      "Round 9 Loss: 1.4503593 Examples: 1280\n",
      "Round 10 Loss: 1.1993773 Examples: 1280\n"
     ]
    },
    {
     "data": {
      "application/vnd.jupyter.widget-view+json": {
       "model_id": "",
       "version_major": 2,
       "version_minor": 0
      },
      "text/plain": [
       "Evaluating:   0%|          | 0/54 [00:00<?, ?it/s]"
      ]
     },
     "metadata": {},
     "output_type": "display_data"
    },
    {
     "name": "stdout",
     "output_type": "stream",
     "text": [
      "              precision    recall  f1-score   support\n",
      "\n",
      "         LOC     0.0000    0.0000    0.0000      1668\n",
      "        MISC     0.0000    0.0000    0.0000       702\n",
      "         ORG     0.0000    0.0000    0.0000      1661\n",
      "         PER     0.0000    0.0000    0.0000      1617\n",
      "\n",
      "   micro avg     0.0000    0.0000    0.0000      5648\n",
      "   macro avg     0.0000    0.0000    0.0000      5648\n",
      "weighted avg     0.0000    0.0000    0.0000      5648\n",
      "\n",
      "Round 11 Loss: 1.4351972 Examples: 1280\n",
      "Round 12 Loss: 1.2894019 Examples: 1280\n",
      "Round 13 Loss: 1.219518 Examples: 1280\n",
      "Round 14 Loss: 1.140353 Examples: 1280\n",
      "Round 15 Loss: 1.2642585 Examples: 1280\n",
      "Round 16 Loss: 1.1855897 Examples: 1280\n",
      "Round 17 Loss: 1.27582 Examples: 1280\n",
      "Round 18 Loss: 1.3029983 Examples: 1280\n",
      "Round 19 Loss: 1.123728 Examples: 1280\n",
      "Round 20 Loss: 1.1636035 Examples: 1280\n"
     ]
    },
    {
     "data": {
      "application/vnd.jupyter.widget-view+json": {
       "model_id": "",
       "version_major": 2,
       "version_minor": 0
      },
      "text/plain": [
       "Evaluating:   0%|          | 0/54 [00:00<?, ?it/s]"
      ]
     },
     "metadata": {},
     "output_type": "display_data"
    },
    {
     "name": "stdout",
     "output_type": "stream",
     "text": [
      "              precision    recall  f1-score   support\n",
      "\n",
      "         LOC     0.0000    0.0000    0.0000      1668\n",
      "        MISC     0.0000    0.0000    0.0000       702\n",
      "         ORG     0.0000    0.0000    0.0000      1661\n",
      "         PER     0.0000    0.0000    0.0000      1617\n",
      "\n",
      "   micro avg     0.0000    0.0000    0.0000      5648\n",
      "   macro avg     0.0000    0.0000    0.0000      5648\n",
      "weighted avg     0.0000    0.0000    0.0000      5648\n",
      "\n",
      "Round 21 Loss: 1.1541559 Examples: 1280\n",
      "Round 22 Loss: 1.3145925 Examples: 1280\n",
      "Round 23 Loss: 1.1620369 Examples: 1280\n",
      "Round 24 Loss: 1.2610465 Examples: 1280\n",
      "Round 25 Loss: 1.2099259 Examples: 1280\n",
      "Round 26 Loss: 1.3500121 Examples: 1280\n",
      "Round 27 Loss: 1.2684891 Examples: 1280\n",
      "Round 28 Loss: 1.2069039 Examples: 1280\n",
      "Round 29 Loss: 1.2091788 Examples: 1280\n",
      "Round 30 Loss: 1.2826099 Examples: 1280\n"
     ]
    },
    {
     "data": {
      "application/vnd.jupyter.widget-view+json": {
       "model_id": "",
       "version_major": 2,
       "version_minor": 0
      },
      "text/plain": [
       "Evaluating:   0%|          | 0/54 [00:00<?, ?it/s]"
      ]
     },
     "metadata": {},
     "output_type": "display_data"
    },
    {
     "name": "stdout",
     "output_type": "stream",
     "text": [
      "              precision    recall  f1-score   support\n",
      "\n",
      "         LOC     0.0000    0.0000    0.0000      1668\n",
      "        MISC     0.0000    0.0000    0.0000       702\n",
      "         ORG     0.0000    0.0000    0.0000      1661\n",
      "         PER     0.0000    0.0000    0.0000      1617\n",
      "\n",
      "   micro avg     0.0000    0.0000    0.0000      5648\n",
      "   macro avg     0.0000    0.0000    0.0000      5648\n",
      "weighted avg     0.0000    0.0000    0.0000      5648\n",
      "\n",
      "Round 31 Loss: 1.262111 Examples: 1280\n",
      "Round 32 Loss: 1.1672173 Examples: 1280\n",
      "Round 33 Loss: 1.136556 Examples: 1280\n",
      "Round 34 Loss: 1.1747148 Examples: 1280\n",
      "Round 35 Loss: 1.2780795 Examples: 1280\n",
      "Round 36 Loss: 1.1326121 Examples: 1280\n",
      "Round 37 Loss: 1.3166935 Examples: 1280\n",
      "Round 38 Loss: 1.209274 Examples: 1280\n",
      "Round 39 Loss: 1.3073076 Examples: 1280\n",
      "Round 40 Loss: 1.2898622 Examples: 1280\n"
     ]
    },
    {
     "data": {
      "application/vnd.jupyter.widget-view+json": {
       "model_id": "",
       "version_major": 2,
       "version_minor": 0
      },
      "text/plain": [
       "Evaluating:   0%|          | 0/54 [00:00<?, ?it/s]"
      ]
     },
     "metadata": {},
     "output_type": "display_data"
    },
    {
     "name": "stdout",
     "output_type": "stream",
     "text": [
      "              precision    recall  f1-score   support\n",
      "\n",
      "         LOC     0.0000    0.0000    0.0000      1668\n",
      "        MISC     0.0000    0.0000    0.0000       702\n",
      "         ORG     0.0000    0.0000    0.0000      1661\n",
      "         PER     0.0000    0.0000    0.0000      1617\n",
      "\n",
      "   micro avg     0.0000    0.0000    0.0000      5648\n",
      "   macro avg     0.0000    0.0000    0.0000      5648\n",
      "weighted avg     0.0000    0.0000    0.0000      5648\n",
      "\n",
      "Round 41 Loss: 1.3910565 Examples: 1280\n",
      "Round 42 Loss: 1.2854319 Examples: 1280\n",
      "Round 43 Loss: 1.2861507 Examples: 1280\n",
      "Round 44 Loss: 1.3308364 Examples: 1280\n",
      "Round 45 Loss: 1.2715871 Examples: 1280\n",
      "Round 46 Loss: 1.2051274 Examples: 1280\n",
      "Round 47 Loss: 1.3324103 Examples: 1280\n",
      "Round 48 Loss: 1.3153284 Examples: 1280\n",
      "Round 49 Loss: 1.3017364 Examples: 1280\n",
      "Round 50 Loss: 1.2041266 Examples: 1280\n"
     ]
    },
    {
     "data": {
      "application/vnd.jupyter.widget-view+json": {
       "model_id": "",
       "version_major": 2,
       "version_minor": 0
      },
      "text/plain": [
       "Evaluating:   0%|          | 0/54 [00:00<?, ?it/s]"
      ]
     },
     "metadata": {},
     "output_type": "display_data"
    },
    {
     "name": "stdout",
     "output_type": "stream",
     "text": [
      "              precision    recall  f1-score   support\n",
      "\n",
      "         LOC     0.0000    0.0000    0.0000      1668\n",
      "        MISC     0.0000    0.0000    0.0000       702\n",
      "         ORG     0.0000    0.0000    0.0000      1661\n",
      "         PER     0.0000    0.0000    0.0000      1617\n",
      "\n",
      "   micro avg     0.0000    0.0000    0.0000      5648\n",
      "   macro avg     0.0000    0.0000    0.0000      5648\n",
      "weighted avg     0.0000    0.0000    0.0000      5648\n",
      "\n",
      "Round 51 Loss: 1.2685851 Examples: 1280\n",
      "Round 52 Loss: 1.2729465 Examples: 1280\n",
      "Round 53 Loss: 1.3353341 Examples: 1280\n",
      "Round 54 Loss: 1.1963966 Examples: 1280\n",
      "Round 55 Loss: 1.1747812 Examples: 1280\n",
      "Round 56 Loss: 1.1727755 Examples: 1280\n",
      "Round 57 Loss: 1.19388 Examples: 1280\n",
      "Round 58 Loss: 1.1571132 Examples: 1280\n",
      "Round 59 Loss: 1.282566 Examples: 1280\n",
      "Round 60 Loss: 1.2539191 Examples: 1280\n"
     ]
    },
    {
     "data": {
      "application/vnd.jupyter.widget-view+json": {
       "model_id": "",
       "version_major": 2,
       "version_minor": 0
      },
      "text/plain": [
       "Evaluating:   0%|          | 0/54 [00:00<?, ?it/s]"
      ]
     },
     "metadata": {},
     "output_type": "display_data"
    },
    {
     "name": "stdout",
     "output_type": "stream",
     "text": [
      "              precision    recall  f1-score   support\n",
      "\n",
      "         LOC     0.0000    0.0000    0.0000      1668\n",
      "        MISC     0.0000    0.0000    0.0000       702\n",
      "         ORG     0.0000    0.0000    0.0000      1661\n",
      "         PER     0.0000    0.0000    0.0000      1617\n",
      "\n",
      "   micro avg     0.0000    0.0000    0.0000      5648\n",
      "   macro avg     0.0000    0.0000    0.0000      5648\n",
      "weighted avg     0.0000    0.0000    0.0000      5648\n",
      "\n",
      "Round 61 Loss: 1.084892 Examples: 1280\n",
      "Round 62 Loss: 1.3039508 Examples: 1280\n",
      "Round 63 Loss: 1.2598542 Examples: 1280\n",
      "Round 64 Loss: 1.2631751 Examples: 1280\n",
      "Round 65 Loss: 1.4347848 Examples: 1280\n",
      "Round 66 Loss: 1.1805799 Examples: 1280\n",
      "Round 67 Loss: 1.3524995 Examples: 1280\n",
      "Round 68 Loss: 1.1300783 Examples: 1280\n",
      "Round 69 Loss: 1.1592349 Examples: 1280\n",
      "Round 70 Loss: 1.3562458 Examples: 1280\n"
     ]
    },
    {
     "data": {
      "application/vnd.jupyter.widget-view+json": {
       "model_id": "",
       "version_major": 2,
       "version_minor": 0
      },
      "text/plain": [
       "Evaluating:   0%|          | 0/54 [00:00<?, ?it/s]"
      ]
     },
     "metadata": {},
     "output_type": "display_data"
    },
    {
     "name": "stdout",
     "output_type": "stream",
     "text": [
      "              precision    recall  f1-score   support\n",
      "\n",
      "         LOC     0.0000    0.0000    0.0000      1668\n",
      "        MISC     0.0000    0.0000    0.0000       702\n",
      "         ORG     0.0000    0.0000    0.0000      1661\n",
      "         PER     0.0000    0.0000    0.0000      1617\n",
      "\n",
      "   micro avg     0.0000    0.0000    0.0000      5648\n",
      "   macro avg     0.0000    0.0000    0.0000      5648\n",
      "weighted avg     0.0000    0.0000    0.0000      5648\n",
      "\n",
      "Round 71 Loss: 1.3360997 Examples: 1280\n",
      "Round 72 Loss: 1.355273 Examples: 1280\n",
      "Round 73 Loss: 1.3739831 Examples: 1280\n",
      "Round 74 Loss: 1.2645142 Examples: 1280\n",
      "Round 75 Loss: 1.315488 Examples: 1280\n",
      "Round 76 Loss: 1.2204581 Examples: 1280\n",
      "Round 77 Loss: 1.228515 Examples: 1280\n",
      "Round 78 Loss: 1.2309813 Examples: 1280\n",
      "Round 79 Loss: 1.2360346 Examples: 1280\n",
      "Round 80 Loss: 1.3160307 Examples: 1280\n"
     ]
    },
    {
     "data": {
      "application/vnd.jupyter.widget-view+json": {
       "model_id": "",
       "version_major": 2,
       "version_minor": 0
      },
      "text/plain": [
       "Evaluating:   0%|          | 0/54 [00:00<?, ?it/s]"
      ]
     },
     "metadata": {},
     "output_type": "display_data"
    },
    {
     "name": "stdout",
     "output_type": "stream",
     "text": [
      "              precision    recall  f1-score   support\n",
      "\n",
      "         LOC     0.0000    0.0000    0.0000      1668\n",
      "        MISC     0.0000    0.0000    0.0000       702\n",
      "         ORG     0.0000    0.0000    0.0000      1661\n",
      "         PER     0.0000    0.0000    0.0000      1617\n",
      "\n",
      "   micro avg     0.0000    0.0000    0.0000      5648\n",
      "   macro avg     0.0000    0.0000    0.0000      5648\n",
      "weighted avg     0.0000    0.0000    0.0000      5648\n",
      "\n",
      "Round 81 Loss: 1.2978802 Examples: 1280\n",
      "Round 82 Loss: 1.2044235 Examples: 1280\n",
      "Round 83 Loss: 1.1543273 Examples: 1280\n",
      "Round 84 Loss: 1.2061025 Examples: 1280\n",
      "Round 85 Loss: 1.1389987 Examples: 1280\n",
      "Round 86 Loss: 1.2770851 Examples: 1280\n",
      "Round 87 Loss: 1.2095273 Examples: 1280\n",
      "Round 88 Loss: 1.2802286 Examples: 1280\n",
      "Round 89 Loss: 1.1363966 Examples: 1280\n",
      "Round 90 Loss: 1.1496933 Examples: 1280\n"
     ]
    },
    {
     "data": {
      "application/vnd.jupyter.widget-view+json": {
       "model_id": "",
       "version_major": 2,
       "version_minor": 0
      },
      "text/plain": [
       "Evaluating:   0%|          | 0/54 [00:00<?, ?it/s]"
      ]
     },
     "metadata": {},
     "output_type": "display_data"
    },
    {
     "name": "stdout",
     "output_type": "stream",
     "text": [
      "              precision    recall  f1-score   support\n",
      "\n",
      "         LOC     0.0000    0.0000    0.0000      1668\n",
      "        MISC     0.0000    0.0000    0.0000       702\n",
      "         ORG     0.0000    0.0000    0.0000      1661\n",
      "         PER     0.0000    0.0000    0.0000      1617\n",
      "\n",
      "   micro avg     0.0000    0.0000    0.0000      5648\n",
      "   macro avg     0.0000    0.0000    0.0000      5648\n",
      "weighted avg     0.0000    0.0000    0.0000      5648\n",
      "\n",
      "Round 91 Loss: 1.3340536 Examples: 1280\n",
      "Round 92 Loss: 1.2804977 Examples: 1280\n",
      "Round 93 Loss: 1.248164 Examples: 1280\n",
      "Round 94 Loss: 1.3647583 Examples: 1280\n",
      "Round 95 Loss: 1.2643291 Examples: 1280\n",
      "Round 96 Loss: 1.2962857 Examples: 1280\n",
      "Round 97 Loss: 1.1975535 Examples: 1280\n",
      "Round 98 Loss: 1.2193238 Examples: 1280\n",
      "Round 99 Loss: 1.1213772 Examples: 1280\n",
      "Round 100 Loss: 1.2348686 Examples: 1280\n"
     ]
    },
    {
     "data": {
      "application/vnd.jupyter.widget-view+json": {
       "model_id": "",
       "version_major": 2,
       "version_minor": 0
      },
      "text/plain": [
       "Evaluating:   0%|          | 0/54 [00:00<?, ?it/s]"
      ]
     },
     "metadata": {},
     "output_type": "display_data"
    },
    {
     "name": "stdout",
     "output_type": "stream",
     "text": [
      "              precision    recall  f1-score   support\n",
      "\n",
      "         LOC     0.0000    0.0000    0.0000      1668\n",
      "        MISC     0.0000    0.0000    0.0000       702\n",
      "         ORG     0.0000    0.0000    0.0000      1661\n",
      "         PER     0.0000    0.0000    0.0000      1617\n",
      "\n",
      "   micro avg     0.0000    0.0000    0.0000      5648\n",
      "   macro avg     0.0000    0.0000    0.0000      5648\n",
      "weighted avg     0.0000    0.0000    0.0000      5648\n",
      "\n",
      "Round 101 Loss: 1.3185399 Examples: 1280\n",
      "Round 102 Loss: 1.1966476 Examples: 1280\n",
      "Round 103 Loss: 1.254972 Examples: 1280\n",
      "Round 104 Loss: 1.1561148 Examples: 1280\n",
      "Round 105 Loss: 1.1921647 Examples: 1280\n",
      "Round 106 Loss: 1.2045768 Examples: 1280\n",
      "Round 107 Loss: 1.3364624 Examples: 1280\n",
      "Round 108 Loss: 1.2738864 Examples: 1280\n",
      "Round 109 Loss: 1.1791556 Examples: 1280\n",
      "Round 110 Loss: 1.2501457 Examples: 1280\n"
     ]
    },
    {
     "data": {
      "application/vnd.jupyter.widget-view+json": {
       "model_id": "",
       "version_major": 2,
       "version_minor": 0
      },
      "text/plain": [
       "Evaluating:   0%|          | 0/54 [00:00<?, ?it/s]"
      ]
     },
     "metadata": {},
     "output_type": "display_data"
    },
    {
     "name": "stdout",
     "output_type": "stream",
     "text": [
      "              precision    recall  f1-score   support\n",
      "\n",
      "         LOC     0.0000    0.0000    0.0000      1668\n",
      "        MISC     0.0000    0.0000    0.0000       702\n",
      "         ORG     0.0000    0.0000    0.0000      1661\n",
      "         PER     0.0000    0.0000    0.0000      1617\n",
      "\n",
      "   micro avg     0.0000    0.0000    0.0000      5648\n",
      "   macro avg     0.0000    0.0000    0.0000      5648\n",
      "weighted avg     0.0000    0.0000    0.0000      5648\n",
      "\n",
      "Round 111 Loss: 1.3703678 Examples: 1280\n",
      "Round 112 Loss: 1.1581348 Examples: 1280\n",
      "Round 113 Loss: 1.0964321 Examples: 1280\n",
      "Round 114 Loss: 1.1980441 Examples: 1280\n",
      "Round 115 Loss: 1.2489935 Examples: 1280\n",
      "Round 116 Loss: 1.2069902 Examples: 1280\n",
      "Round 117 Loss: 1.2015717 Examples: 1280\n",
      "Round 118 Loss: 1.2555146 Examples: 1280\n",
      "Round 119 Loss: 1.1149869 Examples: 1280\n",
      "Round 120 Loss: 1.2101705 Examples: 1280\n"
     ]
    },
    {
     "data": {
      "application/vnd.jupyter.widget-view+json": {
       "model_id": "",
       "version_major": 2,
       "version_minor": 0
      },
      "text/plain": [
       "Evaluating:   0%|          | 0/54 [00:00<?, ?it/s]"
      ]
     },
     "metadata": {},
     "output_type": "display_data"
    },
    {
     "name": "stdout",
     "output_type": "stream",
     "text": [
      "              precision    recall  f1-score   support\n",
      "\n",
      "         LOC     0.0000    0.0000    0.0000      1668\n",
      "        MISC     0.0000    0.0000    0.0000       702\n",
      "         ORG     0.0000    0.0000    0.0000      1661\n",
      "         PER     0.0000    0.0000    0.0000      1617\n",
      "\n",
      "   micro avg     0.0000    0.0000    0.0000      5648\n",
      "   macro avg     0.0000    0.0000    0.0000      5648\n",
      "weighted avg     0.0000    0.0000    0.0000      5648\n",
      "\n",
      "Round 121 Loss: 1.3017219 Examples: 1280\n",
      "Round 122 Loss: 1.2518464 Examples: 1280\n",
      "Round 123 Loss: 1.0611212 Examples: 1280\n",
      "Round 124 Loss: 1.286798 Examples: 1280\n",
      "Round 125 Loss: 1.1985056 Examples: 1280\n",
      "Round 126 Loss: 1.1270322 Examples: 1280\n",
      "Round 127 Loss: 1.1755575 Examples: 1280\n",
      "Round 128 Loss: 1.1350667 Examples: 1280\n",
      "Round 129 Loss: 1.3634192 Examples: 1280\n",
      "Round 130 Loss: 1.3674731 Examples: 1280\n"
     ]
    },
    {
     "data": {
      "application/vnd.jupyter.widget-view+json": {
       "model_id": "",
       "version_major": 2,
       "version_minor": 0
      },
      "text/plain": [
       "Evaluating:   0%|          | 0/54 [00:00<?, ?it/s]"
      ]
     },
     "metadata": {},
     "output_type": "display_data"
    },
    {
     "name": "stdout",
     "output_type": "stream",
     "text": [
      "              precision    recall  f1-score   support\n",
      "\n",
      "         LOC     0.0000    0.0000    0.0000      1668\n",
      "        MISC     0.0000    0.0000    0.0000       702\n",
      "         ORG     0.0000    0.0000    0.0000      1661\n",
      "         PER     0.0000    0.0000    0.0000      1617\n",
      "\n",
      "   micro avg     0.0000    0.0000    0.0000      5648\n",
      "   macro avg     0.0000    0.0000    0.0000      5648\n",
      "weighted avg     0.0000    0.0000    0.0000      5648\n",
      "\n",
      "Round 131 Loss: 1.2921798 Examples: 1280\n",
      "Round 132 Loss: 1.1783385 Examples: 1280\n",
      "Round 133 Loss: 1.172753 Examples: 1280\n",
      "Round 134 Loss: 1.2645515 Examples: 1280\n",
      "Round 135 Loss: 1.277893 Examples: 1280\n",
      "Round 136 Loss: 1.1472983 Examples: 1280\n",
      "Round 137 Loss: 1.2720268 Examples: 1280\n",
      "Round 138 Loss: 1.2242353 Examples: 1280\n",
      "Round 139 Loss: 1.302057 Examples: 1280\n",
      "Round 140 Loss: 1.052561 Examples: 1280\n"
     ]
    },
    {
     "data": {
      "application/vnd.jupyter.widget-view+json": {
       "model_id": "",
       "version_major": 2,
       "version_minor": 0
      },
      "text/plain": [
       "Evaluating:   0%|          | 0/54 [00:00<?, ?it/s]"
      ]
     },
     "metadata": {},
     "output_type": "display_data"
    },
    {
     "name": "stdout",
     "output_type": "stream",
     "text": [
      "              precision    recall  f1-score   support\n",
      "\n",
      "         LOC     0.0000    0.0000    0.0000      1668\n",
      "        MISC     0.0000    0.0000    0.0000       702\n",
      "         ORG     0.0000    0.0000    0.0000      1661\n",
      "         PER     0.0000    0.0000    0.0000      1617\n",
      "\n",
      "   micro avg     0.0000    0.0000    0.0000      5648\n",
      "   macro avg     0.0000    0.0000    0.0000      5648\n",
      "weighted avg     0.0000    0.0000    0.0000      5648\n",
      "\n"
     ]
    }
   ],
   "source": [
    "num_clients, num_train_clients = 100, 10\n",
    "assert num_clients >= num_train_clients\n",
    "\n",
    "dataset_list = split_to_tf_datasets(train_features, num_clients, batch_size=BATCH_SIZE)\n",
    "trainer = tff.learning.build_federated_averaging_process(\n",
    "    model_fn=lambda: model_fn(MODEL, processor.label_len(), SEQ_LEN, dataset_list[0].element_spec),\n",
    "    client_optimizer_fn=lambda: tf.keras.optimizers.Adam(5e-3),\n",
    "    server_optimizer_fn=lambda: tf.keras.optimizers.Adam(5e-3),\n",
    "    use_experimental_simulation_loop=True\n",
    ")\n",
    "\n",
    "state = trainer.initialize()\n",
    "if PRETRAINED:\n",
    "    state = state_from_checkpoint(state, build_BertNer(MODEL, processor.label_len(), SEQ_LEN), MODEL)\n",
    "\n",
    "res_list=[]\n",
    "examples = 0\n",
    "for rnd_ind in range(1, 501):\n",
    "    train_data = list(np.random.choice(dataset_list, num_train_clients, replace=False))\n",
    "    state, metrics = trainer.next(state, train_data)\n",
    "    print(\"Round\", rnd_ind, \"Loss:\", metrics['train']['loss'], \"Examples:\", metrics['stat']['num_examples'])\n",
    "    examples = metrics['stat']['num_examples']\n",
    "    \n",
    "    # Ne treba svaku rundu gledati tocnost, moze svakih 10 (jedna epoha kumulativno)\n",
    "    if rnd_ind % num_train_clients == 0:\n",
    "        \n",
    "        model = build_BertNer(MODEL, processor.label_len(), SEQ_LEN)\n",
    "        state_model = state_to_model(state, model)\n",
    "        res = eval_model(state_model, eval_data_batched, do_print=True)\n",
    "        \n",
    "        res['Round'] = rnd_ind\n",
    "        res['Examples'] = examples\n",
    "        res_list.append(res)\n",
    "\n",
    "class NpEncoder(json.JSONEncoder):\n",
    "    def default(self, obj):\n",
    "        if isinstance(obj, np.integer):\n",
    "            return int(obj)\n",
    "        if isinstance(obj, np.floating):\n",
    "            return float(obj)\n",
    "        if isinstance(obj, np.ndarray):\n",
    "            return obj.tolist()\n",
    "        return super(NpEncoder, self).default(obj)\n",
    "\n",
    "with open(\"log/results-\"+modelSize+\"-\"+pretr+\"-\"+datas+\".json\", \"w\") as outfile:\n",
    "    json.dump({'results': res_list, 'model': MODEL, 'seq_len': SEQ_LEN, \n",
    "               'pretrained': PRETRAINED, 'batch_size': BATCH_SIZE}, outfile, indent=None, cls=NpEncoder)"
   ]
  }
 ],
 "metadata": {
  "kernelspec": {
   "display_name": "Python 3 (ipykernel)",
   "language": "python",
   "name": "python3"
  },
  "language_info": {
   "codemirror_mode": {
    "name": "ipython",
    "version": 3
   },
   "file_extension": ".py",
   "mimetype": "text/x-python",
   "name": "python",
   "nbconvert_exporter": "python",
   "pygments_lexer": "ipython3",
   "version": "3.8.10"
  }
 },
 "nbformat": 4,
 "nbformat_minor": 5
}
