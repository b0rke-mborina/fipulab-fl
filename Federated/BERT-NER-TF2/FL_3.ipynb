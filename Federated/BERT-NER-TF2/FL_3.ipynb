{
 "cells": [
  {
   "cell_type": "code",
   "execution_count": 1,
   "id": "bd79e6eb",
   "metadata": {},
   "outputs": [],
   "source": [
    "DEVICES = \"CPU\" # Moguce vrijednosti: \"CPU\", \"GPU:0\", \"GPU:1\", \"GPUS\"\n",
    "import os\n",
    "import logging\n",
    "# os.environ['TF_CUDNN_DETERMINISTIC']='1'\n",
    "os.environ['TF_CPP_MIN_LOG_LEVEL'] = '3'\n",
    "\n",
    "logging.getLogger('tensorflow').setLevel(logging.FATAL)\n",
    "\n",
    "if DEVICES == 'CPU':\n",
    "    os.environ[\"CUDA_VISIBLE_DEVICES\"] = '-1'\n",
    "elif DEVICES == 'GPU:0':\n",
    "    os.environ[\"CUDA_VISIBLE_DEVICES\"] = '0'\n",
    "elif DEVICES == 'GPU:1':\n",
    "    os.environ[\"CUDA_VISIBLE_DEVICES\"] = '1'\n",
    "\n",
    "\n",
    "import tensorflow as tf\n",
    "\n",
    "from dataset.dataset_loader import NerProcessor, FewNERDProcessor, create_tf_dataset_for_client, split_to_tf_datasets, batch_features\n",
    "from utils.fl_utils import *\n",
    "from models.model import build_BertNer, MaskedSparseCategoricalCrossentropy\n",
    "from tokenization import FullTokenizer\n",
    "\n",
    "\n",
    "from tqdm.notebook import tqdm\n",
    "import json\n",
    "\n",
    "import numpy as np\n",
    "\n",
    "import nest_asyncio\n",
    "nest_asyncio.apply()\n",
    "\n",
    "import tensorflow_federated as tff\n",
    "\n",
    "if DEVICES == 'CPU':\n",
    "    cl_tf_devices = tf.config.list_logical_devices('CPU')\n",
    "elif DEVICES == 'GPUS':\n",
    "    cl_tf_devices = tf.config.list_logical_devices('GPU')\n",
    "else:\n",
    "    cl_tf_devices = tf.config.list_logical_devices('GPU')[:1]\n",
    "tff.backends.native.set_local_execution_context(\n",
    "    server_tf_device=tf.config.list_logical_devices('CPU')[0],\n",
    "    client_tf_devices=cl_tf_devices)\n",
    "\n",
    "\n",
    "# Pretrained models\n",
    "TINY = 'uncased_L-2_H-128_A-2'\n",
    "TINY_12_128='uncased_L-12_H-128_A-2'\n",
    "TINY_8_128='uncased_L-8_H-128_A-2'\n",
    "TINY_6_128 ='uncased_L-6_H-128_A-2'\n",
    "TINY_4_128='uncased_L-4_H-128_A-2'\n",
    "TINY_2_512 ='uncased_L-2_H-512_A-8'\n",
    "TINY_2_256='uncased_L-2_H-256_A-4'\n",
    "MINI = 'uncased_L-4_H-256_A-4'\n",
    "SMALL = 'uncased_L-4_H-512_A-8'\n",
    "MEDIUM = 'uncased_L-8_H-512_A-8'\n",
    "BASE = 'uncased_L-12_H-768_A-12'\n",
    "\n",
    "\n",
    "MODEL = os.path.join(\"models\", TINY_2_256)\n",
    "SEQ_LEN = 128\n",
    "BATCH_SIZE = 32\n",
    "PRETRAINED = True\n",
    "\n",
    "\n",
    "processor = NerProcessor('dataset/conll')\n",
    "datas=\"conll\"\n",
    "# processor = FewNERDProcessor('dataset/few_nerd')\n",
    "# datas=\"few_nerd\"\n",
    "tokenizer = FullTokenizer(os.path.join(MODEL, \"vocab.txt\"), True)\n",
    "train_features = processor.get_train_as_features(SEQ_LEN, tokenizer)\n",
    "eval_features = processor.get_test_as_features(SEQ_LEN, tokenizer)\n",
    "\n",
    "# Name of file\n",
    "modelSize=\"\"\n",
    "pretr=\"\"\n",
    "# change dataset name in datas\n",
    "\n",
    "modelSize = {\n",
    "  'models/uncased_L-2_H-128_A-2': lambda: \"tiny\",\n",
    "  'models/uncased_L-12_H-128_A-2': lambda: \"tiny_12_128\",\n",
    "  'models/uncased_L-8_H-128_A-2': lambda: \"tiny_8_128\",\n",
    "  'models/uncased_L-6_H-128_A-2': lambda: \"tiny_6_128\",\n",
    "  'models/uncased_L-2_H-512_A-8': lambda: \"tiny_2_512\",\n",
    "  'models/uncased_L-4_H-128_A-2': lambda: \"tiny_4_128\",\n",
    "  'models/uncased_L-2_H-256_A-4': lambda: \"tiny_2_256\",\n",
    "  'models/uncased_L-4_H-256_A-4': lambda: \"mini\",\n",
    "  'models/uncased_L-4_H-512_A-8': lambda: \"small\",\n",
    "  'models/uncased_L-8_H-512_A-8': lambda: \"medium\",\n",
    "  'models/uncased_L-12_H-768_A-12': lambda: \"base\"\n",
    "}[MODEL]()\n",
    "\n",
    "if PRETRAINED == True:\n",
    "    pretr=\"pretrained\"\n",
    "elif PRETRAINED == False:\n",
    "    pretr=\"nontrained\"\n",
    "\n",
    "\n",
    "# Wrap a Keras model for use with TFF.\n",
    "def model_fn(m_name, num_labels, seq_len, input_spec):\n",
    "    model = build_BertNer(m_name, num_labels, seq_len)\n",
    "    return tff.learning.from_keras_model(\n",
    "        model,\n",
    "        input_spec=input_spec,\n",
    "        loss=MaskedSparseCategoricalCrossentropy()) # reduction=tf.keras.losses.Reduction.NONE))\n",
    "\n",
    "def eval_model(model, eval_data, do_print=True):\n",
    "    return evaluate(model, eval_data, \n",
    "                    processor.get_label_map(), \n",
    "                    processor.token_ind('O'), \n",
    "                    processor.token_ind('[SEP]'),\n",
    "                    processor.token_ind('[PAD]'), \n",
    "                    do_print=do_print)\n",
    "    \n",
    "# eval_features = eval_features[:5_000] # Samo prvih par tisuca za testiranje, maknuti za konačne ekperimente\n",
    "eval_data_batched = batch_features(eval_features, processor.get_labels(), SEQ_LEN, tokenizer, batch_size=64)\n"
   ]
  },
  {
   "cell_type": "code",
   "execution_count": null,
   "id": "5f5ab5d1",
   "metadata": {
    "scrolled": true
   },
   "outputs": [
    {
     "name": "stdout",
     "output_type": "stream",
     "text": [
      "Round 1 Loss: 1.4996082 Examples: 1280\n",
      "Round 2 Loss: 1.3307077 Examples: 1280\n",
      "Round 3 Loss: 1.4353948 Examples: 1280\n",
      "Round 4 Loss: 1.32332 Examples: 1280\n",
      "Round 5 Loss: 1.5651673 Examples: 1280\n",
      "Round 6 Loss: 0.89397067 Examples: 1280\n",
      "Round 7 Loss: 1.0466458 Examples: 1280\n",
      "Round 8 Loss: 1.0913349 Examples: 1280\n",
      "Round 9 Loss: 0.84545964 Examples: 1280\n",
      "Round 10 Loss: 0.9638852 Examples: 1280\n"
     ]
    },
    {
     "data": {
      "application/vnd.jupyter.widget-view+json": {
       "model_id": "",
       "version_major": 2,
       "version_minor": 0
      },
      "text/plain": [
       "Evaluating:   0%|          | 0/54 [00:00<?, ?it/s]"
      ]
     },
     "metadata": {},
     "output_type": "display_data"
    },
    {
     "name": "stdout",
     "output_type": "stream",
     "text": [
      "              precision    recall  f1-score   support\n",
      "\n",
      "         LOC     0.0000    0.0000    0.0000      1668\n",
      "        MISC     0.0000    0.0000    0.0000       702\n",
      "         ORG     0.0000    0.0000    0.0000      1661\n",
      "         PER     0.0000    0.0000    0.0000      1617\n",
      "\n",
      "   micro avg     0.0000    0.0000    0.0000      5648\n",
      "   macro avg     0.0000    0.0000    0.0000      5648\n",
      "weighted avg     0.0000    0.0000    0.0000      5648\n",
      "\n",
      "Round 11 Loss: 0.69882107 Examples: 1280\n",
      "Round 12 Loss: 0.58944976 Examples: 1280\n",
      "Round 13 Loss: 0.6927341 Examples: 1280\n",
      "Round 14 Loss: 0.5727343 Examples: 1280\n",
      "Round 15 Loss: 0.59565437 Examples: 1280\n",
      "Round 16 Loss: 0.5095479 Examples: 1280\n",
      "Round 17 Loss: 0.56617284 Examples: 1280\n",
      "Round 18 Loss: 0.5243091 Examples: 1280\n",
      "Round 19 Loss: 0.54258883 Examples: 1280\n",
      "Round 20 Loss: 0.5028513 Examples: 1280\n"
     ]
    },
    {
     "data": {
      "application/vnd.jupyter.widget-view+json": {
       "model_id": "",
       "version_major": 2,
       "version_minor": 0
      },
      "text/plain": [
       "Evaluating:   0%|          | 0/54 [00:00<?, ?it/s]"
      ]
     },
     "metadata": {},
     "output_type": "display_data"
    },
    {
     "name": "stdout",
     "output_type": "stream",
     "text": [
      "              precision    recall  f1-score   support\n",
      "\n",
      "         LOC     0.1983    0.8082    0.3184      1668\n",
      "        MISC     0.0000    0.0000    0.0000       702\n",
      "         ORG     0.0000    0.0000    0.0000      1661\n",
      "         PER     0.0000    0.0000    0.0000      1617\n",
      "\n",
      "   micro avg     0.1983    0.2387    0.2166      5648\n",
      "   macro avg     0.0496    0.2020    0.0796      5648\n",
      "weighted avg     0.0586    0.2387    0.0940      5648\n",
      "\n",
      "Round 21 Loss: 0.46145573 Examples: 1280\n",
      "Round 22 Loss: 0.53074324 Examples: 1280\n",
      "Round 23 Loss: 0.48726448 Examples: 1280\n",
      "Round 24 Loss: 0.5203672 Examples: 1280\n",
      "Round 25 Loss: 0.51090986 Examples: 1280\n",
      "Round 26 Loss: 0.52095044 Examples: 1280\n",
      "Round 27 Loss: 0.5098441 Examples: 1280\n",
      "Round 28 Loss: 0.5536489 Examples: 1280\n",
      "Round 29 Loss: 0.44435087 Examples: 1280\n",
      "Round 30 Loss: 0.48449057 Examples: 1280\n"
     ]
    },
    {
     "data": {
      "application/vnd.jupyter.widget-view+json": {
       "model_id": "",
       "version_major": 2,
       "version_minor": 0
      },
      "text/plain": [
       "Evaluating:   0%|          | 0/54 [00:00<?, ?it/s]"
      ]
     },
     "metadata": {},
     "output_type": "display_data"
    },
    {
     "name": "stdout",
     "output_type": "stream",
     "text": [
      "              precision    recall  f1-score   support\n",
      "\n",
      "         LOC     0.3352    0.7458    0.4625      1668\n",
      "        MISC     0.0000    0.0000    0.0000       702\n",
      "         ORG     0.4839    0.0542    0.0975      1661\n",
      "         PER     0.0960    0.2047    0.1307      1617\n",
      "\n",
      "   micro avg     0.2267    0.2948    0.2563      5648\n",
      "   macro avg     0.2288    0.2512    0.1727      5648\n",
      "weighted avg     0.2688    0.2948    0.2027      5648\n",
      "\n",
      "Round 31 Loss: 0.45266733 Examples: 1280\n",
      "Round 32 Loss: 0.44001135 Examples: 1280\n",
      "Round 33 Loss: 0.5300107 Examples: 1280\n",
      "Round 34 Loss: 0.42653495 Examples: 1280\n",
      "Round 35 Loss: 0.5099265 Examples: 1280\n",
      "Round 36 Loss: 0.45687732 Examples: 1280\n",
      "Round 37 Loss: 0.4717235 Examples: 1280\n",
      "Round 38 Loss: 0.47429806 Examples: 1280\n",
      "Round 39 Loss: 0.41024145 Examples: 1280\n",
      "Round 40 Loss: 0.40063757 Examples: 1280\n"
     ]
    },
    {
     "data": {
      "application/vnd.jupyter.widget-view+json": {
       "model_id": "",
       "version_major": 2,
       "version_minor": 0
      },
      "text/plain": [
       "Evaluating:   0%|          | 0/54 [00:00<?, ?it/s]"
      ]
     },
     "metadata": {},
     "output_type": "display_data"
    },
    {
     "name": "stdout",
     "output_type": "stream",
     "text": [
      "              precision    recall  f1-score   support\n",
      "\n",
      "         LOC     0.4890    0.7170    0.5814      1668\n",
      "        MISC     0.2991    0.1368    0.1877       702\n",
      "         ORG     0.5569    0.0825    0.1437      1661\n",
      "         PER     0.1054    0.2158    0.1416      1617\n",
      "\n",
      "   micro avg     0.2812    0.3148    0.2970      5648\n",
      "   macro avg     0.3626    0.2880    0.2636      5648\n",
      "weighted avg     0.3755    0.3148    0.2778      5648\n",
      "\n",
      "Round 41 Loss: 0.40963182 Examples: 1280\n",
      "Round 42 Loss: 0.45781937 Examples: 1280\n",
      "Round 43 Loss: 0.38792944 Examples: 1280\n",
      "Round 44 Loss: 0.38852265 Examples: 1280\n",
      "Round 45 Loss: 0.41692942 Examples: 1280\n",
      "Round 46 Loss: 0.40947485 Examples: 1280\n",
      "Round 47 Loss: 0.36167324 Examples: 1280\n",
      "Round 48 Loss: 0.41323358 Examples: 1280\n",
      "Round 49 Loss: 0.40225095 Examples: 1280\n",
      "Round 50 Loss: 0.39722538 Examples: 1280\n"
     ]
    },
    {
     "data": {
      "application/vnd.jupyter.widget-view+json": {
       "model_id": "",
       "version_major": 2,
       "version_minor": 0
      },
      "text/plain": [
       "Evaluating:   0%|          | 0/54 [00:00<?, ?it/s]"
      ]
     },
     "metadata": {},
     "output_type": "display_data"
    },
    {
     "name": "stdout",
     "output_type": "stream",
     "text": [
      "              precision    recall  f1-score   support\n",
      "\n",
      "         LOC     0.6017    0.6757    0.6365      1668\n",
      "        MISC     0.2972    0.4615    0.3616       702\n",
      "         ORG     0.4474    0.1818    0.2586      1661\n",
      "         PER     0.1124    0.2233    0.1495      1617\n",
      "\n",
      "   micro avg     0.3086    0.3743    0.3383      5648\n",
      "   macro avg     0.3647    0.3856    0.3516      5648\n",
      "weighted avg     0.3784    0.3743    0.3518      5648\n",
      "\n",
      "Round 51 Loss: 0.37695476 Examples: 1280\n",
      "Round 52 Loss: 0.35939303 Examples: 1280\n",
      "Round 53 Loss: 0.3894759 Examples: 1280\n",
      "Round 54 Loss: 0.40791196 Examples: 1280\n",
      "Round 55 Loss: 0.36914542 Examples: 1280\n",
      "Round 56 Loss: 0.33739296 Examples: 1280\n",
      "Round 57 Loss: 0.3622324 Examples: 1280\n",
      "Round 58 Loss: 0.37764674 Examples: 1280\n",
      "Round 59 Loss: 0.30062702 Examples: 1280\n",
      "Round 60 Loss: 0.33734626 Examples: 1280\n"
     ]
    },
    {
     "data": {
      "application/vnd.jupyter.widget-view+json": {
       "model_id": "",
       "version_major": 2,
       "version_minor": 0
      },
      "text/plain": [
       "Evaluating:   0%|          | 0/54 [00:00<?, ?it/s]"
      ]
     },
     "metadata": {},
     "output_type": "display_data"
    },
    {
     "name": "stdout",
     "output_type": "stream",
     "text": [
      "              precision    recall  f1-score   support\n",
      "\n",
      "         LOC     0.7062    0.6673    0.6862      1668\n",
      "        MISC     0.3641    0.5057    0.4234       702\n",
      "         ORG     0.3872    0.3739    0.3804      1661\n",
      "         PER     0.1146    0.1744    0.1383      1617\n",
      "\n",
      "   micro avg     0.3584    0.4198    0.3867      5648\n",
      "   macro avg     0.3930    0.4303    0.4071      5648\n",
      "weighted avg     0.4005    0.4198    0.4067      5648\n",
      "\n",
      "Round 61 Loss: 0.3502608 Examples: 1280\n",
      "Round 62 Loss: 0.34787083 Examples: 1280\n",
      "Round 63 Loss: 0.31114107 Examples: 1280\n",
      "Round 64 Loss: 0.36059734 Examples: 1280\n",
      "Round 65 Loss: 0.33991688 Examples: 1280\n",
      "Round 66 Loss: 0.32112038 Examples: 1280\n"
     ]
    }
   ],
   "source": [
    "num_clients, num_train_clients = 100, 10\n",
    "assert num_clients >= num_train_clients\n",
    "\n",
    "dataset_list = split_to_tf_datasets(train_features, num_clients, batch_size=BATCH_SIZE)\n",
    "trainer = tff.learning.build_federated_averaging_process(\n",
    "    model_fn=lambda: model_fn(MODEL, processor.label_len(), SEQ_LEN, dataset_list[0].element_spec),\n",
    "    client_optimizer_fn=lambda: tf.keras.optimizers.Adam(5e-3),\n",
    "    server_optimizer_fn=lambda: tf.keras.optimizers.Adam(5e-3),\n",
    "    use_experimental_simulation_loop=True\n",
    ")\n",
    "\n",
    "state = trainer.initialize()\n",
    "if PRETRAINED:\n",
    "    state = state_from_checkpoint(state, build_BertNer(MODEL, processor.label_len(), SEQ_LEN), MODEL)\n",
    "\n",
    "res_list=[]\n",
    "examples = 0\n",
    "for rnd_ind in range(1, 501):\n",
    "    train_data = list(np.random.choice(dataset_list, num_train_clients, replace=False))\n",
    "    state, metrics = trainer.next(state, train_data)\n",
    "    print(\"Round\", rnd_ind, \"Loss:\", metrics['train']['loss'], \"Examples:\", metrics['stat']['num_examples'])\n",
    "    examples = metrics['stat']['num_examples']\n",
    "    \n",
    "    # Ne treba svaku rundu gledati tocnost, moze svakih 10 (jedna epoha kumulativno)\n",
    "    if rnd_ind % num_train_clients == 0:\n",
    "        state_model = state_to_model(state, build_BertNer(MODEL, processor.label_len(), SEQ_LEN))\n",
    "        res = eval_model(state_model, eval_data_batched, do_print=True)\n",
    "        res['Round'] = rnd_ind\n",
    "        res['Examples'] = examples\n",
    "        res_list.append(res)\n",
    "\n",
    "class NpEncoder(json.JSONEncoder):\n",
    "    def default(self, obj):\n",
    "        if isinstance(obj, np.integer):\n",
    "            return int(obj)\n",
    "        if isinstance(obj, np.floating):\n",
    "            return float(obj)\n",
    "        if isinstance(obj, np.ndarray):\n",
    "            return obj.tolist()\n",
    "        return super(NpEncoder, self).default(obj)\n",
    "\n",
    "with open(\"log/results-\"+modelSize+\"-\"+pretr+\"-\"+datas+\".json\", \"w\") as outfile:\n",
    "    json.dump({'results': res_list, 'model': MODEL, 'seq_len': SEQ_LEN, \n",
    "               'pretrained': PRETRAINED, 'batch_size': BATCH_SIZE}, outfile, indent=None, cls=NpEncoder)"
   ]
  },
  {
   "cell_type": "code",
   "execution_count": null,
   "id": "bbd424bd",
   "metadata": {},
   "outputs": [],
   "source": []
  }
 ],
 "metadata": {
  "kernelspec": {
   "display_name": "Python 3 (ipykernel)",
   "language": "python",
   "name": "python3"
  },
  "language_info": {
   "codemirror_mode": {
    "name": "ipython",
    "version": 3
   },
   "file_extension": ".py",
   "mimetype": "text/x-python",
   "name": "python",
   "nbconvert_exporter": "python",
   "pygments_lexer": "ipython3",
   "version": "3.8.10"
  }
 },
 "nbformat": 4,
 "nbformat_minor": 5
}
