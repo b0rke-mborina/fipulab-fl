{
 "cells": [
  {
   "cell_type": "code",
   "execution_count": null,
   "id": "eb7a4a35",
   "metadata": {
    "scrolled": false
   },
   "outputs": [],
   "source": [
    "!git clone https://github.com/bhuvanakundumani/BERT-NER-TF2.git"
   ]
  },
  {
   "cell_type": "markdown",
   "id": "cbb333c1",
   "metadata": {},
   "source": [
    "#### Treniranje"
   ]
  },
  {
   "cell_type": "code",
   "execution_count": 2,
   "id": "8705e2de",
   "metadata": {
    "scrolled": true
   },
   "outputs": [
    {
     "name": "stdout",
     "output_type": "stream",
     "text": [
      "python: can't open file 'run_ner.py': [Errno 2] No such file or directory\r\n"
     ]
    }
   ],
   "source": [
    "!python run_ner.py --data_dir=data/ --bert_model=uncased_L-2_H-128_A-2 --output_dir=uncased_L-2_H-128_A-2_out --max_seq_length=128 --num_train_epochs 3 --do_train\n"
   ]
  },
  {
   "cell_type": "markdown",
   "id": "0028b0fa",
   "metadata": {},
   "source": [
    "### Evaluacija"
   ]
  },
  {
   "cell_type": "code",
   "execution_count": 5,
   "id": "4ae1eb22",
   "metadata": {
    "scrolled": true
   },
   "outputs": [
    {
     "name": "stdout",
     "output_type": "stream",
     "text": [
      "12/31/2021 14:15:32 - INFO - __main__ -   *** Example ***\n",
      "12/31/2021 14:15:32 - INFO - __main__ -   guid: test-0\n",
      "12/31/2021 14:15:32 - INFO - __main__ -   tokens: [UNK] - [UNK] [UNK] [UNK] [UNK] , [UNK] [UNK] [UNK] [UNK] .\n",
      "12/31/2021 14:15:32 - INFO - __main__ -   input_ids: 101 100 1011 100 100 100 100 1010 100 100 100 100 1012 102 0 0 0 0 0 0 0 0 0 0 0 0 0 0 0 0 0 0 0 0 0 0 0 0 0 0 0 0 0 0 0 0 0 0 0 0 0 0 0 0 0 0 0 0 0 0 0 0 0 0 0 0 0 0 0 0 0 0 0 0 0 0 0 0 0 0 0 0 0 0 0 0 0 0 0 0 0 0 0 0 0 0 0 0 0 0 0 0 0 0 0 0 0 0 0 0 0 0 0 0 0 0 0 0 0 0 0 0 0 0 0 0 0 0\n",
      "12/31/2021 14:15:32 - INFO - __main__ -   input_mask: 1 1 1 1 1 1 1 1 1 1 1 1 1 1 0 0 0 0 0 0 0 0 0 0 0 0 0 0 0 0 0 0 0 0 0 0 0 0 0 0 0 0 0 0 0 0 0 0 0 0 0 0 0 0 0 0 0 0 0 0 0 0 0 0 0 0 0 0 0 0 0 0 0 0 0 0 0 0 0 0 0 0 0 0 0 0 0 0 0 0 0 0 0 0 0 0 0 0 0 0 0 0 0 0 0 0 0 0 0 0 0 0 0 0 0 0 0 0 0 0 0 0 0 0 0 0 0 0\n",
      "12/31/2021 14:15:32 - INFO - __main__ -   segment_ids: 0 0 0 0 0 0 0 0 0 0 0 0 0 0 0 0 0 0 0 0 0 0 0 0 0 0 0 0 0 0 0 0 0 0 0 0 0 0 0 0 0 0 0 0 0 0 0 0 0 0 0 0 0 0 0 0 0 0 0 0 0 0 0 0 0 0 0 0 0 0 0 0 0 0 0 0 0 0 0 0 0 0 0 0 0 0 0 0 0 0 0 0 0 0 0 0 0 0 0 0 0 0 0 0 0 0 0 0 0 0 0 0 0 0 0 0 0 0 0 0 0 0 0 0 0 0 0 0\n",
      "12/31/2021 14:15:32 - INFO - __main__ -   *** Example ***\n",
      "12/31/2021 14:15:32 - INFO - __main__ -   guid: test-1\n",
      "12/31/2021 14:15:32 - INFO - __main__ -   tokens: [UNK] [UNK]\n",
      "12/31/2021 14:15:32 - INFO - __main__ -   input_ids: 101 100 100 102 0 0 0 0 0 0 0 0 0 0 0 0 0 0 0 0 0 0 0 0 0 0 0 0 0 0 0 0 0 0 0 0 0 0 0 0 0 0 0 0 0 0 0 0 0 0 0 0 0 0 0 0 0 0 0 0 0 0 0 0 0 0 0 0 0 0 0 0 0 0 0 0 0 0 0 0 0 0 0 0 0 0 0 0 0 0 0 0 0 0 0 0 0 0 0 0 0 0 0 0 0 0 0 0 0 0 0 0 0 0 0 0 0 0 0 0 0 0 0 0 0 0 0 0\n",
      "12/31/2021 14:15:32 - INFO - __main__ -   input_mask: 1 1 1 1 0 0 0 0 0 0 0 0 0 0 0 0 0 0 0 0 0 0 0 0 0 0 0 0 0 0 0 0 0 0 0 0 0 0 0 0 0 0 0 0 0 0 0 0 0 0 0 0 0 0 0 0 0 0 0 0 0 0 0 0 0 0 0 0 0 0 0 0 0 0 0 0 0 0 0 0 0 0 0 0 0 0 0 0 0 0 0 0 0 0 0 0 0 0 0 0 0 0 0 0 0 0 0 0 0 0 0 0 0 0 0 0 0 0 0 0 0 0 0 0 0 0 0 0\n",
      "12/31/2021 14:15:32 - INFO - __main__ -   segment_ids: 0 0 0 0 0 0 0 0 0 0 0 0 0 0 0 0 0 0 0 0 0 0 0 0 0 0 0 0 0 0 0 0 0 0 0 0 0 0 0 0 0 0 0 0 0 0 0 0 0 0 0 0 0 0 0 0 0 0 0 0 0 0 0 0 0 0 0 0 0 0 0 0 0 0 0 0 0 0 0 0 0 0 0 0 0 0 0 0 0 0 0 0 0 0 0 0 0 0 0 0 0 0 0 0 0 0 0 0 0 0 0 0 0 0 0 0 0 0 0 0 0 0 0 0 0 0 0 0\n",
      "12/31/2021 14:15:32 - INFO - __main__ -   *** Example ***\n",
      "12/31/2021 14:15:32 - INFO - __main__ -   guid: test-2\n",
      "12/31/2021 14:15:32 - INFO - __main__ -   tokens: [UNK] - [UNK] , [UNK] [UNK] [UNK] 1996 - 12 - 06\n",
      "12/31/2021 14:15:32 - INFO - __main__ -   input_ids: 101 100 1011 100 1010 100 100 100 2727 1011 2260 1011 5757 102 0 0 0 0 0 0 0 0 0 0 0 0 0 0 0 0 0 0 0 0 0 0 0 0 0 0 0 0 0 0 0 0 0 0 0 0 0 0 0 0 0 0 0 0 0 0 0 0 0 0 0 0 0 0 0 0 0 0 0 0 0 0 0 0 0 0 0 0 0 0 0 0 0 0 0 0 0 0 0 0 0 0 0 0 0 0 0 0 0 0 0 0 0 0 0 0 0 0 0 0 0 0 0 0 0 0 0 0 0 0 0 0 0 0\n",
      "12/31/2021 14:15:32 - INFO - __main__ -   input_mask: 1 1 1 1 1 1 1 1 1 1 1 1 1 1 0 0 0 0 0 0 0 0 0 0 0 0 0 0 0 0 0 0 0 0 0 0 0 0 0 0 0 0 0 0 0 0 0 0 0 0 0 0 0 0 0 0 0 0 0 0 0 0 0 0 0 0 0 0 0 0 0 0 0 0 0 0 0 0 0 0 0 0 0 0 0 0 0 0 0 0 0 0 0 0 0 0 0 0 0 0 0 0 0 0 0 0 0 0 0 0 0 0 0 0 0 0 0 0 0 0 0 0 0 0 0 0 0 0\n",
      "12/31/2021 14:15:32 - INFO - __main__ -   segment_ids: 0 0 0 0 0 0 0 0 0 0 0 0 0 0 0 0 0 0 0 0 0 0 0 0 0 0 0 0 0 0 0 0 0 0 0 0 0 0 0 0 0 0 0 0 0 0 0 0 0 0 0 0 0 0 0 0 0 0 0 0 0 0 0 0 0 0 0 0 0 0 0 0 0 0 0 0 0 0 0 0 0 0 0 0 0 0 0 0 0 0 0 0 0 0 0 0 0 0 0 0 0 0 0 0 0 0 0 0 0 0 0 0 0 0 0 0 0 0 0 0 0 0 0 0 0 0 0 0\n",
      "12/31/2021 14:15:32 - INFO - __main__ -   *** Example ***\n",
      "12/31/2021 14:15:32 - INFO - __main__ -   guid: test-3\n",
      "12/31/2021 14:15:32 - INFO - __main__ -   tokens: [UNK] began the defence of their [UNK] [UNK] title with a lucky 2 - 1 win against [UNK] in a [UNK] [UNK] championship match on [UNK] .\n",
      "12/31/2021 14:15:32 - INFO - __main__ -   input_ids: 101 100 2211 1996 4721 1997 2037 100 100 2516 2007 1037 5341 1016 1011 1015 2663 2114 100 1999 1037 100 100 2528 2674 2006 100 1012 102 0 0 0 0 0 0 0 0 0 0 0 0 0 0 0 0 0 0 0 0 0 0 0 0 0 0 0 0 0 0 0 0 0 0 0 0 0 0 0 0 0 0 0 0 0 0 0 0 0 0 0 0 0 0 0 0 0 0 0 0 0 0 0 0 0 0 0 0 0 0 0 0 0 0 0 0 0 0 0 0 0 0 0 0 0 0 0 0 0 0 0 0 0 0 0 0 0 0 0\n",
      "12/31/2021 14:15:32 - INFO - __main__ -   input_mask: 1 1 1 1 1 1 1 1 1 1 1 1 1 1 1 1 1 1 1 1 1 1 1 1 1 1 1 1 1 0 0 0 0 0 0 0 0 0 0 0 0 0 0 0 0 0 0 0 0 0 0 0 0 0 0 0 0 0 0 0 0 0 0 0 0 0 0 0 0 0 0 0 0 0 0 0 0 0 0 0 0 0 0 0 0 0 0 0 0 0 0 0 0 0 0 0 0 0 0 0 0 0 0 0 0 0 0 0 0 0 0 0 0 0 0 0 0 0 0 0 0 0 0 0 0 0 0 0\n",
      "12/31/2021 14:15:32 - INFO - __main__ -   segment_ids: 0 0 0 0 0 0 0 0 0 0 0 0 0 0 0 0 0 0 0 0 0 0 0 0 0 0 0 0 0 0 0 0 0 0 0 0 0 0 0 0 0 0 0 0 0 0 0 0 0 0 0 0 0 0 0 0 0 0 0 0 0 0 0 0 0 0 0 0 0 0 0 0 0 0 0 0 0 0 0 0 0 0 0 0 0 0 0 0 0 0 0 0 0 0 0 0 0 0 0 0 0 0 0 0 0 0 0 0 0 0 0 0 0 0 0 0 0 0 0 0 0 0 0 0 0 0 0 0\n",
      "12/31/2021 14:15:32 - INFO - __main__ -   *** Example ***\n",
      "12/31/2021 14:15:32 - INFO - __main__ -   guid: test-4\n",
      "12/31/2021 14:15:32 - INFO - __main__ -   tokens: [UNK] [UNK] saw their luck desert them in the second match of the group , crashing to a surprise 2 - 0 defeat to newcomers [UNK] .\n",
      "12/31/2021 14:15:32 - INFO - __main__ -   input_ids: 101 100 100 2387 2037 6735 5532 2068 1999 1996 2117 2674 1997 1996 2177 1010 12894 2000 1037 4474 1016 1011 1014 4154 2000 24159 100 1012 102 0 0 0 0 0 0 0 0 0 0 0 0 0 0 0 0 0 0 0 0 0 0 0 0 0 0 0 0 0 0 0 0 0 0 0 0 0 0 0 0 0 0 0 0 0 0 0 0 0 0 0 0 0 0 0 0 0 0 0 0 0 0 0 0 0 0 0 0 0 0 0 0 0 0 0 0 0 0 0 0 0 0 0 0 0 0 0 0 0 0 0 0 0 0 0 0 0 0 0\n",
      "12/31/2021 14:15:32 - INFO - __main__ -   input_mask: 1 1 1 1 1 1 1 1 1 1 1 1 1 1 1 1 1 1 1 1 1 1 1 1 1 1 1 1 1 0 0 0 0 0 0 0 0 0 0 0 0 0 0 0 0 0 0 0 0 0 0 0 0 0 0 0 0 0 0 0 0 0 0 0 0 0 0 0 0 0 0 0 0 0 0 0 0 0 0 0 0 0 0 0 0 0 0 0 0 0 0 0 0 0 0 0 0 0 0 0 0 0 0 0 0 0 0 0 0 0 0 0 0 0 0 0 0 0 0 0 0 0 0 0 0 0 0 0\n",
      "12/31/2021 14:15:32 - INFO - __main__ -   segment_ids: 0 0 0 0 0 0 0 0 0 0 0 0 0 0 0 0 0 0 0 0 0 0 0 0 0 0 0 0 0 0 0 0 0 0 0 0 0 0 0 0 0 0 0 0 0 0 0 0 0 0 0 0 0 0 0 0 0 0 0 0 0 0 0 0 0 0 0 0 0 0 0 0 0 0 0 0 0 0 0 0 0 0 0 0 0 0 0 0 0 0 0 0 0 0 0 0 0 0 0 0 0 0 0 0 0 0 0 0 0 0 0 0 0 0 0 0 0 0 0 0 0 0 0 0 0 0 0 0\n",
      "12/31/2021 14:15:33 - INFO - __main__ -   ***** Running evaluation *****\n",
      "12/31/2021 14:15:33 - INFO - __main__ -     Num examples = 3453\n",
      "12/31/2021 14:15:33 - INFO - __main__ -     Batch size = 64\n",
      "/home/fipulab/.pyenv/versions/3.8.10/lib/python3.8/site-packages/seqeval/metrics/v1.py:57: UndefinedMetricWarning: Precision and F-score are ill-defined and being set to 0.0 in labels with no predicted samples. Use `zero_division` parameter to control this behavior.\n",
      "  _warn_prf(average, modifier, msg_start, len(result))\n",
      "12/31/2021 14:20:11 - INFO - __main__ -   ***** Eval results *****\n",
      "12/31/2021 14:20:11 - INFO - __main__ -   \n",
      "              precision    recall  f1-score   support\n",
      "\n",
      "         LOC     0.1102    0.0318    0.0493      1668\n",
      "        MISC     0.0000    0.0000    0.0000       702\n",
      "         ORG     0.0000    0.0000    0.0000      1661\n",
      "         PER     0.0332    0.0210    0.0257      1617\n",
      "\n",
      "   micro avg     0.0576    0.0154    0.0243      5648\n",
      "   macro avg     0.0358    0.0132    0.0188      5648\n",
      "weighted avg     0.0420    0.0154    0.0219      5648\n",
      "\n"
     ]
    }
   ],
   "source": [
    "!python run_ner.py --data_dir=data/ --bert_model=uncased_L-2_H-128_A-2 --output_dir=uncased_L-2_H-128_A-2_out --max_seq_length=128 --num_train_epochs 1 --do_eval --eval_on test\n"
   ]
  },
  {
   "cell_type": "code",
   "execution_count": 12,
   "id": "31ac3761",
   "metadata": {
    "scrolled": true
   },
   "outputs": [
    {
     "name": "stdout",
     "output_type": "stream",
     "text": [
      "12/31/2021 13:15:33 - INFO - __main__ -   *** Example ***\n",
      "12/31/2021 13:15:33 - INFO - __main__ -   guid: test-0\n",
      "12/31/2021 13:15:33 - INFO - __main__ -   tokens: [UNK] - [UNK] [UNK] [UNK] [UNK] , [UNK] [UNK] [UNK] [UNK] .\n",
      "12/31/2021 13:15:33 - INFO - __main__ -   input_ids: 101 100 1011 100 100 100 100 1010 100 100 100 100 1012 102 0 0 0 0 0 0 0 0 0 0 0 0 0 0 0 0 0 0 0 0 0 0 0 0 0 0 0 0 0 0 0 0 0 0 0 0 0 0 0 0 0 0 0 0 0 0 0 0 0 0 0 0 0 0 0 0 0 0 0 0 0 0 0 0 0 0 0 0 0 0 0 0 0 0 0 0 0 0 0 0 0 0 0 0 0 0 0 0 0 0 0 0 0 0 0 0 0 0 0 0 0 0 0 0 0 0 0 0 0 0 0 0 0 0\n",
      "12/31/2021 13:15:33 - INFO - __main__ -   input_mask: 1 1 1 1 1 1 1 1 1 1 1 1 1 1 0 0 0 0 0 0 0 0 0 0 0 0 0 0 0 0 0 0 0 0 0 0 0 0 0 0 0 0 0 0 0 0 0 0 0 0 0 0 0 0 0 0 0 0 0 0 0 0 0 0 0 0 0 0 0 0 0 0 0 0 0 0 0 0 0 0 0 0 0 0 0 0 0 0 0 0 0 0 0 0 0 0 0 0 0 0 0 0 0 0 0 0 0 0 0 0 0 0 0 0 0 0 0 0 0 0 0 0 0 0 0 0 0 0\n",
      "12/31/2021 13:15:33 - INFO - __main__ -   segment_ids: 0 0 0 0 0 0 0 0 0 0 0 0 0 0 0 0 0 0 0 0 0 0 0 0 0 0 0 0 0 0 0 0 0 0 0 0 0 0 0 0 0 0 0 0 0 0 0 0 0 0 0 0 0 0 0 0 0 0 0 0 0 0 0 0 0 0 0 0 0 0 0 0 0 0 0 0 0 0 0 0 0 0 0 0 0 0 0 0 0 0 0 0 0 0 0 0 0 0 0 0 0 0 0 0 0 0 0 0 0 0 0 0 0 0 0 0 0 0 0 0 0 0 0 0 0 0 0 0\n",
      "12/31/2021 13:15:33 - INFO - __main__ -   *** Example ***\n",
      "12/31/2021 13:15:33 - INFO - __main__ -   guid: test-1\n",
      "12/31/2021 13:15:33 - INFO - __main__ -   tokens: [UNK] [UNK]\n",
      "12/31/2021 13:15:33 - INFO - __main__ -   input_ids: 101 100 100 102 0 0 0 0 0 0 0 0 0 0 0 0 0 0 0 0 0 0 0 0 0 0 0 0 0 0 0 0 0 0 0 0 0 0 0 0 0 0 0 0 0 0 0 0 0 0 0 0 0 0 0 0 0 0 0 0 0 0 0 0 0 0 0 0 0 0 0 0 0 0 0 0 0 0 0 0 0 0 0 0 0 0 0 0 0 0 0 0 0 0 0 0 0 0 0 0 0 0 0 0 0 0 0 0 0 0 0 0 0 0 0 0 0 0 0 0 0 0 0 0 0 0 0 0\n",
      "12/31/2021 13:15:33 - INFO - __main__ -   input_mask: 1 1 1 1 0 0 0 0 0 0 0 0 0 0 0 0 0 0 0 0 0 0 0 0 0 0 0 0 0 0 0 0 0 0 0 0 0 0 0 0 0 0 0 0 0 0 0 0 0 0 0 0 0 0 0 0 0 0 0 0 0 0 0 0 0 0 0 0 0 0 0 0 0 0 0 0 0 0 0 0 0 0 0 0 0 0 0 0 0 0 0 0 0 0 0 0 0 0 0 0 0 0 0 0 0 0 0 0 0 0 0 0 0 0 0 0 0 0 0 0 0 0 0 0 0 0 0 0\n",
      "12/31/2021 13:15:33 - INFO - __main__ -   segment_ids: 0 0 0 0 0 0 0 0 0 0 0 0 0 0 0 0 0 0 0 0 0 0 0 0 0 0 0 0 0 0 0 0 0 0 0 0 0 0 0 0 0 0 0 0 0 0 0 0 0 0 0 0 0 0 0 0 0 0 0 0 0 0 0 0 0 0 0 0 0 0 0 0 0 0 0 0 0 0 0 0 0 0 0 0 0 0 0 0 0 0 0 0 0 0 0 0 0 0 0 0 0 0 0 0 0 0 0 0 0 0 0 0 0 0 0 0 0 0 0 0 0 0 0 0 0 0 0 0\n",
      "12/31/2021 13:15:33 - INFO - __main__ -   *** Example ***\n",
      "12/31/2021 13:15:33 - INFO - __main__ -   guid: test-2\n",
      "12/31/2021 13:15:33 - INFO - __main__ -   tokens: [UNK] - [UNK] , [UNK] [UNK] [UNK] 1996 - 12 - 06\n",
      "12/31/2021 13:15:33 - INFO - __main__ -   input_ids: 101 100 1011 100 1010 100 100 100 2727 1011 2260 1011 5757 102 0 0 0 0 0 0 0 0 0 0 0 0 0 0 0 0 0 0 0 0 0 0 0 0 0 0 0 0 0 0 0 0 0 0 0 0 0 0 0 0 0 0 0 0 0 0 0 0 0 0 0 0 0 0 0 0 0 0 0 0 0 0 0 0 0 0 0 0 0 0 0 0 0 0 0 0 0 0 0 0 0 0 0 0 0 0 0 0 0 0 0 0 0 0 0 0 0 0 0 0 0 0 0 0 0 0 0 0 0 0 0 0 0 0\n",
      "12/31/2021 13:15:33 - INFO - __main__ -   input_mask: 1 1 1 1 1 1 1 1 1 1 1 1 1 1 0 0 0 0 0 0 0 0 0 0 0 0 0 0 0 0 0 0 0 0 0 0 0 0 0 0 0 0 0 0 0 0 0 0 0 0 0 0 0 0 0 0 0 0 0 0 0 0 0 0 0 0 0 0 0 0 0 0 0 0 0 0 0 0 0 0 0 0 0 0 0 0 0 0 0 0 0 0 0 0 0 0 0 0 0 0 0 0 0 0 0 0 0 0 0 0 0 0 0 0 0 0 0 0 0 0 0 0 0 0 0 0 0 0\n",
      "12/31/2021 13:15:33 - INFO - __main__ -   segment_ids: 0 0 0 0 0 0 0 0 0 0 0 0 0 0 0 0 0 0 0 0 0 0 0 0 0 0 0 0 0 0 0 0 0 0 0 0 0 0 0 0 0 0 0 0 0 0 0 0 0 0 0 0 0 0 0 0 0 0 0 0 0 0 0 0 0 0 0 0 0 0 0 0 0 0 0 0 0 0 0 0 0 0 0 0 0 0 0 0 0 0 0 0 0 0 0 0 0 0 0 0 0 0 0 0 0 0 0 0 0 0 0 0 0 0 0 0 0 0 0 0 0 0 0 0 0 0 0 0\n",
      "12/31/2021 13:15:33 - INFO - __main__ -   *** Example ***\n",
      "12/31/2021 13:15:33 - INFO - __main__ -   guid: test-3\n",
      "12/31/2021 13:15:33 - INFO - __main__ -   tokens: [UNK] began the defence of their [UNK] [UNK] title with a lucky 2 - 1 win against [UNK] in a [UNK] [UNK] championship match on [UNK] .\n",
      "12/31/2021 13:15:33 - INFO - __main__ -   input_ids: 101 100 2211 1996 4721 1997 2037 100 100 2516 2007 1037 5341 1016 1011 1015 2663 2114 100 1999 1037 100 100 2528 2674 2006 100 1012 102 0 0 0 0 0 0 0 0 0 0 0 0 0 0 0 0 0 0 0 0 0 0 0 0 0 0 0 0 0 0 0 0 0 0 0 0 0 0 0 0 0 0 0 0 0 0 0 0 0 0 0 0 0 0 0 0 0 0 0 0 0 0 0 0 0 0 0 0 0 0 0 0 0 0 0 0 0 0 0 0 0 0 0 0 0 0 0 0 0 0 0 0 0 0 0 0 0 0 0\n",
      "12/31/2021 13:15:33 - INFO - __main__ -   input_mask: 1 1 1 1 1 1 1 1 1 1 1 1 1 1 1 1 1 1 1 1 1 1 1 1 1 1 1 1 1 0 0 0 0 0 0 0 0 0 0 0 0 0 0 0 0 0 0 0 0 0 0 0 0 0 0 0 0 0 0 0 0 0 0 0 0 0 0 0 0 0 0 0 0 0 0 0 0 0 0 0 0 0 0 0 0 0 0 0 0 0 0 0 0 0 0 0 0 0 0 0 0 0 0 0 0 0 0 0 0 0 0 0 0 0 0 0 0 0 0 0 0 0 0 0 0 0 0 0\n",
      "12/31/2021 13:15:33 - INFO - __main__ -   segment_ids: 0 0 0 0 0 0 0 0 0 0 0 0 0 0 0 0 0 0 0 0 0 0 0 0 0 0 0 0 0 0 0 0 0 0 0 0 0 0 0 0 0 0 0 0 0 0 0 0 0 0 0 0 0 0 0 0 0 0 0 0 0 0 0 0 0 0 0 0 0 0 0 0 0 0 0 0 0 0 0 0 0 0 0 0 0 0 0 0 0 0 0 0 0 0 0 0 0 0 0 0 0 0 0 0 0 0 0 0 0 0 0 0 0 0 0 0 0 0 0 0 0 0 0 0 0 0 0 0\n",
      "12/31/2021 13:15:33 - INFO - __main__ -   *** Example ***\n",
      "12/31/2021 13:15:33 - INFO - __main__ -   guid: test-4\n",
      "12/31/2021 13:15:33 - INFO - __main__ -   tokens: [UNK] [UNK] saw their luck desert them in the second match of the group , crashing to a surprise 2 - 0 defeat to newcomers [UNK] .\n",
      "12/31/2021 13:15:33 - INFO - __main__ -   input_ids: 101 100 100 2387 2037 6735 5532 2068 1999 1996 2117 2674 1997 1996 2177 1010 12894 2000 1037 4474 1016 1011 1014 4154 2000 24159 100 1012 102 0 0 0 0 0 0 0 0 0 0 0 0 0 0 0 0 0 0 0 0 0 0 0 0 0 0 0 0 0 0 0 0 0 0 0 0 0 0 0 0 0 0 0 0 0 0 0 0 0 0 0 0 0 0 0 0 0 0 0 0 0 0 0 0 0 0 0 0 0 0 0 0 0 0 0 0 0 0 0 0 0 0 0 0 0 0 0 0 0 0 0 0 0 0 0 0 0 0 0\n",
      "12/31/2021 13:15:33 - INFO - __main__ -   input_mask: 1 1 1 1 1 1 1 1 1 1 1 1 1 1 1 1 1 1 1 1 1 1 1 1 1 1 1 1 1 0 0 0 0 0 0 0 0 0 0 0 0 0 0 0 0 0 0 0 0 0 0 0 0 0 0 0 0 0 0 0 0 0 0 0 0 0 0 0 0 0 0 0 0 0 0 0 0 0 0 0 0 0 0 0 0 0 0 0 0 0 0 0 0 0 0 0 0 0 0 0 0 0 0 0 0 0 0 0 0 0 0 0 0 0 0 0 0 0 0 0 0 0 0 0 0 0 0 0\n",
      "12/31/2021 13:15:33 - INFO - __main__ -   segment_ids: 0 0 0 0 0 0 0 0 0 0 0 0 0 0 0 0 0 0 0 0 0 0 0 0 0 0 0 0 0 0 0 0 0 0 0 0 0 0 0 0 0 0 0 0 0 0 0 0 0 0 0 0 0 0 0 0 0 0 0 0 0 0 0 0 0 0 0 0 0 0 0 0 0 0 0 0 0 0 0 0 0 0 0 0 0 0 0 0 0 0 0 0 0 0 0 0 0 0 0 0 0 0 0 0 0 0 0 0 0 0 0 0 0 0 0 0 0 0 0 0 0 0 0 0 0 0 0 0\n",
      "12/31/2021 13:15:34 - INFO - __main__ -   ***** Running evaluation *****\n",
      "12/31/2021 13:15:34 - INFO - __main__ -     Num examples = 3453\n",
      "12/31/2021 13:15:34 - INFO - __main__ -     Batch size = 64\n",
      "/home/fipulab/.pyenv/versions/3.8.10/lib/python3.8/site-packages/seqeval/metrics/v1.py:57: UndefinedMetricWarning: Precision and F-score are ill-defined and being set to 0.0 in labels with no predicted samples. Use `zero_division` parameter to control this behavior.\n",
      "  _warn_prf(average, modifier, msg_start, len(result))\n",
      "12/31/2021 13:20:13 - INFO - __main__ -   ***** Eval results *****\n",
      "12/31/2021 13:20:13 - INFO - __main__ -   \n",
      "              precision    recall  f1-score   support\n",
      "\n",
      "         LOC     0.1231    0.1577    0.1382      1668\n",
      "        MISC     0.0000    0.0000    0.0000       702\n",
      "         ORG     0.0000    0.0000    0.0000      1661\n",
      "         PER     0.0417    0.0346    0.0378      1617\n",
      "\n",
      "   micro avg     0.0916    0.0565    0.0699      5648\n",
      "   macro avg     0.0412    0.0481    0.0440      5648\n",
      "weighted avg     0.0483    0.0565    0.0517      5648\n",
      "\n"
     ]
    }
   ],
   "source": [
    "!python run_ner.py --data_dir=data/ --bert_model=uncased_L-2_H-128_A-2 --output_dir=uncased_L-2_H-128_A-2_out0 --max_seq_length=128 --num_train_epochs 1 --do_eval --eval_on test\n"
   ]
  }
 ],
 "metadata": {
  "kernelspec": {
   "display_name": "Python 3 (ipykernel)",
   "language": "python",
   "name": "python3"
  },
  "language_info": {
   "codemirror_mode": {
    "name": "ipython",
    "version": 3
   },
   "file_extension": ".py",
   "mimetype": "text/x-python",
   "name": "python",
   "nbconvert_exporter": "python",
   "pygments_lexer": "ipython3",
   "version": "3.8.10"
  }
 },
 "nbformat": 4,
 "nbformat_minor": 5
}
